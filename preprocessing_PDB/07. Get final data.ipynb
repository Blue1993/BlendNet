{
 "cells": [
  {
   "cell_type": "code",
   "execution_count": 1,
   "id": "61e49730",
   "metadata": {},
   "outputs": [],
   "source": [
    "import pickle\n",
    "import numpy as np\n",
    "import pandas as pd\n",
    "from rdkit import Chem"
   ]
  },
  {
   "cell_type": "markdown",
   "id": "b4454a4f",
   "metadata": {},
   "source": [
    "### 1. Load data"
   ]
  },
  {
   "cell_type": "markdown",
   "id": "7e57c731",
   "metadata": {},
   "source": [
    "#### 1.1 Binding affinity data load "
   ]
  },
  {
   "cell_type": "code",
   "execution_count": 2,
   "id": "86540e51",
   "metadata": {
    "scrolled": true
   },
   "outputs": [
    {
     "name": "stdout",
     "output_type": "stream",
     "text": [
      "[PDBbind]: 13663\n"
     ]
    }
   ],
   "source": [
    "PDBbind_dta_df = pd.read_csv(\"./preprocessed_data/step5_PDBbind_data.tsv\", sep = \"\\t\")\n",
    "print(f\"[PDBbind]: {len(PDBbind_dta_df)}\")"
   ]
  },
  {
   "cell_type": "code",
   "execution_count": 3,
   "id": "7037517e",
   "metadata": {},
   "outputs": [
    {
     "name": "stdout",
     "output_type": "stream",
     "text": [
      "[CASF2016]: 269\n"
     ]
    }
   ],
   "source": [
    "CASF2016_dta_df = pd.read_csv(\"./preprocessed_data/step5_CASF2016_data.tsv\", sep = \"\\t\")\n",
    "print(f\"[CASF2016]: {len(CASF2016_dta_df)}\")"
   ]
  },
  {
   "cell_type": "code",
   "execution_count": 4,
   "id": "ad01ef55",
   "metadata": {},
   "outputs": [
    {
     "name": "stdout",
     "output_type": "stream",
     "text": [
      "[CASF2013]: 172\n"
     ]
    }
   ],
   "source": [
    "CASF2013_dta_df = pd.read_csv(\"./preprocessed_data/step5_CASF2013_data.tsv\", sep = \"\\t\")\n",
    "print(f\"[CASF2013]: {len(CASF2013_dta_df)}\")"
   ]
  },
  {
   "cell_type": "code",
   "execution_count": 5,
   "id": "f399e608",
   "metadata": {},
   "outputs": [
    {
     "name": "stdout",
     "output_type": "stream",
     "text": [
      "[CSAR2014]: 46\n"
     ]
    }
   ],
   "source": [
    "CSAR2014_dta_df = pd.read_csv(\"./preprocessed_data/step5_CSAR2014_data.tsv\", sep = \"\\t\")\n",
    "print(f\"[CSAR2014]: {len(CSAR2014_dta_df)}\")"
   ]
  },
  {
   "cell_type": "code",
   "execution_count": 6,
   "id": "c83589ec",
   "metadata": {},
   "outputs": [
    {
     "name": "stdout",
     "output_type": "stream",
     "text": [
      "[CSAR2012]: 55\n"
     ]
    }
   ],
   "source": [
    "CSAR2012_dta_df = pd.read_csv(\"./preprocessed_data/step5_CSAR2012_data.tsv\", sep = \"\\t\")\n",
    "print(f\"[CSAR2012]: {len(CSAR2012_dta_df)}\")"
   ]
  },
  {
   "cell_type": "code",
   "execution_count": 7,
   "id": "507a2f29",
   "metadata": {},
   "outputs": [
    {
     "name": "stdout",
     "output_type": "stream",
     "text": [
      "[CSARset1]: 152\n"
     ]
    }
   ],
   "source": [
    "CSARset1_dta_df = pd.read_csv(\"./preprocessed_data/step5_CSARset1_data.tsv\", sep = \"\\t\")\n",
    "print(f\"[CSARset1]: {len(CSARset1_dta_df)}\")"
   ]
  },
  {
   "cell_type": "code",
   "execution_count": 8,
   "id": "f9df6620",
   "metadata": {},
   "outputs": [
    {
     "name": "stdout",
     "output_type": "stream",
     "text": [
      "[CSARset2]: 135\n"
     ]
    }
   ],
   "source": [
    "CSARset2_dta_df = pd.read_csv(\"./preprocessed_data/step5_CSARset2_data.tsv\", sep = \"\\t\")\n",
    "print(f\"[CSARset2]: {len(CSARset2_dta_df)}\")"
   ]
  },
  {
   "cell_type": "code",
   "execution_count": 9,
   "id": "934c50db",
   "metadata": {},
   "outputs": [
    {
     "name": "stdout",
     "output_type": "stream",
     "text": [
      "[Astex]: 74\n"
     ]
    }
   ],
   "source": [
    "Astex_dta_df = pd.read_csv(\"./preprocessed_data/step5_Astex_data.tsv\", sep = \"\\t\")\n",
    "print(f\"[Astex]: {len(Astex_dta_df)}\")"
   ]
  },
  {
   "cell_type": "code",
   "execution_count": 10,
   "id": "b8b4eede",
   "metadata": {},
   "outputs": [
    {
     "name": "stdout",
     "output_type": "stream",
     "text": [
      "[COACH420]: 323\n"
     ]
    }
   ],
   "source": [
    "COACH420_dta_df = pd.read_csv(\"./preprocessed_data/step5_COACH420_data.tsv\", sep = \"\\t\")\n",
    "print(f\"[COACH420]: {len(COACH420_dta_df)}\")"
   ]
  },
  {
   "cell_type": "code",
   "execution_count": 11,
   "id": "b1362b0e",
   "metadata": {},
   "outputs": [
    {
     "name": "stdout",
     "output_type": "stream",
     "text": [
      "[HOLO4K]: 3911\n"
     ]
    }
   ],
   "source": [
    "HOLO4K_dta_df = pd.read_csv(\"./preprocessed_data/step5_HOLO4K_data.tsv\", sep = \"\\t\")\n",
    "print(f\"[HOLO4K]: {len(HOLO4K_dta_df)}\")"
   ]
  },
  {
   "cell_type": "markdown",
   "id": "852f7890",
   "metadata": {},
   "source": [
    "#### 1.2 Interacton site data load"
   ]
  },
  {
   "cell_type": "code",
   "execution_count": 12,
   "id": "03ac841a",
   "metadata": {},
   "outputs": [
    {
     "name": "stdout",
     "output_type": "stream",
     "text": [
      "[PDBbind]: 13433\n"
     ]
    }
   ],
   "source": [
    "with open(\"./preprocessed_data/step6_PDBbind_data.pkl\", \"rb\") as f:\n",
    "    PDBbind_interacton_results = pickle.load(f)\n",
    "print(f\"[PDBbind]: {len(PDBbind_interacton_results)}\")"
   ]
  },
  {
   "cell_type": "code",
   "execution_count": 13,
   "id": "356a8bc1",
   "metadata": {},
   "outputs": [
    {
     "name": "stdout",
     "output_type": "stream",
     "text": [
      "[CASF2016]: 268\n"
     ]
    }
   ],
   "source": [
    "with open(\"./preprocessed_data/step6_CASF2016_data.pkl\", \"rb\") as f:\n",
    "    CASF2016_interacton_results = pickle.load(f)\n",
    "print(f\"[CASF2016]: {len(CASF2016_interacton_results)}\")"
   ]
  },
  {
   "cell_type": "code",
   "execution_count": 14,
   "id": "a0e7dcea",
   "metadata": {},
   "outputs": [
    {
     "name": "stdout",
     "output_type": "stream",
     "text": [
      "[CASF2013]: 169\n"
     ]
    }
   ],
   "source": [
    "with open(\"./preprocessed_data/step6_CASF2013_data.pkl\", \"rb\") as f:\n",
    "    CASF2013_interacton_results = pickle.load(f)\n",
    "print(f\"[CASF2013]: {len(CASF2013_interacton_results)}\")"
   ]
  },
  {
   "cell_type": "code",
   "execution_count": 15,
   "id": "ecb52c39",
   "metadata": {},
   "outputs": [
    {
     "name": "stdout",
     "output_type": "stream",
     "text": [
      "[CSAR2014]: 46\n"
     ]
    }
   ],
   "source": [
    "with open(\"./preprocessed_data/step6_CSAR2014_data.pkl\", \"rb\") as f:\n",
    "    CSAR2014_interacton_results = pickle.load(f)\n",
    "print(f\"[CSAR2014]: {len(CSAR2014_interacton_results)}\")"
   ]
  },
  {
   "cell_type": "code",
   "execution_count": 16,
   "id": "8c22f800",
   "metadata": {},
   "outputs": [
    {
     "name": "stdout",
     "output_type": "stream",
     "text": [
      "[CSAR2012]: 55\n"
     ]
    }
   ],
   "source": [
    "with open(\"./preprocessed_data/step6_CSAR2012_data.pkl\", \"rb\") as f:\n",
    "    CSAR2012_interacton_results = pickle.load(f)\n",
    "print(f\"[CSAR2012]: {len(CSAR2012_interacton_results)}\")"
   ]
  },
  {
   "cell_type": "code",
   "execution_count": 17,
   "id": "ffd43d7e",
   "metadata": {},
   "outputs": [
    {
     "name": "stdout",
     "output_type": "stream",
     "text": [
      "[CSARset1]: 152\n"
     ]
    }
   ],
   "source": [
    "with open(\"./preprocessed_data/step6_CSARset1_data.pkl\", \"rb\") as f:\n",
    "    CSARset1_interacton_results = pickle.load(f)\n",
    "print(f\"[CSARset1]: {len(CSARset1_interacton_results)}\")"
   ]
  },
  {
   "cell_type": "code",
   "execution_count": 18,
   "id": "010f95d0",
   "metadata": {},
   "outputs": [
    {
     "name": "stdout",
     "output_type": "stream",
     "text": [
      "[CSARset2]: 132\n"
     ]
    }
   ],
   "source": [
    "with open(\"./preprocessed_data/step6_CSARset2_data.pkl\", \"rb\") as f:\n",
    "    CSARset2_interacton_results = pickle.load(f)\n",
    "print(f\"[CSARset2]: {len(CSARset2_interacton_results)}\")"
   ]
  },
  {
   "cell_type": "code",
   "execution_count": 19,
   "id": "2f6e05f7",
   "metadata": {},
   "outputs": [
    {
     "name": "stdout",
     "output_type": "stream",
     "text": [
      "[Astex]: 74\n"
     ]
    }
   ],
   "source": [
    "with open(\"./preprocessed_data/step6_Astex_data.pkl\", \"rb\") as f:\n",
    "    Astex_interacton_results = pickle.load(f)\n",
    "print(f\"[Astex]: {len(Astex_interacton_results)}\")"
   ]
  },
  {
   "cell_type": "code",
   "execution_count": 20,
   "id": "6095a298",
   "metadata": {},
   "outputs": [
    {
     "name": "stdout",
     "output_type": "stream",
     "text": [
      "[COACH420]: 322\n"
     ]
    }
   ],
   "source": [
    "with open(\"./preprocessed_data/step6_COACH420_data.pkl\", \"rb\") as f:\n",
    "    COACH420_interacton_results = pickle.load(f)\n",
    "print(f\"[COACH420]: {len(COACH420_interacton_results)}\")"
   ]
  },
  {
   "cell_type": "code",
   "execution_count": 21,
   "id": "56a848ce",
   "metadata": {},
   "outputs": [
    {
     "name": "stdout",
     "output_type": "stream",
     "text": [
      "[HOLO4K]: 3901\n"
     ]
    }
   ],
   "source": [
    "with open(\"./preprocessed_data/step6_HOLO4K_data.pkl\", \"rb\") as f:\n",
    "    HOLO4K_interacton_results = pickle.load(f)\n",
    "print(f\"[HOLO4K]: {len(HOLO4K_interacton_results)}\")"
   ]
  },
  {
   "cell_type": "markdown",
   "id": "6a42343a",
   "metadata": {},
   "source": [
    "#### 1.3 Binding site data load"
   ]
  },
  {
   "cell_type": "code",
   "execution_count": 22,
   "id": "b3938a53",
   "metadata": {},
   "outputs": [
    {
     "name": "stdout",
     "output_type": "stream",
     "text": [
      "[scPDB]: 16181\n"
     ]
    }
   ],
   "source": [
    "scPDB_bs_df = pd.read_csv(\"./preprocessed_bs_data/step4_scPDB_data.tsv\", sep = \"\\t\")\n",
    "print(f\"[scPDB]: {len(scPDB_bs_df)}\")"
   ]
  },
  {
   "cell_type": "code",
   "execution_count": 23,
   "id": "61369c18",
   "metadata": {},
   "outputs": [
    {
     "name": "stdout",
     "output_type": "stream",
     "text": [
      "[PDBbind]: 13478\n"
     ]
    }
   ],
   "source": [
    "PDBbind_bs_df = pd.read_csv(\"./preprocessed_bs_data/step4_PDBbind_data.tsv\", sep = \"\\t\")\n",
    "print(f\"[PDBbind]: {len(PDBbind_bs_df)}\")"
   ]
  },
  {
   "cell_type": "code",
   "execution_count": 24,
   "id": "0104605a",
   "metadata": {},
   "outputs": [
    {
     "name": "stdout",
     "output_type": "stream",
     "text": [
      "[CASF2016]: 268\n"
     ]
    }
   ],
   "source": [
    "CASF2016_bs_df = pd.read_csv(\"./preprocessed_bs_data/step4_CASF2016_data.tsv\", sep = \"\\t\")\n",
    "print(f\"[CASF2016]: {len(CASF2016_bs_df)}\")"
   ]
  },
  {
   "cell_type": "code",
   "execution_count": 25,
   "id": "f2c0815f",
   "metadata": {},
   "outputs": [
    {
     "name": "stdout",
     "output_type": "stream",
     "text": [
      "[CASF2013]: 170\n"
     ]
    }
   ],
   "source": [
    "CASF2013_bs_df = pd.read_csv(\"./preprocessed_bs_data/step4_CASF2013_data.tsv\", sep = \"\\t\")\n",
    "print(f\"[CASF2013]: {len(CASF2013_bs_df)}\")"
   ]
  },
  {
   "cell_type": "code",
   "execution_count": 26,
   "id": "9d602899",
   "metadata": {},
   "outputs": [
    {
     "name": "stdout",
     "output_type": "stream",
     "text": [
      "[CSAR2014]: 46\n"
     ]
    }
   ],
   "source": [
    "CSAR2014_bs_df = pd.read_csv(\"./preprocessed_bs_data/step4_CSAR2014_data.tsv\", sep = \"\\t\")\n",
    "print(f\"[CSAR2014]: {len(CSAR2014_bs_df)}\")"
   ]
  },
  {
   "cell_type": "code",
   "execution_count": 27,
   "id": "ea7e6efd",
   "metadata": {},
   "outputs": [
    {
     "name": "stdout",
     "output_type": "stream",
     "text": [
      "[CSAR2012]: 55\n"
     ]
    }
   ],
   "source": [
    "CSAR2012_bs_df = pd.read_csv(\"./preprocessed_bs_data/step4_CSAR2012_data.tsv\", sep = \"\\t\")\n",
    "print(f\"[CSAR2012]: {len(CSAR2012_bs_df)}\")"
   ]
  },
  {
   "cell_type": "code",
   "execution_count": 28,
   "id": "3af62f1c",
   "metadata": {},
   "outputs": [
    {
     "name": "stdout",
     "output_type": "stream",
     "text": [
      "[CSARset1]: 152\n"
     ]
    }
   ],
   "source": [
    "CSARset1_bs_df = pd.read_csv(\"./preprocessed_bs_data/step4_CSARset1_data.tsv\", sep = \"\\t\")\n",
    "print(f\"[CSARset1]: {len(CSARset1_bs_df)}\")"
   ]
  },
  {
   "cell_type": "code",
   "execution_count": 29,
   "id": "03d6d804",
   "metadata": {},
   "outputs": [
    {
     "name": "stdout",
     "output_type": "stream",
     "text": [
      "[CSARset2]: 132\n"
     ]
    }
   ],
   "source": [
    "CSARset2_bs_df = pd.read_csv(\"./preprocessed_bs_data/step4_CSARset2_data.tsv\", sep = \"\\t\")\n",
    "print(f\"[CSARset2]: {len(CSARset2_bs_df)}\")"
   ]
  },
  {
   "cell_type": "code",
   "execution_count": 30,
   "id": "45416e26",
   "metadata": {},
   "outputs": [
    {
     "name": "stdout",
     "output_type": "stream",
     "text": [
      "[Astex]: 74\n"
     ]
    }
   ],
   "source": [
    "Astex_bs_df = pd.read_csv(\"./preprocessed_bs_data/step4_Astex_data.tsv\", sep = \"\\t\")\n",
    "print(f\"[Astex]: {len(Astex_bs_df)}\")"
   ]
  },
  {
   "cell_type": "code",
   "execution_count": 31,
   "id": "1171a667",
   "metadata": {},
   "outputs": [
    {
     "name": "stdout",
     "output_type": "stream",
     "text": [
      "[COACH420]: 322\n"
     ]
    }
   ],
   "source": [
    "COACH420_bs_df = pd.read_csv(\"./preprocessed_bs_data/step4_COACH420_data.tsv\", sep = \"\\t\")\n",
    "print(f\"[COACH420]: {len(COACH420_bs_df)}\")"
   ]
  },
  {
   "cell_type": "code",
   "execution_count": 32,
   "id": "277f9a9e",
   "metadata": {},
   "outputs": [
    {
     "name": "stdout",
     "output_type": "stream",
     "text": [
      "[HOLO4K]: 3899\n"
     ]
    }
   ],
   "source": [
    "HOLO4K_bs_df = pd.read_csv(\"./preprocessed_bs_data/step4_HOLO4K_data.tsv\", sep = \"\\t\")\n",
    "print(f\"[HOLO4K]: {len(HOLO4K_bs_df)}\")"
   ]
  },
  {
   "cell_type": "markdown",
   "id": "24851f3e",
   "metadata": {},
   "source": [
    "### 2. Preprocessing results"
   ]
  },
  {
   "cell_type": "markdown",
   "id": "2e2499ae",
   "metadata": {},
   "source": [
    "#### 2.1 DTA data remove interactions over length"
   ]
  },
  {
   "cell_type": "code",
   "execution_count": 33,
   "id": "5bd7a91d",
   "metadata": {},
   "outputs": [],
   "source": [
    "def remove_over_lengths(dict_):\n",
    "    remove_keys_list = list()\n",
    "    \n",
    "    for key in list(dict_.keys()):\n",
    "        seq_len = len(dict_[key]['uniprot_seq'])\n",
    "        \n",
    "        if seq_len > 1500:\n",
    "            remove_keys_list.append(key)\n",
    "            \n",
    "    for key in remove_keys_list:\n",
    "        del dict_[key]\n",
    "    \n",
    "    return dict_"
   ]
  },
  {
   "cell_type": "code",
   "execution_count": 34,
   "id": "fc3757c4",
   "metadata": {},
   "outputs": [
    {
     "name": "stdout",
     "output_type": "stream",
     "text": [
      "12925\n"
     ]
    }
   ],
   "source": [
    "PDBbind_interacton_results = remove_over_lengths(PDBbind_interacton_results)\n",
    "print(len(PDBbind_interacton_results))"
   ]
  },
  {
   "cell_type": "code",
   "execution_count": 35,
   "id": "3d27f513",
   "metadata": {},
   "outputs": [
    {
     "name": "stdout",
     "output_type": "stream",
     "text": [
      "263\n"
     ]
    }
   ],
   "source": [
    "CASF2016_interacton_results = remove_over_lengths(CASF2016_interacton_results)\n",
    "print(len(CASF2016_interacton_results))"
   ]
  },
  {
   "cell_type": "code",
   "execution_count": 36,
   "id": "6d21a953",
   "metadata": {},
   "outputs": [
    {
     "name": "stdout",
     "output_type": "stream",
     "text": [
      "164\n"
     ]
    }
   ],
   "source": [
    "CASF2013_interacton_results = remove_over_lengths(CASF2013_interacton_results)\n",
    "print(len(CASF2013_interacton_results))"
   ]
  },
  {
   "cell_type": "code",
   "execution_count": 37,
   "id": "73c6cc69",
   "metadata": {},
   "outputs": [
    {
     "name": "stdout",
     "output_type": "stream",
     "text": [
      "46\n"
     ]
    }
   ],
   "source": [
    "CSAR2014_interacton_results = remove_over_lengths(CSAR2014_interacton_results)\n",
    "print(len(CSAR2014_interacton_results))"
   ]
  },
  {
   "cell_type": "code",
   "execution_count": 38,
   "id": "6341eeaf",
   "metadata": {},
   "outputs": [
    {
     "name": "stdout",
     "output_type": "stream",
     "text": [
      "55\n"
     ]
    }
   ],
   "source": [
    "CSAR2012_interacton_results = remove_over_lengths(CSAR2012_interacton_results)\n",
    "print(len(CSAR2012_interacton_results))"
   ]
  },
  {
   "cell_type": "code",
   "execution_count": 39,
   "id": "71a4ecd9",
   "metadata": {},
   "outputs": [
    {
     "name": "stdout",
     "output_type": "stream",
     "text": [
      "151\n"
     ]
    }
   ],
   "source": [
    "CSARset1_interacton_results = remove_over_lengths(CSARset1_interacton_results)\n",
    "print(len(CSARset1_interacton_results))"
   ]
  },
  {
   "cell_type": "code",
   "execution_count": 40,
   "id": "30cc467f",
   "metadata": {},
   "outputs": [
    {
     "name": "stdout",
     "output_type": "stream",
     "text": [
      "130\n"
     ]
    }
   ],
   "source": [
    "CSARset2_interacton_results = remove_over_lengths(CSARset2_interacton_results)\n",
    "print(len(CSARset2_interacton_results))"
   ]
  },
  {
   "cell_type": "code",
   "execution_count": 41,
   "id": "3ba4a4cf",
   "metadata": {},
   "outputs": [
    {
     "name": "stdout",
     "output_type": "stream",
     "text": [
      "72\n"
     ]
    }
   ],
   "source": [
    "Astex_interacton_results = remove_over_lengths(Astex_interacton_results)\n",
    "print(len(Astex_interacton_results))"
   ]
  },
  {
   "cell_type": "code",
   "execution_count": 42,
   "id": "1894e927",
   "metadata": {},
   "outputs": [
    {
     "name": "stdout",
     "output_type": "stream",
     "text": [
      "320\n"
     ]
    }
   ],
   "source": [
    "COACH420_interacton_results = remove_over_lengths(COACH420_interacton_results)\n",
    "print(len(COACH420_interacton_results))"
   ]
  },
  {
   "cell_type": "code",
   "execution_count": 43,
   "id": "a4c38489",
   "metadata": {},
   "outputs": [
    {
     "name": "stdout",
     "output_type": "stream",
     "text": [
      "3885\n"
     ]
    }
   ],
   "source": [
    "HOLO4K_interacton_results = remove_over_lengths(HOLO4K_interacton_results)\n",
    "print(len(HOLO4K_interacton_results))"
   ]
  },
  {
   "cell_type": "markdown",
   "id": "4360a512",
   "metadata": {},
   "source": [
    "#### 2.2 Remove zero PLIP"
   ]
  },
  {
   "cell_type": "code",
   "execution_count": 44,
   "id": "e330932a",
   "metadata": {},
   "outputs": [],
   "source": [
    "def check_interaction(input_dict):\n",
    "    remove_keys_list = list()\n",
    "    \n",
    "    for key in list(input_dict.keys()):\n",
    "\n",
    "        atom_bond = input_dict[key]['atom_bond_type']\n",
    "        residue_bond = input_dict[key]['residue_bond_type']\n",
    "\n",
    "        if len(atom_bond) == 0 or len(residue_bond) == 0:\n",
    "            remove_keys_list.append(key)\n",
    "    \n",
    "    for key in remove_keys_list:\n",
    "        del input_dict[key]\n",
    "    \n",
    "    return input_dict"
   ]
  },
  {
   "cell_type": "code",
   "execution_count": 45,
   "id": "cfe52840",
   "metadata": {},
   "outputs": [
    {
     "name": "stdout",
     "output_type": "stream",
     "text": [
      "12913\n"
     ]
    }
   ],
   "source": [
    "PDBbind_interacton_results = check_interaction(PDBbind_interacton_results)\n",
    "print(len(PDBbind_interacton_results))"
   ]
  },
  {
   "cell_type": "code",
   "execution_count": 46,
   "id": "9191845a",
   "metadata": {},
   "outputs": [
    {
     "name": "stdout",
     "output_type": "stream",
     "text": [
      "262\n"
     ]
    }
   ],
   "source": [
    "CASF2016_interacton_results = check_interaction(CASF2016_interacton_results)\n",
    "print(len(CASF2016_interacton_results))"
   ]
  },
  {
   "cell_type": "code",
   "execution_count": 47,
   "id": "70bc724d",
   "metadata": {},
   "outputs": [
    {
     "name": "stdout",
     "output_type": "stream",
     "text": [
      "164\n"
     ]
    }
   ],
   "source": [
    "CASF2013_interacton_results = check_interaction(CASF2013_interacton_results)\n",
    "print(len(CASF2013_interacton_results))"
   ]
  },
  {
   "cell_type": "code",
   "execution_count": 48,
   "id": "98601fc2",
   "metadata": {},
   "outputs": [
    {
     "name": "stdout",
     "output_type": "stream",
     "text": [
      "46\n"
     ]
    }
   ],
   "source": [
    "CSAR2014_interacton_results = check_interaction(CSAR2014_interacton_results)\n",
    "print(len(CSAR2014_interacton_results))"
   ]
  },
  {
   "cell_type": "code",
   "execution_count": 49,
   "id": "84a8fa43",
   "metadata": {},
   "outputs": [
    {
     "name": "stdout",
     "output_type": "stream",
     "text": [
      "55\n"
     ]
    }
   ],
   "source": [
    "CSAR2012_interacton_results = check_interaction(CSAR2012_interacton_results)\n",
    "print(len(CSAR2012_interacton_results))"
   ]
  },
  {
   "cell_type": "code",
   "execution_count": 50,
   "id": "0665339a",
   "metadata": {},
   "outputs": [
    {
     "name": "stdout",
     "output_type": "stream",
     "text": [
      "151\n"
     ]
    }
   ],
   "source": [
    "CSARset1_interacton_results = check_interaction(CSARset1_interacton_results)\n",
    "print(len(CSARset1_interacton_results))"
   ]
  },
  {
   "cell_type": "code",
   "execution_count": 51,
   "id": "8a6216de",
   "metadata": {},
   "outputs": [
    {
     "name": "stdout",
     "output_type": "stream",
     "text": [
      "130\n"
     ]
    }
   ],
   "source": [
    "CSARset2_interacton_results = check_interaction(CSARset2_interacton_results)\n",
    "print(len(CSARset2_interacton_results))"
   ]
  },
  {
   "cell_type": "code",
   "execution_count": 52,
   "id": "fbb84316",
   "metadata": {},
   "outputs": [
    {
     "name": "stdout",
     "output_type": "stream",
     "text": [
      "72\n"
     ]
    }
   ],
   "source": [
    "Astex_interacton_results = check_interaction(Astex_interacton_results)\n",
    "print(len(Astex_interacton_results))"
   ]
  },
  {
   "cell_type": "code",
   "execution_count": 53,
   "id": "dbe2d6c8",
   "metadata": {},
   "outputs": [
    {
     "name": "stdout",
     "output_type": "stream",
     "text": [
      "320\n"
     ]
    }
   ],
   "source": [
    "COACH420_interacton_results = check_interaction(COACH420_interacton_results)\n",
    "print(len(COACH420_interacton_results))"
   ]
  },
  {
   "cell_type": "code",
   "execution_count": 54,
   "id": "46b48e75",
   "metadata": {},
   "outputs": [
    {
     "name": "stdout",
     "output_type": "stream",
     "text": [
      "3881\n"
     ]
    }
   ],
   "source": [
    "HOLO4K_interacton_results = check_interaction(HOLO4K_interacton_results)\n",
    "print(len(HOLO4K_interacton_results))"
   ]
  },
  {
   "cell_type": "markdown",
   "id": "3d64106f",
   "metadata": {},
   "source": [
    "#### 2.3 Binding site data remove protein over length"
   ]
  },
  {
   "cell_type": "code",
   "execution_count": 55,
   "id": "539e20ca",
   "metadata": {},
   "outputs": [
    {
     "name": "stdout",
     "output_type": "stream",
     "text": [
      "15856\n"
     ]
    }
   ],
   "source": [
    "scPDB_bs_df = scPDB_bs_df[scPDB_bs_df['Uniprot_Seqs'].apply(len) <= 1500].reset_index(drop=True)\n",
    "scPDB_bs_df = scPDB_bs_df.dropna(axis = 0).reset_index(drop=True)\n",
    "print(len(scPDB_bs_df))"
   ]
  },
  {
   "cell_type": "code",
   "execution_count": 56,
   "id": "f6c87a42",
   "metadata": {},
   "outputs": [
    {
     "name": "stdout",
     "output_type": "stream",
     "text": [
      "12967\n"
     ]
    }
   ],
   "source": [
    "PDBbind_bs_df = PDBbind_bs_df[PDBbind_bs_df['Uniprot_Seqs'].apply(len) <= 1500].reset_index(drop=True)\n",
    "PDBbind_bs_df = PDBbind_bs_df.dropna(axis = 0).reset_index(drop=True)\n",
    "print(len(PDBbind_bs_df))"
   ]
  },
  {
   "cell_type": "code",
   "execution_count": 57,
   "id": "85a69515",
   "metadata": {},
   "outputs": [
    {
     "name": "stdout",
     "output_type": "stream",
     "text": [
      "262\n"
     ]
    }
   ],
   "source": [
    "CASF2016_bs_df = CASF2016_bs_df[CASF2016_bs_df['Uniprot_Seqs'].apply(len) <= 1500].reset_index(drop=True)\n",
    "CASF2016_bs_df = CASF2016_bs_df.dropna(axis = 0).reset_index(drop=True)\n",
    "print(len(CASF2016_bs_df))"
   ]
  },
  {
   "cell_type": "code",
   "execution_count": 58,
   "id": "e24d9049",
   "metadata": {},
   "outputs": [
    {
     "name": "stdout",
     "output_type": "stream",
     "text": [
      "165\n"
     ]
    }
   ],
   "source": [
    "CASF2013_bs_df = CASF2013_bs_df[CASF2013_bs_df['Uniprot_Seqs'].apply(len) <= 1500].reset_index(drop=True)\n",
    "CASF2013_bs_df = CASF2013_bs_df.dropna(axis = 0).reset_index(drop=True)\n",
    "print(len(CASF2013_bs_df))"
   ]
  },
  {
   "cell_type": "code",
   "execution_count": 59,
   "id": "0bec928b",
   "metadata": {},
   "outputs": [
    {
     "name": "stdout",
     "output_type": "stream",
     "text": [
      "46\n"
     ]
    }
   ],
   "source": [
    "CSAR2014_bs_df = CSAR2014_bs_df[CSAR2014_bs_df['Uniprot_Seqs'].apply(len) <= 1500].reset_index(drop=True)\n",
    "CSAR2014_bs_df = CSAR2014_bs_df.dropna(axis = 0).reset_index(drop=True)\n",
    "print(len(CSAR2014_bs_df))"
   ]
  },
  {
   "cell_type": "code",
   "execution_count": 60,
   "id": "bb85f1e9",
   "metadata": {},
   "outputs": [
    {
     "name": "stdout",
     "output_type": "stream",
     "text": [
      "55\n"
     ]
    }
   ],
   "source": [
    "CSAR2012_bs_df = CSAR2012_bs_df[CSAR2012_bs_df['Uniprot_Seqs'].apply(len) <= 1500].reset_index(drop=True)\n",
    "CSAR2012_bs_df = CSAR2012_bs_df.dropna(axis = 0).reset_index(drop=True)\n",
    "print(len(CSAR2012_bs_df))"
   ]
  },
  {
   "cell_type": "code",
   "execution_count": 61,
   "id": "1ba7a611",
   "metadata": {},
   "outputs": [
    {
     "name": "stdout",
     "output_type": "stream",
     "text": [
      "151\n"
     ]
    }
   ],
   "source": [
    "CSARset1_bs_df = CSARset1_bs_df[CSARset1_bs_df['Uniprot_Seqs'].apply(len) <= 1500].reset_index(drop=True)\n",
    "CSARset1_bs_df = CSARset1_bs_df.dropna(axis = 0).reset_index(drop=True)\n",
    "print(len(CSARset1_bs_df))"
   ]
  },
  {
   "cell_type": "code",
   "execution_count": 62,
   "id": "18d259e3",
   "metadata": {},
   "outputs": [
    {
     "name": "stdout",
     "output_type": "stream",
     "text": [
      "130\n"
     ]
    }
   ],
   "source": [
    "CSARset2_bs_df = CSARset2_bs_df[CSARset2_bs_df['Uniprot_Seqs'].apply(len) <= 1500].reset_index(drop=True)\n",
    "CSARset2_bs_df = CSARset2_bs_df.dropna(axis = 0).reset_index(drop=True)\n",
    "print(len(CSARset2_bs_df))"
   ]
  },
  {
   "cell_type": "code",
   "execution_count": 63,
   "id": "9218c9d9",
   "metadata": {},
   "outputs": [
    {
     "name": "stdout",
     "output_type": "stream",
     "text": [
      "72\n"
     ]
    }
   ],
   "source": [
    "Astex_bs_df = Astex_bs_df[Astex_bs_df['Uniprot_Seqs'].apply(len) <= 1500].reset_index(drop=True)\n",
    "Astex_bs_df = Astex_bs_df.dropna(axis = 0).reset_index(drop=True)\n",
    "print(len(Astex_bs_df))"
   ]
  },
  {
   "cell_type": "code",
   "execution_count": 64,
   "id": "8846613b",
   "metadata": {},
   "outputs": [
    {
     "name": "stdout",
     "output_type": "stream",
     "text": [
      "320\n"
     ]
    }
   ],
   "source": [
    "COACH420_bs_df = COACH420_bs_df[COACH420_bs_df['Uniprot_Seqs'].apply(len) <= 1500].reset_index(drop=True)\n",
    "COACH420_bs_df = COACH420_bs_df.dropna(axis = 0).reset_index(drop=True)\n",
    "print(len(COACH420_bs_df))"
   ]
  },
  {
   "cell_type": "code",
   "execution_count": 65,
   "id": "2f3d5906",
   "metadata": {},
   "outputs": [
    {
     "name": "stdout",
     "output_type": "stream",
     "text": [
      "3883\n"
     ]
    }
   ],
   "source": [
    "HOLO4K_bs_df = HOLO4K_bs_df[HOLO4K_bs_df['Uniprot_Seqs'].apply(len) <= 1500].reset_index(drop=True)\n",
    "HOLO4K_bs_df = HOLO4K_bs_df.dropna(axis = 0).reset_index(drop=True)\n",
    "print(len(HOLO4K_bs_df))"
   ]
  },
  {
   "cell_type": "markdown",
   "id": "88d6f1df",
   "metadata": {},
   "source": [
    "#### 2.4 Check DTA and binding sites data"
   ]
  },
  {
   "cell_type": "code",
   "execution_count": 66,
   "id": "666e2670",
   "metadata": {},
   "outputs": [],
   "source": [
    "def cross_check(input_dict, input_list):\n",
    "    remove_keys_list = list()\n",
    "    \n",
    "    for key in list(input_dict.keys()):\n",
    "        if key not in input_list:\n",
    "            remove_keys_list.append(key)\n",
    "\n",
    "    for key in remove_keys_list:\n",
    "        del input_dict[key]\n",
    "    \n",
    "    return input_dict"
   ]
  },
  {
   "cell_type": "code",
   "execution_count": 67,
   "id": "a6bec231",
   "metadata": {},
   "outputs": [
    {
     "data": {
      "text/plain": [
       "12912"
      ]
     },
     "execution_count": 67,
     "metadata": {},
     "output_type": "execute_result"
    }
   ],
   "source": [
    "PDBbind_bs_list = [f\"{i}_{j}\" for i, j in zip(PDBbind_bs_df.PDB_IDs.values, PDBbind_bs_df.Lig_codes.values)]\n",
    "PDBbind_interacton_results = cross_check(PDBbind_interacton_results, PDBbind_bs_list)\n",
    "len(PDBbind_interacton_results)"
   ]
  },
  {
   "cell_type": "code",
   "execution_count": 68,
   "id": "725db00e",
   "metadata": {},
   "outputs": [
    {
     "data": {
      "text/plain": [
       "262"
      ]
     },
     "execution_count": 68,
     "metadata": {},
     "output_type": "execute_result"
    }
   ],
   "source": [
    "CASF2016_bs_list = [f\"{i}_{j}\" for i, j in zip(CASF2016_bs_df.PDB_IDs.values, CASF2016_bs_df.Lig_codes.values)]\n",
    "CASF2016_interacton_results = cross_check(CASF2016_interacton_results, CASF2016_bs_list)\n",
    "len(CASF2016_interacton_results)"
   ]
  },
  {
   "cell_type": "code",
   "execution_count": 69,
   "id": "c74d6493",
   "metadata": {},
   "outputs": [
    {
     "data": {
      "text/plain": [
       "164"
      ]
     },
     "execution_count": 69,
     "metadata": {},
     "output_type": "execute_result"
    }
   ],
   "source": [
    "CASF2013_bs_list = [f\"{i}_{j}\" for i, j in zip(CASF2013_bs_df.PDB_IDs.values, CASF2013_bs_df.Lig_codes.values)]\n",
    "CASF2013_interacton_results = cross_check(CASF2013_interacton_results, CASF2013_bs_list)\n",
    "len(CASF2013_interacton_results)"
   ]
  },
  {
   "cell_type": "code",
   "execution_count": 70,
   "id": "c61be67b",
   "metadata": {},
   "outputs": [
    {
     "data": {
      "text/plain": [
       "46"
      ]
     },
     "execution_count": 70,
     "metadata": {},
     "output_type": "execute_result"
    }
   ],
   "source": [
    "CSAR2014_bs_list = [f\"{i}_{j}\" for i, j in zip(CSAR2014_bs_df.PDB_IDs.values, CSAR2014_bs_df.Lig_codes.values)]\n",
    "CSAR2014_interacton_results = cross_check(CSAR2014_interacton_results, CSAR2014_bs_list)\n",
    "len(CSAR2014_interacton_results)"
   ]
  },
  {
   "cell_type": "code",
   "execution_count": 71,
   "id": "76bf0d23",
   "metadata": {},
   "outputs": [
    {
     "data": {
      "text/plain": [
       "55"
      ]
     },
     "execution_count": 71,
     "metadata": {},
     "output_type": "execute_result"
    }
   ],
   "source": [
    "CSAR2012_bs_list = [f\"{i}_{j}\" for i, j in zip(CSAR2012_bs_df.PDB_IDs.values, CSAR2012_bs_df.Lig_codes.values)]\n",
    "CSAR2012_interacton_results = cross_check(CSAR2012_interacton_results, CSAR2012_bs_list)\n",
    "len(CSAR2012_interacton_results)"
   ]
  },
  {
   "cell_type": "code",
   "execution_count": 72,
   "id": "8d175876",
   "metadata": {},
   "outputs": [
    {
     "data": {
      "text/plain": [
       "151"
      ]
     },
     "execution_count": 72,
     "metadata": {},
     "output_type": "execute_result"
    }
   ],
   "source": [
    "CSARset1_bs_list = [f\"{i}_{j}\" for i, j in zip(CSARset1_bs_df.PDB_IDs.values, CSARset1_bs_df.Lig_codes.values)]\n",
    "CSARset1_interacton_results = cross_check(CSARset1_interacton_results, CSARset1_bs_list)\n",
    "len(CSARset1_interacton_results)"
   ]
  },
  {
   "cell_type": "code",
   "execution_count": 73,
   "id": "14ac5bb2",
   "metadata": {},
   "outputs": [
    {
     "data": {
      "text/plain": [
       "130"
      ]
     },
     "execution_count": 73,
     "metadata": {},
     "output_type": "execute_result"
    }
   ],
   "source": [
    "CSARset2_bs_list = [f\"{i}_{j}\" for i, j in zip(CSARset2_bs_df.PDB_IDs.values, CSARset2_bs_df.Lig_codes.values)]\n",
    "CSARset2_interacton_results = cross_check(CSARset2_interacton_results, CSARset2_bs_list)\n",
    "len(CSARset2_interacton_results)"
   ]
  },
  {
   "cell_type": "code",
   "execution_count": 74,
   "id": "0be5bc10",
   "metadata": {},
   "outputs": [
    {
     "data": {
      "text/plain": [
       "72"
      ]
     },
     "execution_count": 74,
     "metadata": {},
     "output_type": "execute_result"
    }
   ],
   "source": [
    "Astex_bs_list = [f\"{i}_{j}\" for i, j in zip(Astex_bs_df.PDB_IDs.values, Astex_bs_df.Lig_codes.values)]\n",
    "Astex_interacton_results = cross_check(Astex_interacton_results, Astex_bs_list)\n",
    "len(Astex_interacton_results)"
   ]
  },
  {
   "cell_type": "code",
   "execution_count": 75,
   "id": "5395daf6",
   "metadata": {},
   "outputs": [
    {
     "data": {
      "text/plain": [
       "320"
      ]
     },
     "execution_count": 75,
     "metadata": {},
     "output_type": "execute_result"
    }
   ],
   "source": [
    "COACH420_bs_list = [f\"{i}_{j}\" for i, j in zip(COACH420_bs_df.PDB_IDs.values, COACH420_bs_df.Lig_codes.values)]\n",
    "COACH420_interacton_results = cross_check(COACH420_interacton_results, COACH420_bs_list)\n",
    "len(COACH420_interacton_results)"
   ]
  },
  {
   "cell_type": "code",
   "execution_count": 76,
   "id": "2a8e104c",
   "metadata": {},
   "outputs": [
    {
     "data": {
      "text/plain": [
       "3881"
      ]
     },
     "execution_count": 76,
     "metadata": {},
     "output_type": "execute_result"
    }
   ],
   "source": [
    "HOLO4K_bs_list = [f\"{i}_{j}\" for i, j in zip(HOLO4K_bs_df.PDB_IDs.values, HOLO4K_bs_df.Lig_codes.values)]\n",
    "HOLO4K_interacton_results = cross_check(HOLO4K_interacton_results, HOLO4K_bs_list)\n",
    "len(HOLO4K_interacton_results)"
   ]
  },
  {
   "cell_type": "markdown",
   "id": "3812cefe",
   "metadata": {},
   "source": [
    "### 3. Remove duplicate interaction in binding site data"
   ]
  },
  {
   "cell_type": "code",
   "execution_count": 77,
   "id": "4b635d87",
   "metadata": {},
   "outputs": [],
   "source": [
    "def get_list(df):\n",
    "    results = list()\n",
    "    \n",
    "    for line in df.values:\n",
    "        pdbid, lig_code = line[0], line[1]\n",
    "        results.append(f\"{pdbid}_{lig_code}\")\n",
    "    return results"
   ]
  },
  {
   "cell_type": "code",
   "execution_count": 78,
   "id": "509e1d89",
   "metadata": {},
   "outputs": [
    {
     "name": "stdout",
     "output_type": "stream",
     "text": [
      "15856\n"
     ]
    }
   ],
   "source": [
    "scPDB_bs_list = get_list(scPDB_bs_df)\n",
    "print(len(scPDB_bs_list))"
   ]
  },
  {
   "cell_type": "code",
   "execution_count": 79,
   "id": "36ce2ba9",
   "metadata": {},
   "outputs": [
    {
     "name": "stdout",
     "output_type": "stream",
     "text": [
      "12967\n"
     ]
    }
   ],
   "source": [
    "PDBbind_bs_list = get_list(PDBbind_bs_df)\n",
    "print(len(PDBbind_bs_list))"
   ]
  },
  {
   "cell_type": "code",
   "execution_count": 80,
   "id": "4a5a3b15",
   "metadata": {},
   "outputs": [
    {
     "name": "stdout",
     "output_type": "stream",
     "text": [
      "262\n"
     ]
    }
   ],
   "source": [
    "CASF2016_bs_list = get_list(CASF2016_bs_df)\n",
    "print(len(CASF2016_bs_list))"
   ]
  },
  {
   "cell_type": "code",
   "execution_count": 81,
   "id": "c8b0f4e8",
   "metadata": {},
   "outputs": [
    {
     "name": "stdout",
     "output_type": "stream",
     "text": [
      "165\n"
     ]
    }
   ],
   "source": [
    "CASF2013_bs_list = get_list(CASF2013_bs_df)\n",
    "print(len(CASF2013_bs_list))"
   ]
  },
  {
   "cell_type": "code",
   "execution_count": 82,
   "id": "4f21d52f",
   "metadata": {},
   "outputs": [
    {
     "name": "stdout",
     "output_type": "stream",
     "text": [
      "46\n"
     ]
    }
   ],
   "source": [
    "CSAR2014_bs_list = get_list(CSAR2014_bs_df)\n",
    "print(len(CSAR2014_bs_list))"
   ]
  },
  {
   "cell_type": "code",
   "execution_count": 83,
   "id": "63ccb697",
   "metadata": {},
   "outputs": [
    {
     "name": "stdout",
     "output_type": "stream",
     "text": [
      "55\n"
     ]
    }
   ],
   "source": [
    "CSAR2012_bs_list = get_list(CSAR2012_bs_df)\n",
    "print(len(CSAR2012_bs_list))"
   ]
  },
  {
   "cell_type": "code",
   "execution_count": 84,
   "id": "b0be1426",
   "metadata": {},
   "outputs": [
    {
     "name": "stdout",
     "output_type": "stream",
     "text": [
      "151\n"
     ]
    }
   ],
   "source": [
    "CSARset1_bs_list = get_list(CSARset1_bs_df)\n",
    "print(len(CSARset1_bs_list))"
   ]
  },
  {
   "cell_type": "code",
   "execution_count": 85,
   "id": "6c5736b6",
   "metadata": {},
   "outputs": [
    {
     "name": "stdout",
     "output_type": "stream",
     "text": [
      "130\n"
     ]
    }
   ],
   "source": [
    "CSARset2_bs_list = get_list(CSARset2_bs_df)\n",
    "print(len(CSARset2_bs_list))"
   ]
  },
  {
   "cell_type": "code",
   "execution_count": 86,
   "id": "dae9c7e4",
   "metadata": {},
   "outputs": [
    {
     "name": "stdout",
     "output_type": "stream",
     "text": [
      "72\n"
     ]
    }
   ],
   "source": [
    "Astex_bs_list = get_list(Astex_bs_df)\n",
    "print(len(Astex_bs_list))"
   ]
  },
  {
   "cell_type": "code",
   "execution_count": 87,
   "id": "02b44831",
   "metadata": {},
   "outputs": [
    {
     "name": "stdout",
     "output_type": "stream",
     "text": [
      "320\n"
     ]
    }
   ],
   "source": [
    "COACH420_bs_list = get_list(COACH420_bs_df)\n",
    "print(len(COACH420_bs_list))"
   ]
  },
  {
   "cell_type": "code",
   "execution_count": 88,
   "id": "3a5b3f0e",
   "metadata": {},
   "outputs": [
    {
     "name": "stdout",
     "output_type": "stream",
     "text": [
      "3883\n"
     ]
    }
   ],
   "source": [
    "HOLO4K_bs_list = get_list(HOLO4K_bs_df)\n",
    "print(len(HOLO4K_bs_list))"
   ]
  },
  {
   "cell_type": "code",
   "execution_count": 89,
   "id": "4cb96f0b",
   "metadata": {},
   "outputs": [
    {
     "name": "stdout",
     "output_type": "stream",
     "text": [
      "25241\n"
     ]
    }
   ],
   "source": [
    "BS_training = list(set(scPDB_bs_list) | set(PDBbind_bs_list))\n",
    "print(len(BS_training))"
   ]
  },
  {
   "cell_type": "code",
   "execution_count": 90,
   "id": "a19192a9",
   "metadata": {},
   "outputs": [
    {
     "name": "stdout",
     "output_type": "stream",
     "text": [
      "23291\n"
     ]
    }
   ],
   "source": [
    "BS_training = list(set(BS_training) - set(CASF2016_bs_list) - set(CASF2013_bs_list) - set(CSAR2014_bs_list) \n",
    "                   - set(CSAR2012_bs_list) - set(CSARset1_bs_list) - set(CSARset2_bs_list) \n",
    "                    - set(Astex_bs_list) - set(COACH420_bs_list) - set(HOLO4K_bs_list))\n",
    "print(len(BS_training))"
   ]
  },
  {
   "cell_type": "markdown",
   "id": "a2f39f28",
   "metadata": {},
   "source": [
    "### 4. Make DTA dataset"
   ]
  },
  {
   "cell_type": "code",
   "execution_count": 91,
   "id": "0e36f197",
   "metadata": {},
   "outputs": [],
   "source": [
    "def make_dta_dataset(df, interaction_results):\n",
    "    results = {\"PDB_IDs\":[], \"Uniprot_IDs\":[], \"Ligand_Codes\":[], \"Labels\":[], \"Uniprot_Seqs\":[], \"ISO_SMILES\":[]}\n",
    "    pdbid_list, lig_code_list, label_list, smiles_iso_list = df.PDB.values, df.Lig_code.values, df.Labels.values, df.RDKit_iso_SMILES.values\n",
    "    \n",
    "    for pdbid, lig_code, label, iso_smiles in zip(pdbid_list, lig_code_list, label_list, smiles_iso_list):\n",
    "        \n",
    "        if f\"{pdbid}_{lig_code}\" in interaction_results:\n",
    "        \n",
    "            uniprot_id, uniprot_seq = interaction_results[f\"{pdbid}_{lig_code}\"]['uniprot_id'], interaction_results[f\"{pdbid}_{lig_code}\"]['uniprot_seq']\n",
    "            \n",
    "            results[\"PDB_IDs\"].append(pdbid)\n",
    "            results['Uniprot_IDs'].append(uniprot_id)\n",
    "            results['Ligand_Codes'].append(lig_code)\n",
    "            results['Labels'].append(label)\n",
    "            results['Uniprot_Seqs'].append(uniprot_seq)\n",
    "            results['ISO_SMILES'].append(iso_smiles)\n",
    "    \n",
    "    return pd.DataFrame(results)"
   ]
  },
  {
   "cell_type": "code",
   "execution_count": 92,
   "id": "2cdc5a02",
   "metadata": {},
   "outputs": [
    {
     "name": "stdout",
     "output_type": "stream",
     "text": [
      "12912\n",
      "262\n",
      "164\n",
      "46\n",
      "55\n",
      "151\n",
      "130\n",
      "72\n"
     ]
    }
   ],
   "source": [
    "PDBbind_dta_df = make_dta_dataset(PDBbind_dta_df, PDBbind_interacton_results)\n",
    "print(len(PDBbind_dta_df))\n",
    "\n",
    "CASF2016_dta_df = make_dta_dataset(CASF2016_dta_df, CASF2016_interacton_results)\n",
    "print(len(CASF2016_dta_df))\n",
    "\n",
    "CASF2013_dta_df = make_dta_dataset(CASF2013_dta_df, CASF2013_interacton_results)\n",
    "print(len(CASF2013_dta_df))\n",
    "\n",
    "CSAR2014_dta_df = make_dta_dataset(CSAR2014_dta_df, CSAR2014_interacton_results)\n",
    "print(len(CSAR2014_dta_df))\n",
    "\n",
    "CSAR2012_dta_df = make_dta_dataset(CSAR2012_dta_df, CSAR2012_interacton_results)\n",
    "print(len(CSAR2012_dta_df))\n",
    "\n",
    "CSARset1_dta_df = make_dta_dataset(CSARset1_dta_df, CSARset1_interacton_results)\n",
    "print(len(CSARset1_dta_df))\n",
    "\n",
    "CSARset2_dta_df = make_dta_dataset(CSARset2_dta_df, CSARset2_interacton_results)\n",
    "print(len(CSARset2_dta_df))\n",
    "\n",
    "Astex_dta_df = make_dta_dataset(Astex_dta_df, Astex_interacton_results)\n",
    "print(len(Astex_dta_df))"
   ]
  },
  {
   "cell_type": "code",
   "execution_count": 93,
   "id": "afff2318",
   "metadata": {},
   "outputs": [],
   "source": [
    "def make_dta_dataset(df, interaction_results):\n",
    "    results = {\"PDB_IDs\":[], \"Uniprot_IDs\":[], \"Ligand_Codes\":[], \"Uniprot_Seqs\":[], \"ISO_SMILES\":[]}\n",
    "    pdbid_list, lig_code_list, smiles_iso_list = df.PDB.values, df.Lig_code.values, df.RDKit_iso_SMILES.values\n",
    "    \n",
    "    for pdbid, lig_code, iso_smiles in zip(pdbid_list, lig_code_list, smiles_iso_list):\n",
    "        \n",
    "        if f\"{pdbid}_{lig_code}\" in interaction_results:\n",
    "        \n",
    "            uniprot_id, uniprot_seq = interaction_results[f\"{pdbid}_{lig_code}\"]['uniprot_id'], interaction_results[f\"{pdbid}_{lig_code}\"]['uniprot_seq']\n",
    "            \n",
    "            results[\"PDB_IDs\"].append(pdbid)\n",
    "            results['Uniprot_IDs'].append(uniprot_id)\n",
    "            results['Ligand_Codes'].append(lig_code)\n",
    "            results['Uniprot_Seqs'].append(uniprot_seq)\n",
    "            results['ISO_SMILES'].append(iso_smiles)\n",
    "    \n",
    "    return pd.DataFrame(results)"
   ]
  },
  {
   "cell_type": "code",
   "execution_count": 94,
   "id": "ba403404",
   "metadata": {},
   "outputs": [
    {
     "name": "stdout",
     "output_type": "stream",
     "text": [
      "320\n",
      "3881\n"
     ]
    }
   ],
   "source": [
    "COACH420_IS_df = make_dta_dataset(COACH420_dta_df, COACH420_interacton_results)\n",
    "print(len(COACH420_IS_df))\n",
    "\n",
    "HOLO4K_IS_df = make_dta_dataset(HOLO4K_dta_df, HOLO4K_interacton_results)\n",
    "print(len(HOLO4K_IS_df))"
   ]
  },
  {
   "cell_type": "code",
   "execution_count": 107,
   "id": "f8c9404a",
   "metadata": {},
   "outputs": [],
   "source": [
    "PDBbind_dta_df.to_csv(\"../input_data/PDB/BA/Training_BA_data.tsv\", sep = \"\\t\", index = False)\n",
    "CASF2016_dta_df.to_csv(\"../input_data/PDB/BA/CASF2016_BA_data.tsv\", sep = \"\\t\", index = False)\n",
    "CASF2013_dta_df.to_csv(\"../input_data/PDB/BA/CASF2013_BA_data.tsv\", sep = \"\\t\", index = False)\n",
    "CSAR2014_dta_df.to_csv(\"../input_data/PDB/BA/CSAR2014_BA_data.tsv\", sep = \"\\t\", index = False)\n",
    "CSAR2012_dta_df.to_csv(\"../input_data/PDB/BA/CSAR2012_BA_data.tsv\", sep = \"\\t\", index = False)\n",
    "CSARset1_dta_df.to_csv(\"../input_data/PDB/BA/CSARset1_BA_data.tsv\", sep = \"\\t\", index = False)\n",
    "CSARset2_dta_df.to_csv(\"../input_data/PDB/BA/CSARset2_BA_data.tsv\", sep = \"\\t\", index = False)\n",
    "Astex_dta_df.to_csv(\"../input_data/PDB/BA/Astex_BA_data.tsv\", sep = \"\\t\", index = False)\n",
    "COACH420_IS_df.to_csv(\"../input_data/PDB/BA/COACH420_IS_data.tsv\", sep = \"\\t\", index = False)\n",
    "HOLO4K_IS_df.to_csv(\"../input_data/PDB/BA/HOLO4K_IS_data.tsv\", sep = \"\\t\", index = False)"
   ]
  },
  {
   "cell_type": "markdown",
   "id": "d127c586",
   "metadata": {},
   "source": [
    "### 5. Make Interaction dataset"
   ]
  },
  {
   "cell_type": "code",
   "execution_count": 108,
   "id": "c15562eb",
   "metadata": {},
   "outputs": [],
   "source": [
    "def get_pairwise_label_nonh(pdbid, pid, cid, interaction_dict, mol):\n",
    "    if pdbid in interaction_dict:\n",
    "        sdf_element = np.array([atom.GetSymbol().upper() for atom in mol.GetAtoms()])\n",
    "        atom_element = np.array(interaction_dict[pdbid]['atom_element'], dtype=str)\n",
    "        atom_name_list = np.array(interaction_dict[pdbid]['atom_name'], dtype=str)\n",
    "        atom_interact = np.array(interaction_dict[pdbid]['atom_interact'], dtype=int)\n",
    "        nonH_position = np.where(atom_element != ('H'))[0]\n",
    "        \n",
    "        assert sum(atom_element[nonH_position] != sdf_element) == 0\n",
    "        \n",
    "        atom_name_list = atom_name_list[nonH_position].tolist()\n",
    "\n",
    "        pairwise_mat = np.zeros((len(nonH_position), len(interaction_dict[pdbid]['uniprot_seq'])), dtype=np.int32)\n",
    "        \n",
    "        for atom_name, bond_type in interaction_dict[pdbid]['atom_bond_type']:\n",
    "            atom_idx = atom_name_list.index(str(atom_name))\n",
    "            assert atom_idx < len(nonH_position)\n",
    "\n",
    "            for seq_idx, bond_type_seq in interaction_dict[pdbid]['residue_bond_type']:\n",
    "                if bond_type == bond_type_seq:\n",
    "                    pairwise_mat[atom_idx, seq_idx] = 1\n",
    "                    \n",
    "        if len(np.where(pairwise_mat != 0)[0]) != 0:\n",
    "            pairwise_mask = True\n",
    "            return True, pairwise_mat\n",
    "        \n",
    "    return False, np.zeros((1,1))"
   ]
  },
  {
   "cell_type": "code",
   "execution_count": 109,
   "id": "5f7b055e",
   "metadata": {},
   "outputs": [],
   "source": [
    "def make_pairwie_labels(interaction_sites_dict):\n",
    "    \n",
    "    results_dict, convert_dict = dict(), dict()\n",
    "    \n",
    "    path = \"./data/PDB/ligand\"\n",
    "\n",
    "    for idx, key in enumerate(list(interaction_sites_dict.keys())):\n",
    "\n",
    "        pdbid, cid, uniprotid = key.split(\"_\")[0], key.split(\"_\")[1], interaction_sites_dict[key]['uniprot_id']\n",
    "\n",
    "        sdf_path = f\"{path}/{cid}_ideal.sdf\"\n",
    "\n",
    "        suppl = Chem.SDMolSupplier(sdf_path)\n",
    "        mol = next(iter(suppl))\n",
    "\n",
    "        inter_data = get_pairwise_label_nonh(key, uniprotid, cid, interaction_sites_dict, mol)\n",
    "\n",
    "        if f\"{uniprotid}_{cid}\" in results_dict:\n",
    "            prev_inter_data = np.sum(results_dict[f\"{uniprotid}_{cid}\"])\n",
    "\n",
    "            if prev_inter_data < np.sum(inter_data[1]):\n",
    "                results_dict[f\"{uniprotid}_{cid}\"] = inter_data[1]\n",
    "\n",
    "        else:\n",
    "            results_dict[f\"{uniprotid}_{cid}\"] = inter_data[1]\n",
    "\n",
    "        convert_dict[key] = f\"{uniprotid}_{cid}\"\n",
    "    \n",
    "    print(len(results_dict), len(convert_dict))\n",
    "\n",
    "    final_dict = dict()\n",
    "    for key in list(interaction_sites_dict.keys()):\n",
    "        final_dict[key] = results_dict[convert_dict[key]]\n",
    "        \n",
    "    return final_dict"
   ]
  },
  {
   "cell_type": "code",
   "execution_count": 110,
   "id": "6a7fa79c",
   "metadata": {},
   "outputs": [
    {
     "name": "stdout",
     "output_type": "stream",
     "text": [
      "12108 12912\n",
      "12912\n"
     ]
    }
   ],
   "source": [
    "PDBbind_nonh_interactions_dict = make_pairwie_labels(PDBbind_interacton_results)\n",
    "print(len(PDBbind_nonh_interactions_dict))"
   ]
  },
  {
   "cell_type": "code",
   "execution_count": 111,
   "id": "52837112",
   "metadata": {},
   "outputs": [],
   "source": [
    "def make_pairwie_labels(interaction_sites_dict):\n",
    "    \n",
    "    results_dict, convert_dict = dict(), dict()\n",
    "    \n",
    "    path = \"./data/PDB/ligand\"\n",
    "\n",
    "    for key in list(interaction_sites_dict.keys()):\n",
    "\n",
    "        pdbid, cid, uniprotid = key.split(\"_\")[0], key.split(\"_\")[1], interaction_sites_dict[key]['uniprot_id']\n",
    "        sdf_path = f\"{path}/{cid}_ideal.sdf\"\n",
    "        \n",
    "        suppl = Chem.SDMolSupplier(sdf_path)\n",
    "        mol = next(iter(suppl))\n",
    "\n",
    "        results_dict[f\"{pdbid}_{cid}\"] = get_pairwise_label_nonh(key, uniprotid, cid, interaction_sites_dict, mol)[1]\n",
    "    \n",
    "    return results_dict"
   ]
  },
  {
   "cell_type": "code",
   "execution_count": 112,
   "id": "0d50275c",
   "metadata": {},
   "outputs": [
    {
     "name": "stdout",
     "output_type": "stream",
     "text": [
      "262\n"
     ]
    }
   ],
   "source": [
    "CASF2016_nonh_interactions_dict = make_pairwie_labels(CASF2016_interacton_results)\n",
    "print(len(CASF2016_nonh_interactions_dict))"
   ]
  },
  {
   "cell_type": "code",
   "execution_count": 113,
   "id": "affb41ee",
   "metadata": {},
   "outputs": [
    {
     "name": "stdout",
     "output_type": "stream",
     "text": [
      "164\n"
     ]
    }
   ],
   "source": [
    "CASF2013_nonh_interactions_dict = make_pairwie_labels(CASF2013_interacton_results)\n",
    "print(len(CASF2013_nonh_interactions_dict))"
   ]
  },
  {
   "cell_type": "code",
   "execution_count": 114,
   "id": "0e78e406",
   "metadata": {},
   "outputs": [
    {
     "name": "stdout",
     "output_type": "stream",
     "text": [
      "46\n"
     ]
    }
   ],
   "source": [
    "CSAR2014_nonh_interactions_dict = make_pairwie_labels(CSAR2014_interacton_results)\n",
    "print(len(CSAR2014_nonh_interactions_dict))"
   ]
  },
  {
   "cell_type": "code",
   "execution_count": 115,
   "id": "03c2fd3e",
   "metadata": {},
   "outputs": [
    {
     "name": "stdout",
     "output_type": "stream",
     "text": [
      "55\n"
     ]
    }
   ],
   "source": [
    "CSAR2012_nonh_interactions_dict = make_pairwie_labels(CSAR2012_interacton_results)\n",
    "print(len(CSAR2012_nonh_interactions_dict))"
   ]
  },
  {
   "cell_type": "code",
   "execution_count": 116,
   "id": "acd2e399",
   "metadata": {},
   "outputs": [
    {
     "name": "stdout",
     "output_type": "stream",
     "text": [
      "151\n"
     ]
    }
   ],
   "source": [
    "CSARset1_nonh_interactions_dict = make_pairwie_labels(CSARset1_interacton_results)\n",
    "print(len(CSARset1_nonh_interactions_dict))"
   ]
  },
  {
   "cell_type": "code",
   "execution_count": 117,
   "id": "1daaa0eb",
   "metadata": {},
   "outputs": [
    {
     "name": "stdout",
     "output_type": "stream",
     "text": [
      "130\n"
     ]
    }
   ],
   "source": [
    "CSARset2_nonh_interactions_dict = make_pairwie_labels(CSARset2_interacton_results)\n",
    "print(len(CSARset2_nonh_interactions_dict))"
   ]
  },
  {
   "cell_type": "code",
   "execution_count": 118,
   "id": "568314d7",
   "metadata": {},
   "outputs": [
    {
     "name": "stdout",
     "output_type": "stream",
     "text": [
      "72\n"
     ]
    }
   ],
   "source": [
    "Astex_nonh_interactions_dict = make_pairwie_labels(Astex_interacton_results)\n",
    "print(len(Astex_nonh_interactions_dict))"
   ]
  },
  {
   "cell_type": "code",
   "execution_count": 119,
   "id": "8591983e",
   "metadata": {},
   "outputs": [
    {
     "name": "stdout",
     "output_type": "stream",
     "text": [
      "320\n"
     ]
    }
   ],
   "source": [
    "COACH420_nonh_interactions_dict = make_pairwie_labels(COACH420_interacton_results)\n",
    "print(len(COACH420_nonh_interactions_dict))"
   ]
  },
  {
   "cell_type": "code",
   "execution_count": 120,
   "id": "46c1fc31",
   "metadata": {},
   "outputs": [
    {
     "name": "stderr",
     "output_type": "stream",
     "text": [
      "RDKit WARNING: [18:01:08] Warning: molecule is tagged as 3D, but all Z coords are zero\n",
      "[18:01:08] Warning: molecule is tagged as 3D, but all Z coords are zero\n",
      "RDKit WARNING: [18:01:08] Warning: molecule is tagged as 3D, but all Z coords are zero\n",
      "[18:01:08] Warning: molecule is tagged as 3D, but all Z coords are zero\n",
      "RDKit WARNING: [18:01:08] Warning: molecule is tagged as 3D, but all Z coords are zero\n",
      "[18:01:08] Warning: molecule is tagged as 3D, but all Z coords are zero\n",
      "RDKit WARNING: [18:01:08] Warning: molecule is tagged as 3D, but all Z coords are zero\n",
      "[18:01:08] Warning: molecule is tagged as 3D, but all Z coords are zero\n",
      "RDKit WARNING: [18:01:08] Warning: molecule is tagged as 3D, but all Z coords are zero\n",
      "[18:01:08] Warning: molecule is tagged as 3D, but all Z coords are zero\n",
      "RDKit WARNING: [18:01:08] Warning: molecule is tagged as 3D, but all Z coords are zero\n",
      "[18:01:08] Warning: molecule is tagged as 3D, but all Z coords are zero\n",
      "RDKit WARNING: [18:01:09] Warning: molecule is tagged as 3D, but all Z coords are zero\n",
      "[18:01:09] Warning: molecule is tagged as 3D, but all Z coords are zero\n"
     ]
    },
    {
     "name": "stdout",
     "output_type": "stream",
     "text": [
      "3881\n"
     ]
    }
   ],
   "source": [
    "HOLO4K_nonh_interactions_dict = make_pairwie_labels(HOLO4K_interacton_results)\n",
    "print(len(HOLO4K_nonh_interactions_dict))"
   ]
  },
  {
   "cell_type": "code",
   "execution_count": 121,
   "id": "212bbfbc",
   "metadata": {},
   "outputs": [],
   "source": [
    "with open(\"../input_data/PDB/Interaction_sites/Training_nonh_interactions.pkl\", \"wb\") as f:\n",
    "    pickle.dump(PDBbind_nonh_interactions_dict, f)\n",
    "    \n",
    "with open(\"../input_data/PDB/Interaction_sites/CASF2016_nonh_interactions.pkl\", \"wb\") as f:\n",
    "    pickle.dump(CASF2016_nonh_interactions_dict, f)\n",
    "    \n",
    "with open(\"../input_data/PDB/Interaction_sites/CASF2013_nonh_interactions.pkl\", \"wb\") as f:\n",
    "    pickle.dump(CASF2013_nonh_interactions_dict, f)\n",
    "    \n",
    "with open(\"../input_data/PDB/Interaction_sites/CSAR2014_nonh_interactions.pkl\", \"wb\") as f:\n",
    "    pickle.dump(CSAR2014_nonh_interactions_dict, f)\n",
    "    \n",
    "with open(\"../input_data/PDB/Interaction_sites/CSAR2012_nonh_interactions.pkl\", \"wb\") as f:\n",
    "    pickle.dump(CSAR2012_nonh_interactions_dict, f)\n",
    "    \n",
    "with open(\"../input_data/PDB/Interaction_sites/CSARset1_nonh_interactions.pkl\", \"wb\") as f:\n",
    "    pickle.dump(CSARset1_nonh_interactions_dict, f)\n",
    "    \n",
    "with open(\"../input_data/PDB/Interaction_sites/CSARset2_nonh_interactions.pkl\", \"wb\") as f:\n",
    "    pickle.dump(CSARset2_nonh_interactions_dict, f)\n",
    "    \n",
    "with open(\"../input_data/PDB/Interaction_sites/Astex_nonh_interactions.pkl\", \"wb\") as f:\n",
    "    pickle.dump(Astex_nonh_interactions_dict, f)\n",
    "    \n",
    "with open(\"../input_data/PDB/Interaction_sites/COACH420_nonh_interactions.pkl\", \"wb\") as f:\n",
    "    pickle.dump(COACH420_nonh_interactions_dict, f)\n",
    "    \n",
    "with open(\"../input_data/PDB/Interaction_sites/HOLO4K_nonh_interactions.pkl\", \"wb\") as f:\n",
    "    pickle.dump(HOLO4K_nonh_interactions_dict, f)"
   ]
  },
  {
   "cell_type": "markdown",
   "id": "49344f82",
   "metadata": {},
   "source": [
    "### 6. Make Binding sites dataset"
   ]
  },
  {
   "cell_type": "code",
   "execution_count": 122,
   "id": "49c6cfda",
   "metadata": {},
   "outputs": [],
   "source": [
    "def convert_bs(input_list):\n",
    "    try:\n",
    "        tmp = \",\".join(input_list)\n",
    "        tmp = set(tmp.split(\",\"))\n",
    "\n",
    "        tmp = sorted(list(map(int, tmp)))\n",
    "        tmp = list(map(str, tmp))\n",
    "    except:\n",
    "        return None\n",
    "    \n",
    "    return \",\".join(tmp)\n",
    "    \n",
    "def make_bs_df(scPDB_df, PDBbind_df, training_list):\n",
    "    results = {\"PDB_IDs\":[], \"Uniprot_IDs\":[], \"Uniprot_Seqs\":[], \"BS_8A\":[], \"BS_4A\":[], \"Ligand_Codes\":[]}\n",
    "\n",
    "    tmp = dict()\n",
    "    for line in scPDB_df.values:\n",
    "        pdbid, lig_code, uniprot_id, uniprot_seqs, bs_8A, bs_4A = line[0], line[1], line[3], line[4], line[5], line[6]\n",
    "        \n",
    "        if len(uniprot_seqs) <= 1500:\n",
    "        \n",
    "            if f\"{pdbid}_{lig_code}\" in training_list:\n",
    "                if f\"{pdbid}_{lig_code}\" in tmp:\n",
    "                    tmp[f\"{pdbid}_{lig_code}\"][\"lig_code\"].append(lig_code)\n",
    "                    tmp[f\"{pdbid}_{lig_code}\"][\"bs_8A\"].append(bs_8A)\n",
    "                    tmp[f\"{pdbid}_{lig_code}\"][\"bs_4A\"].append(bs_4A) \n",
    "                    \n",
    "                else:\n",
    "                    tmp[f\"{pdbid}_{lig_code}\"] = dict()\n",
    "                    tmp[f\"{pdbid}_{lig_code}\"][\"uniprot_id\"] = uniprot_id\n",
    "                    tmp[f\"{pdbid}_{lig_code}\"][\"uniprot_seqs\"] = uniprot_seqs\n",
    "                    tmp[f\"{pdbid}_{lig_code}\"][\"lig_code\"] = [lig_code]\n",
    "                    tmp[f\"{pdbid}_{lig_code}\"][\"bs_8A\"] = [bs_8A]\n",
    "                    tmp[f\"{pdbid}_{lig_code}\"][\"bs_4A\"] = [bs_4A]\n",
    "                    \n",
    "                \n",
    "    for line in PDBbind_df.values:\n",
    "        pdbid, lig_code, uniprot_id, uniprot_seqs, bs_8A, bs_4A = line[0], line[1], line[3], line[4], line[5], line[6]\n",
    "        if len(uniprot_seqs) <= 1500:\n",
    "            if f\"{pdbid}_{lig_code}\" in training_list:\n",
    "                if f\"{pdbid}_{lig_code}\" in tmp: \n",
    "                    tmp[f\"{pdbid}_{lig_code}\"][\"lig_code\"].append(lig_code)\n",
    "                    tmp[f\"{pdbid}_{lig_code}\"][\"bs_8A\"].append(bs_8A)\n",
    "                    tmp[f\"{pdbid}_{lig_code}\"][\"bs_4A\"].append(bs_4A) \n",
    "                    \n",
    "                else:\n",
    "                    tmp[f\"{pdbid}_{lig_code}\"] = dict()\n",
    "                    tmp[f\"{pdbid}_{lig_code}\"][\"uniprot_id\"] = uniprot_id\n",
    "                    tmp[f\"{pdbid}_{lig_code}\"][\"uniprot_seqs\"] = uniprot_seqs\n",
    "                    tmp[f\"{pdbid}_{lig_code}\"][\"lig_code\"] = [lig_code]\n",
    "                    tmp[f\"{pdbid}_{lig_code}\"][\"bs_8A\"] = [bs_8A]\n",
    "                    tmp[f\"{pdbid}_{lig_code}\"][\"bs_4A\"] = [bs_4A] \n",
    "    \n",
    "    for key in list(tmp.keys()):\n",
    "        \n",
    "        lig_code = \",\".join(tmp[key][\"lig_code\"])\n",
    "\n",
    "        bs_8A, bs_4A = convert_bs(tmp[key][\"bs_8A\"]), convert_bs(tmp[key][\"bs_4A\"])\n",
    "        \n",
    "        results[\"PDB_IDs\"].append(key.split(\"_\")[0])\n",
    "        results[\"Uniprot_IDs\"].append(tmp[key][\"uniprot_id\"])\n",
    "        results[\"Uniprot_Seqs\"].append(tmp[key][\"uniprot_seqs\"])\n",
    "        \n",
    "        results[\"BS_8A\"].append(bs_8A)\n",
    "        results[\"BS_4A\"].append(bs_4A)\n",
    "        results[\"Ligand_Codes\"].append(lig_code)\n",
    "    \n",
    "    return pd.DataFrame(results)"
   ]
  },
  {
   "cell_type": "code",
   "execution_count": 123,
   "id": "f2cb5183",
   "metadata": {},
   "outputs": [
    {
     "data": {
      "text/html": [
       "<div>\n",
       "<style scoped>\n",
       "    .dataframe tbody tr th:only-of-type {\n",
       "        vertical-align: middle;\n",
       "    }\n",
       "\n",
       "    .dataframe tbody tr th {\n",
       "        vertical-align: top;\n",
       "    }\n",
       "\n",
       "    .dataframe thead th {\n",
       "        text-align: right;\n",
       "    }\n",
       "</style>\n",
       "<table border=\"1\" class=\"dataframe\">\n",
       "  <thead>\n",
       "    <tr style=\"text-align: right;\">\n",
       "      <th></th>\n",
       "      <th>PDB_IDs</th>\n",
       "      <th>Uniprot_IDs</th>\n",
       "      <th>Uniprot_Seqs</th>\n",
       "      <th>BS_8A</th>\n",
       "      <th>BS_4A</th>\n",
       "      <th>Ligand_Codes</th>\n",
       "    </tr>\n",
       "  </thead>\n",
       "  <tbody>\n",
       "    <tr>\n",
       "      <th>0</th>\n",
       "      <td>4nx6</td>\n",
       "      <td>P0ABQ4</td>\n",
       "      <td>MISLIAALAVDRVIGMENAMPWNLPADLAWFKRNTLNKPVIMGRHT...</td>\n",
       "      <td>3,4,5,6,7,13,17,18,19,21,22,23,24,25,26,27,28,...</td>\n",
       "      <td>4,5,6,19,21,26,27,28,29,30,31,45,49,51,53,54,5...</td>\n",
       "      <td>FOL</td>\n",
       "    </tr>\n",
       "    <tr>\n",
       "      <th>1</th>\n",
       "      <td>3tqx</td>\n",
       "      <td>Q83F40</td>\n",
       "      <td>MQEILSQLNKEIEGLKKAGLYKSERIITSPQNAEIKVGEKEVLNFC...</td>\n",
       "      <td>47,49,74,75,76,105,106,107,108,109,110,111,112...</td>\n",
       "      <td>107,108,109,112,133,135,178,182,207,209,210,23...</td>\n",
       "      <td>PLP</td>\n",
       "    </tr>\n",
       "    <tr>\n",
       "      <th>2</th>\n",
       "      <td>4bek</td>\n",
       "      <td>P56817</td>\n",
       "      <td>MAQALPWLLLWMGAGVLPAHGTQHGIRLPLRSGLGGAPLGLRLPRE...</td>\n",
       "      <td>71,72,73,74,90,91,92,93,94,95,96,97,129,130,13...</td>\n",
       "      <td>90,92,94,95,131,168,175,178,288,290,291</td>\n",
       "      <td>XK0,XK0</td>\n",
       "    </tr>\n",
       "    <tr>\n",
       "      <th>3</th>\n",
       "      <td>4dca</td>\n",
       "      <td>Q93ET9</td>\n",
       "      <td>MVNLDAEIYEHLNKQIKINELRYLSSGDDSDTFLCNEQYVVKVPKR...</td>\n",
       "      <td>22,23,24,25,26,28,29,30,31,32,33,37,38,39,40,4...</td>\n",
       "      <td>23,24,31,39,41,85,86,87,196,198,208,209</td>\n",
       "      <td>ADP</td>\n",
       "    </tr>\n",
       "    <tr>\n",
       "      <th>4</th>\n",
       "      <td>4pah</td>\n",
       "      <td>P00439</td>\n",
       "      <td>MSTAVLENPGLGRKLSDFGQETSYIEDNCNQNGAISLIFSLKEEVG...</td>\n",
       "      <td>246,247,248,249,250,251,253,254,262,263,265,27...</td>\n",
       "      <td>247,253,284,289,324,329</td>\n",
       "      <td>LNR</td>\n",
       "    </tr>\n",
       "    <tr>\n",
       "      <th>...</th>\n",
       "      <td>...</td>\n",
       "      <td>...</td>\n",
       "      <td>...</td>\n",
       "      <td>...</td>\n",
       "      <td>...</td>\n",
       "      <td>...</td>\n",
       "    </tr>\n",
       "    <tr>\n",
       "      <th>23286</th>\n",
       "      <td>5tr6</td>\n",
       "      <td>P43405</td>\n",
       "      <td>MASSGMADSANHLPFFFGNITREEAEDYLVQGGMSDGLYLLRQSRN...</td>\n",
       "      <td>375,376,377,378,379,381,382,383,384,385,386,39...</td>\n",
       "      <td>376,378,384,399,447,448,449,450,451,453,454,49...</td>\n",
       "      <td>7KG</td>\n",
       "    </tr>\n",
       "    <tr>\n",
       "      <th>23287</th>\n",
       "      <td>3fci</td>\n",
       "      <td>P13051</td>\n",
       "      <td>MIGQKTLYSFFSPSPARKRHAPSPEPAVQGTGVAGVPEESGDAAAI...</td>\n",
       "      <td>150,151,152,153,154,155,156,160,161,162,163,16...</td>\n",
       "      <td>151,152,153,155,165,166,177,212,254,255,256,27...</td>\n",
       "      <td>3FI</td>\n",
       "    </tr>\n",
       "    <tr>\n",
       "      <th>23288</th>\n",
       "      <td>2q9n</td>\n",
       "      <td>P05364</td>\n",
       "      <td>MMRKSLCCALLLGISCSALATPVSEKQLAEVVANTITPLMKAQSVP...</td>\n",
       "      <td>81,82,83,84,85,86,137,138,139,140,169,170,171,...</td>\n",
       "      <td>83,138,139,169,171,223,240,336,337,338,339</td>\n",
       "      <td>LK5</td>\n",
       "    </tr>\n",
       "    <tr>\n",
       "      <th>23289</th>\n",
       "      <td>3np7</td>\n",
       "      <td>P00489</td>\n",
       "      <td>MSRPLSDQEKRKQISVRGLAGVENVTELKKNFNRHLHFTLVKDRNV...</td>\n",
       "      <td>13,16,93,96,100,105,120,121,123,124,490,491,49...</td>\n",
       "      <td>16,96,120,124,494,495,497,544,545,548,654,655</td>\n",
       "      <td>Z15</td>\n",
       "    </tr>\n",
       "    <tr>\n",
       "      <th>23290</th>\n",
       "      <td>1k1o</td>\n",
       "      <td>P00760</td>\n",
       "      <td>MKTFIFLALLGAAVAFPVDDDDKIVGGYTCGANTVPYQVSLNSGYH...</td>\n",
       "      <td>24,47,60,61,62,63,98,99,100,101,102,103,104,10...</td>\n",
       "      <td>62,101,102,193,194,195,196,199,213,214,215,216...</td>\n",
       "      <td>IGN</td>\n",
       "    </tr>\n",
       "  </tbody>\n",
       "</table>\n",
       "<p>23291 rows × 6 columns</p>\n",
       "</div>"
      ],
      "text/plain": [
       "      PDB_IDs Uniprot_IDs                                       Uniprot_Seqs  \\\n",
       "0        4nx6      P0ABQ4  MISLIAALAVDRVIGMENAMPWNLPADLAWFKRNTLNKPVIMGRHT...   \n",
       "1        3tqx      Q83F40  MQEILSQLNKEIEGLKKAGLYKSERIITSPQNAEIKVGEKEVLNFC...   \n",
       "2        4bek      P56817  MAQALPWLLLWMGAGVLPAHGTQHGIRLPLRSGLGGAPLGLRLPRE...   \n",
       "3        4dca      Q93ET9  MVNLDAEIYEHLNKQIKINELRYLSSGDDSDTFLCNEQYVVKVPKR...   \n",
       "4        4pah      P00439  MSTAVLENPGLGRKLSDFGQETSYIEDNCNQNGAISLIFSLKEEVG...   \n",
       "...       ...         ...                                                ...   \n",
       "23286    5tr6      P43405  MASSGMADSANHLPFFFGNITREEAEDYLVQGGMSDGLYLLRQSRN...   \n",
       "23287    3fci      P13051  MIGQKTLYSFFSPSPARKRHAPSPEPAVQGTGVAGVPEESGDAAAI...   \n",
       "23288    2q9n      P05364  MMRKSLCCALLLGISCSALATPVSEKQLAEVVANTITPLMKAQSVP...   \n",
       "23289    3np7      P00489  MSRPLSDQEKRKQISVRGLAGVENVTELKKNFNRHLHFTLVKDRNV...   \n",
       "23290    1k1o      P00760  MKTFIFLALLGAAVAFPVDDDDKIVGGYTCGANTVPYQVSLNSGYH...   \n",
       "\n",
       "                                                   BS_8A  \\\n",
       "0      3,4,5,6,7,13,17,18,19,21,22,23,24,25,26,27,28,...   \n",
       "1      47,49,74,75,76,105,106,107,108,109,110,111,112...   \n",
       "2      71,72,73,74,90,91,92,93,94,95,96,97,129,130,13...   \n",
       "3      22,23,24,25,26,28,29,30,31,32,33,37,38,39,40,4...   \n",
       "4      246,247,248,249,250,251,253,254,262,263,265,27...   \n",
       "...                                                  ...   \n",
       "23286  375,376,377,378,379,381,382,383,384,385,386,39...   \n",
       "23287  150,151,152,153,154,155,156,160,161,162,163,16...   \n",
       "23288  81,82,83,84,85,86,137,138,139,140,169,170,171,...   \n",
       "23289  13,16,93,96,100,105,120,121,123,124,490,491,49...   \n",
       "23290  24,47,60,61,62,63,98,99,100,101,102,103,104,10...   \n",
       "\n",
       "                                                   BS_4A Ligand_Codes  \n",
       "0      4,5,6,19,21,26,27,28,29,30,31,45,49,51,53,54,5...          FOL  \n",
       "1      107,108,109,112,133,135,178,182,207,209,210,23...          PLP  \n",
       "2                90,92,94,95,131,168,175,178,288,290,291      XK0,XK0  \n",
       "3                23,24,31,39,41,85,86,87,196,198,208,209          ADP  \n",
       "4                                247,253,284,289,324,329          LNR  \n",
       "...                                                  ...          ...  \n",
       "23286  376,378,384,399,447,448,449,450,451,453,454,49...          7KG  \n",
       "23287  151,152,153,155,165,166,177,212,254,255,256,27...          3FI  \n",
       "23288         83,138,139,169,171,223,240,336,337,338,339          LK5  \n",
       "23289      16,96,120,124,494,495,497,544,545,548,654,655          Z15  \n",
       "23290  62,101,102,193,194,195,196,199,213,214,215,216...          IGN  \n",
       "\n",
       "[23291 rows x 6 columns]"
      ]
     },
     "execution_count": 123,
     "metadata": {},
     "output_type": "execute_result"
    }
   ],
   "source": [
    "BS_training_df = make_bs_df(scPDB_bs_df, PDBbind_bs_df, BS_training)\n",
    "BS_training_df"
   ]
  },
  {
   "cell_type": "code",
   "execution_count": 124,
   "id": "d81b8034",
   "metadata": {},
   "outputs": [],
   "source": [
    "def extract_df(df):\n",
    "    results = {\"PDB_IDs\":[], \"Uniprot_IDs\":[], \"Uniprot_Seqs\":[], \"BS_8A\":[], \"BS_4A\":[], \"Ligand_Codes\":[]}\n",
    "    \n",
    "    for line in df.values:\n",
    "        pdbid, lig_code, uniprot_id, uniprot_seqs, bs_8A, bs_4A = line[0], line[1], line[3], line[4], line[5], line[6]\n",
    "        \n",
    "        results[\"PDB_IDs\"].append(pdbid)\n",
    "        results[\"Uniprot_IDs\"].append(uniprot_id)\n",
    "        results[\"Uniprot_Seqs\"].append(uniprot_seqs)\n",
    "        \n",
    "        results[\"BS_8A\"].append(bs_8A)\n",
    "        results[\"BS_4A\"].append(bs_4A)\n",
    "        results[\"Ligand_Codes\"].append(lig_code)\n",
    "    \n",
    "    return pd.DataFrame(results)"
   ]
  },
  {
   "cell_type": "code",
   "execution_count": 125,
   "id": "0a531497",
   "metadata": {},
   "outputs": [],
   "source": [
    "CASF2016_bs_df = extract_df(CASF2016_bs_df)\n",
    "CASF2013_bs_df = extract_df(CASF2013_bs_df)\n",
    "CSAR2014_bs_df = extract_df(CSAR2014_bs_df)\n",
    "CSAR2012_bs_df = extract_df(CSAR2012_bs_df)\n",
    "CSARset1_bs_df = extract_df(CSARset1_bs_df)\n",
    "CSARset2_bs_df = extract_df(CSARset2_bs_df)\n",
    "Astex_bs_df = extract_df(Astex_bs_df)\n",
    "COACH420_bs_df = extract_df(COACH420_bs_df)\n",
    "HOLO4K_bs_df = extract_df(HOLO4K_bs_df)"
   ]
  },
  {
   "cell_type": "code",
   "execution_count": 126,
   "id": "2c06ff69",
   "metadata": {},
   "outputs": [],
   "source": [
    "BS_training_df.to_csv(\"../input_data/PDB/BS/Training_BS_data.tsv\", sep = \"\\t\", index = False)\n",
    "CASF2016_bs_df.to_csv(\"../input_data/PDB/BS/CASF2016_BS_data.tsv\", sep = \"\\t\", index = False)\n",
    "CASF2013_bs_df.to_csv(\"../input_data/PDB/BS/CASF2013_BS_data.tsv\", sep = \"\\t\", index = False)\n",
    "CSAR2014_bs_df.to_csv(\"../input_data/PDB/BS/CSAR2014_BS_data.tsv\", sep = \"\\t\", index = False)\n",
    "CSAR2012_bs_df.to_csv(\"../input_data/PDB/BS/CSAR2012_BS_data.tsv\", sep = \"\\t\", index = False)\n",
    "CSARset1_bs_df.to_csv(\"../input_data/PDB/BS/CSARset1_BS_data.tsv\", sep = \"\\t\", index = False)\n",
    "CSARset2_bs_df.to_csv(\"../input_data/PDB/BS/CSARset2_BS_data.tsv\", sep = \"\\t\", index = False)\n",
    "Astex_bs_df.to_csv(\"../input_data/PDB/BS/Astex_BS_data.tsv\", sep = \"\\t\", index = False)\n",
    "COACH420_bs_df.to_csv(\"../input_data/PDB/BS/COACH420_BS_data.tsv\", sep = \"\\t\", index = False)\n",
    "HOLO4K_bs_df.to_csv(\"../input_data/PDB/BS/HOLO4K_BS_data.tsv\", sep = \"\\t\", index = False)"
   ]
  },
  {
   "cell_type": "code",
   "execution_count": null,
   "id": "71b54821",
   "metadata": {},
   "outputs": [],
   "source": []
  },
  {
   "cell_type": "code",
   "execution_count": null,
   "id": "f9d0f017",
   "metadata": {},
   "outputs": [],
   "source": []
  },
  {
   "cell_type": "code",
   "execution_count": null,
   "id": "7fcd1f17",
   "metadata": {},
   "outputs": [],
   "source": []
  },
  {
   "cell_type": "code",
   "execution_count": null,
   "id": "7052ae99",
   "metadata": {},
   "outputs": [],
   "source": []
  }
 ],
 "metadata": {
  "kernelspec": {
   "display_name": "Python 3 (ipykernel)",
   "language": "python",
   "name": "python3"
  },
  "language_info": {
   "codemirror_mode": {
    "name": "ipython",
    "version": 3
   },
   "file_extension": ".py",
   "mimetype": "text/x-python",
   "name": "python",
   "nbconvert_exporter": "python",
   "pygments_lexer": "ipython3",
   "version": "3.7.16"
  }
 },
 "nbformat": 4,
 "nbformat_minor": 5
}
