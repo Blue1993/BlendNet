{
 "cells": [
  {
   "cell_type": "code",
   "execution_count": 1,
   "id": "34d7ca46",
   "metadata": {},
   "outputs": [],
   "source": [
    "# The protein-ligand interaciton profiler (PLIP) is utilized to extract interaction site labels.\n",
    "# Salentin, S., Schreiber, S., Haupt, V. J., Adasme, M. F., & Schroeder, M. (2015). PLIP: fully automated protein–ligand interaction profiler. Nucleic acids research, 43(W1), W443-W447.\n",
    "\n",
    "# For services provided via web, it is difficult to apply on large datasets, so we utilize the code provided in the official github below.\n",
    "# https://github.com/pharmai/plip\n",
    "\n",
    "# All downloaded compound-protein structures is analyzed by PLIP.\n",
    "# source files dir: \"./data/PDB/protein\"\n",
    "\n",
    "# The results obtain by PLIP is saved in the dir below for further preprocessing to generate input data.\n",
    "# results files dir: \"./data/PLIP_results\"\n",
    "\n",
    "# More detailed PLIP analysis results file examples can be found in the ./data/PLIP_results dir."
   ]
  },
  {
   "cell_type": "code",
   "execution_count": null,
   "id": "f339678f",
   "metadata": {},
   "outputs": [],
   "source": []
  },
  {
   "cell_type": "code",
   "execution_count": null,
   "id": "1733bf89",
   "metadata": {},
   "outputs": [],
   "source": []
  }
 ],
 "metadata": {
  "kernelspec": {
   "display_name": "Python 3 (ipykernel)",
   "language": "python",
   "name": "python3"
  },
  "language_info": {
   "codemirror_mode": {
    "name": "ipython",
    "version": 3
   },
   "file_extension": ".py",
   "mimetype": "text/x-python",
   "name": "python",
   "nbconvert_exporter": "python",
   "pygments_lexer": "ipython3",
   "version": "3.7.16"
  }
 },
 "nbformat": 4,
 "nbformat_minor": 5
}
