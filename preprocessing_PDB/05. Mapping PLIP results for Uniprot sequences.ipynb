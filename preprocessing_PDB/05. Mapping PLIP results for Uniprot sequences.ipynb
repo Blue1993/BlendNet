{
 "cells": [
  {
   "cell_type": "code",
   "execution_count": 1,
   "id": "9546f4a8",
   "metadata": {},
   "outputs": [],
   "source": [
    "import os\n",
    "import pandas as pd\n",
    "import numpy as np\n",
    "from Bio import PDB\n",
    "import pickle"
   ]
  },
  {
   "cell_type": "code",
   "execution_count": 2,
   "id": "4cb49bb7",
   "metadata": {},
   "outputs": [],
   "source": [
    "# To map the protein sequence of the PDB structure to the UniProt protein sequence, we performe the alignments using the SSW library. \n",
    "# Zhao, M., Lee, W. P., Garrison, E. P., & Marth, G. T. (2013). SSW library: an SIMD Smith-Waterman C/C++ library for use in genomic applications. PloS one, 8(12), e82138.\n",
    "\n",
    "# Therefore, the alignment results are needed for preprocessing. \n",
    "# You must either install the SSW library yourself or utilize the code provided on the MONN github to get alignment results.\n",
    "# https://github.com/lishuya17/MONN/tree/master/create_dataset/smith-waterman-src\n",
    "\n",
    "# This GitHub repository does not provide code for protein sequence alignment.\n",
    "# The example files of aligment results can be found in the ./fasta dir."
   ]
  },
  {
   "cell_type": "markdown",
   "id": "c95b3153",
   "metadata": {},
   "source": [
    "### 1. Load data"
   ]
  },
  {
   "cell_type": "code",
   "execution_count": 2,
   "id": "123bdbdd",
   "metadata": {
    "scrolled": true
   },
   "outputs": [
    {
     "name": "stdout",
     "output_type": "stream",
     "text": [
      "[PDBbind]: 13663\n",
      "[CASF2016]: 269\n",
      "[CASF2013]: 172\n",
      "[CSAR2014]: 46\n",
      "[CSAR2012]: 55\n",
      "[CSARset1]: 152\n",
      "[CSARset2]: 135\n",
      "[Astex]: 74\n",
      "[COACH420]: 323\n",
      "[HOLO4K]: 3911\n"
     ]
    }
   ],
   "source": [
    "PDBbind_df = pd.read_csv(\"./preprocessed_data/step5_PDBbind_data.tsv\", sep = \"\\t\")\n",
    "print(f\"[PDBbind]: {len(PDBbind_df)}\")\n",
    "\n",
    "CASF2016_df = pd.read_csv(\"./preprocessed_data/step5_CASF2016_data.tsv\", sep = \"\\t\")\n",
    "print(f\"[CASF2016]: {len(CASF2016_df)}\")\n",
    "\n",
    "CASF2013_df = pd.read_csv(\"./preprocessed_data/step5_CASF2013_data.tsv\", sep = \"\\t\")\n",
    "print(f\"[CASF2013]: {len(CASF2013_df)}\")\n",
    "\n",
    "CSAR2014_df = pd.read_csv(\"./preprocessed_data/step5_CSAR2014_data.tsv\", sep = \"\\t\")\n",
    "print(f\"[CSAR2014]: {len(CSAR2014_df)}\")\n",
    "\n",
    "CSAR2012_df = pd.read_csv(\"./preprocessed_data/step5_CSAR2012_data.tsv\", sep = \"\\t\")\n",
    "print(f\"[CSAR2012]: {len(CSAR2012_df)}\")\n",
    "\n",
    "CSARset1_df = pd.read_csv(\"./preprocessed_data/step5_CSARset1_data.tsv\", sep = \"\\t\")\n",
    "print(f\"[CSARset1]: {len(CSARset1_df)}\")\n",
    "\n",
    "CSARset2_df = pd.read_csv(\"./preprocessed_data/step5_CSARset2_data.tsv\", sep = \"\\t\")\n",
    "print(f\"[CSARset2]: {len(CSARset2_df)}\")\n",
    "\n",
    "Astex_df = pd.read_csv(\"./preprocessed_data/step5_Astex_data.tsv\", sep = \"\\t\")\n",
    "print(f\"[Astex]: {len(Astex_df)}\")\n",
    "\n",
    "COACH420_df = pd.read_csv(\"./preprocessed_data/step5_COACH420_data.tsv\", sep = \"\\t\")\n",
    "print(f\"[COACH420]: {len(COACH420_df)}\")\n",
    "\n",
    "HOLO4K_df = pd.read_csv(\"./preprocessed_data/step5_HOLO4K_data.tsv\", sep = \"\\t\")\n",
    "print(f\"[HOLO4K]: {len(HOLO4K_df)}\")"
   ]
  },
  {
   "cell_type": "code",
   "execution_count": 3,
   "id": "a0a5799a",
   "metadata": {},
   "outputs": [
    {
     "name": "stdout",
     "output_type": "stream",
     "text": [
      "[PDBbind]: 13663\n",
      "[CASF2016]: 269\n",
      "[CASF2013]: 172\n",
      "[CSAR2014]: 46\n",
      "[CSAR2012]: 55\n",
      "[CSARset1]: 152\n",
      "[CSARset2]: 135\n",
      "[Astex]: 74\n",
      "[COACH420]: 323\n",
      "[HOLO4K]: 3911\n"
     ]
    }
   ],
   "source": [
    "with open(\"./preprocessed_data/step5_PDBbind_interaction.pkl\", \"rb\") as f:\n",
    "    PDBbind_interact_results = pickle.load(f)\n",
    "    print(f\"[PDBbind]: {len(PDBbind_interact_results)}\")\n",
    "\n",
    "with open(\"./preprocessed_data/step5_CASF2016_interaction.pkl\", \"rb\") as f:\n",
    "    CASF2016_interact_results = pickle.load(f)\n",
    "    print(f\"[CASF2016]: {len(CASF2016_interact_results)}\")\n",
    "    \n",
    "with open(\"./preprocessed_data/step5_CASF2013_interaction.pkl\", \"rb\") as f:\n",
    "    CASF2013_interact_results = pickle.load(f)\n",
    "    print(f\"[CASF2013]: {len(CASF2013_interact_results)}\")\n",
    "    \n",
    "with open(\"./preprocessed_data/step5_CSAR2014_interaction.pkl\", \"rb\") as f:\n",
    "    CSAR2014_interact_results = pickle.load(f)\n",
    "    print(f\"[CSAR2014]: {len(CSAR2014_interact_results)}\")\n",
    "    \n",
    "with open(\"./preprocessed_data/step5_CSAR2012_interaction.pkl\", \"rb\") as f:\n",
    "    CSAR2012_interact_results = pickle.load(f)\n",
    "    print(f\"[CSAR2012]: {len(CSAR2012_interact_results)}\")\n",
    "    \n",
    "with open(\"./preprocessed_data/step5_CSARset1_interaction.pkl\", \"rb\") as f:\n",
    "    CSARset1_interact_results = pickle.load(f)\n",
    "    print(f\"[CSARset1]: {len(CSARset1_interact_results)}\")\n",
    "    \n",
    "with open(\"./preprocessed_data/step5_CSARset2_interaction.pkl\", \"rb\") as f:\n",
    "    CSARset2_interact_results = pickle.load(f)\n",
    "    print(f\"[CSARset2]: {len(CSARset2_interact_results)}\")\n",
    "    \n",
    "with open(\"./preprocessed_data/step5_Astex_interaction.pkl\", \"rb\") as f:\n",
    "    Astex_interact_results = pickle.load(f)\n",
    "    print(f\"[Astex]: {len(Astex_interact_results)}\")\n",
    "    \n",
    "with open(\"./preprocessed_data/step5_COACH420_interaction.pkl\", \"rb\") as f:\n",
    "    COACH420_interact_results = pickle.load(f)\n",
    "    print(f\"[COACH420]: {len(COACH420_interact_results)}\")\n",
    "    \n",
    "with open(\"./preprocessed_data/step5_HOLO4K_interaction.pkl\", \"rb\") as f:\n",
    "    HOLO4K_interact_results = pickle.load(f)\n",
    "    print(f\"[HOLO4K]: {len(HOLO4K_interact_results)}\")"
   ]
  },
  {
   "cell_type": "markdown",
   "id": "c7fa629c",
   "metadata": {},
   "source": [
    "### 2. Mappling PLIP results"
   ]
  },
  {
   "cell_type": "code",
   "execution_count": 4,
   "id": "63bf89e8",
   "metadata": {},
   "outputs": [],
   "source": [
    "def get_results_dict(path):\n",
    "\n",
    "    f = open(path, \"r\")\n",
    "    i, seq_target, seq_auery, align, result_dict, pdb_ratio_dict = -1, \"\", \"\", \"\", dict(), dict()\n",
    "    for line in f.readlines():\n",
    "        i += 1\n",
    "        if i % 4 == 0:\n",
    "            if 'target_name' in line:\n",
    "                if len(seq_target) != 0:\n",
    "                    result_dict[target_name] = (seq_target, seq_query, align, target_start, query_start)\n",
    "                target_name = line.strip().split(' ')[-1]\n",
    "                seq_target, seq_query, align = '', '', ''\n",
    "            else:\n",
    "                seq_target += line.split('\\t')[1]\n",
    "                \n",
    "        elif i % 4 == 1:\n",
    "            if 'query_name' in line:\n",
    "                query_name = line.strip().split(' ')[-1]\n",
    "            else:\n",
    "                align += line.strip('\\n').split('\\t')[1]\n",
    "                \n",
    "        elif i % 4 == 2:\n",
    "            if 'optimal_alignment_score' in line:\n",
    "                for item in line.strip().split('\\t'):\n",
    "                    if item.split(' ')[0] == 'target_begin:':\n",
    "                        target_start = int(item.split(' ')[1])\n",
    "                    elif item.split(' ')[0] == 'query_begin:':\n",
    "                        query_start = int(item.split(' ')[1])\n",
    "            else:\n",
    "                seq_query += line.split('\\t')[1]\n",
    "    \n",
    "    result_dict[target_name] = (seq_target, seq_query, align, target_start, query_start)\n",
    "    \n",
    "    f.close()\n",
    "    return result_dict\n",
    "\n",
    "def seq_with_gap_to_idx(seq):\n",
    "    idx_list = []\n",
    "    i = 0\n",
    "    for aa in seq:\n",
    "        if aa == '-':\n",
    "            idx_list.append(-1)\n",
    "        else:\n",
    "            idx_list.append(i)\n",
    "            i += 1\n",
    "    return idx_list\n",
    "\n",
    "def get_target_idx(target_idx_list, query_idx_list, align, target_start, query_start):\n",
    "    pdb_to_uniprot_idx = []\n",
    "    for i in range(target_start-1): \n",
    "        pdb_to_uniprot_idx.append(-1)\n",
    "        \n",
    "    for i in range(len(target_idx_list)): \n",
    "        if target_idx_list[i] != -1: \n",
    "            if align[i]  == '|' and query_idx_list[i] != -1:\n",
    "                pdb_to_uniprot_idx.append(query_idx_list[i] + query_start-1) \n",
    "            else:\n",
    "                pdb_to_uniprot_idx.append(-1)\n",
    "    return pdb_to_uniprot_idx\n",
    "\n",
    "def get_pdb_to_uniprot_map(result_dict):\n",
    "    pdb_to_uniprot_map_dict = dict()\n",
    "    \n",
    "    for name in result_dict:\n",
    "        pdbid, chain = name.split('_') \n",
    "        seq_target, seq_query, align, target_start, query_start = result_dict[name]\n",
    "\n",
    "        ratio = float(align.count('|'))/float(len(seq_target.replace('-','')))\n",
    "        if ratio < 0.9:\n",
    "            continue\n",
    "\n",
    "        target_idx_list = seq_with_gap_to_idx(seq_target) \n",
    "        query_idx_list = seq_with_gap_to_idx(seq_query) \n",
    "        pdb_to_uniprot_idx = get_target_idx(target_idx_list, query_idx_list, align, target_start, query_start)\n",
    "\n",
    "        if pdbid in pdb_to_uniprot_map_dict:\n",
    "            pdb_to_uniprot_map_dict[pdbid][chain] = pdb_to_uniprot_idx\n",
    "        else:\n",
    "            pdb_to_uniprot_map_dict[pdbid] = {}\n",
    "            pdb_to_uniprot_map_dict[pdbid][chain] = pdb_to_uniprot_idx\n",
    "    return pdb_to_uniprot_map_dict"
   ]
  },
  {
   "cell_type": "code",
   "execution_count": 5,
   "id": "e242e735",
   "metadata": {},
   "outputs": [
    {
     "name": "stdout",
     "output_type": "stream",
     "text": [
      "[PDBbind]: 29311\n",
      "[CASF2016]: 588\n",
      "[CASF2013]: 341\n",
      "[CSAR2014]: 47\n",
      "[CSAR2012]: 73\n",
      "[CSARset1]: 301\n",
      "[CSARset2]: 257\n",
      "[Astex]: 142\n",
      "[COACH420]: 522\n",
      "[HOLO4K]: 5696\n"
     ]
    }
   ],
   "source": [
    "PDBbind_mapping_results = get_results_dict(\"./fasta/PDBbind_pdb_align.txt\")\n",
    "print(f\"[PDBbind]: {len(PDBbind_mapping_results)}\")\n",
    "\n",
    "CASF2016_mapping_results = get_results_dict(\"./fasta/CASF2016_pdb_align.txt\")\n",
    "print(f\"[CASF2016]: {len(CASF2016_mapping_results)}\")\n",
    "\n",
    "CASF2013_mapping_results = get_results_dict(\"./fasta/CASF2013_pdb_align.txt\")\n",
    "print(f\"[CASF2013]: {len(CASF2013_mapping_results)}\")\n",
    "\n",
    "CSAR2014_mapping_results = get_results_dict(\"./fasta/CSAR2014_pdb_align.txt\")\n",
    "print(f\"[CSAR2014]: {len(CSAR2014_mapping_results)}\")\n",
    "\n",
    "CSAR2012_mapping_results = get_results_dict(\"./fasta/CSAR2012_pdb_align.txt\")\n",
    "print(f\"[CSAR2012]: {len(CSAR2012_mapping_results)}\")\n",
    "\n",
    "CSARset1_mapping_results = get_results_dict(\"./fasta/CSARset1_pdb_align.txt\")\n",
    "print(f\"[CSARset1]: {len(CSARset1_mapping_results)}\")\n",
    "\n",
    "CSARset2_mapping_results = get_results_dict(\"./fasta/CSARset2_pdb_align.txt\")\n",
    "print(f\"[CSARset2]: {len(CSARset2_mapping_results)}\")\n",
    "\n",
    "Astex_mapping_results = get_results_dict(\"./fasta/Astex_pdb_align.txt\")\n",
    "print(f\"[Astex]: {len(Astex_mapping_results)}\")\n",
    "\n",
    "COACH420_mapping_results = get_results_dict(\"./fasta/COACH420_pdb_align.txt\")\n",
    "print(f\"[COACH420]: {len(COACH420_mapping_results)}\")\n",
    "\n",
    "HOLO4K_mapping_results = get_results_dict(\"./fasta/HOLO4K_pdb_align.txt\")\n",
    "print(f\"[HOLO4K]: {len(HOLO4K_mapping_results)}\")"
   ]
  },
  {
   "cell_type": "code",
   "execution_count": 6,
   "id": "fbf58ca8",
   "metadata": {},
   "outputs": [
    {
     "name": "stdout",
     "output_type": "stream",
     "text": [
      "[PDBbind]: 14433\n",
      "[CASF2016]: 268\n",
      "[CASF2013]: 170\n",
      "[CSAR2014]: 46\n",
      "[CSAR2012]: 55\n",
      "[CSARset1]: 152\n",
      "[CSARset2]: 132\n",
      "[Astex]: 74\n",
      "[COACH420]: 266\n",
      "[HOLO4K]: 3167\n"
     ]
    }
   ],
   "source": [
    "PDBbind_pdb_to_uniprot_map_dict = get_pdb_to_uniprot_map(PDBbind_mapping_results)\n",
    "print(f\"[PDBbind]: {len(PDBbind_pdb_to_uniprot_map_dict)}\")\n",
    "\n",
    "CASF2016_pdb_to_uniprot_map_dict = get_pdb_to_uniprot_map(CASF2016_mapping_results)\n",
    "print(f\"[CASF2016]: {len(CASF2016_pdb_to_uniprot_map_dict)}\")\n",
    "\n",
    "CASF2013_pdb_to_uniprot_map_dict = get_pdb_to_uniprot_map(CASF2013_mapping_results)\n",
    "print(f\"[CASF2013]: {len(CASF2013_pdb_to_uniprot_map_dict)}\")\n",
    "\n",
    "CSAR2014_pdb_to_uniprot_map_dict = get_pdb_to_uniprot_map(CSAR2014_mapping_results)\n",
    "print(f\"[CSAR2014]: {len(CSAR2014_pdb_to_uniprot_map_dict)}\")\n",
    "\n",
    "CSAR2012_pdb_to_uniprot_map_dict = get_pdb_to_uniprot_map(CSAR2012_mapping_results)\n",
    "print(f\"[CSAR2012]: {len(CSAR2012_pdb_to_uniprot_map_dict)}\")\n",
    "\n",
    "CSARset1_pdb_to_uniprot_map_dict = get_pdb_to_uniprot_map(CSARset1_mapping_results)\n",
    "print(f\"[CSARset1]: {len(CSARset1_pdb_to_uniprot_map_dict)}\")\n",
    "\n",
    "CSARset2_pdb_to_uniprot_map_dict = get_pdb_to_uniprot_map(CSARset2_mapping_results)\n",
    "print(f\"[CSARset2]: {len(CSARset2_pdb_to_uniprot_map_dict)}\")\n",
    "\n",
    "Astex_pdb_to_uniprot_map_dict = get_pdb_to_uniprot_map(Astex_mapping_results)\n",
    "print(f\"[Astex]: {len(Astex_pdb_to_uniprot_map_dict)}\")\n",
    "\n",
    "COACH420_pdb_to_uniprot_map_dict = get_pdb_to_uniprot_map(COACH420_mapping_results)\n",
    "print(f\"[COACH420]: {len(COACH420_pdb_to_uniprot_map_dict)}\")\n",
    "\n",
    "HOLO4K_pdb_to_uniprot_map_dict = get_pdb_to_uniprot_map(HOLO4K_mapping_results)\n",
    "print(f\"[HOLO4K]: {len(HOLO4K_pdb_to_uniprot_map_dict)}\")"
   ]
  },
  {
   "cell_type": "code",
   "execution_count": 8,
   "id": "49a7ff4b",
   "metadata": {},
   "outputs": [],
   "source": [
    "def read_fasta(fasta_file):\n",
    "    uniprot_seq_dict = {}\n",
    "    f = open(fasta_file)\n",
    "    for line in f.readlines():\n",
    "        if line[0] == '>':\n",
    "            pdbid = line.split('_')[0][1:]\n",
    "            chain = line.strip().split(\"_\")[1]\n",
    "            name = line.strip().split('_')[-1]\n",
    "        else:\n",
    "            seq = line.strip()\n",
    "            #uniprot_seq_dict[pdbid] = (seq,name)\n",
    "            uniprot_seq_dict[f\"{pdbid}_{chain}\"] = (seq, name)\n",
    "    f.close()\n",
    "    return uniprot_seq_dict\n",
    "\n",
    "def get_interact_in_uniprot_seq(pdb_to_uniprot, seq_dict, residue_interact):    \n",
    "    interact_in_uniprot_seq_list, residue_bond_type, interact_in_uniprot_seq_set, residue_record = list(), list(), set(), \"\"\n",
    "    \n",
    "    for item in residue_interact: \n",
    "\n",
    "        chain, idx = item[0][0], int(item[0][1:]) \n",
    "        if chain not in pdb_to_uniprot:\n",
    "            continue\n",
    "        \n",
    "        sequence, idx_list = seq_dict[chain] \n",
    "        idx_list = list(map(int, idx_list.split(\",\")))\n",
    "\n",
    "        if idx_list.count(idx) != 1: \n",
    "            print(idx, idx_list.count(idx), 'idx_list.count(idx) != 1')\n",
    "        \n",
    "        seq_pos = idx_list.index(idx) \n",
    "        if seq_pos >= len(pdb_to_uniprot[chain]): \n",
    "            continue \n",
    "        \n",
    "        if pdb_to_uniprot[chain][seq_pos] == -1: \n",
    "            continue\n",
    "        \n",
    "        interact_idx = pdb_to_uniprot[chain][seq_pos]\n",
    "\n",
    "        interact_in_uniprot_seq_set.add(interact_idx)\n",
    "        interact_in_uniprot_seq_list.append(interact_idx)\n",
    "        residue_bond_type.append((interact_idx, item[2]))\n",
    "        residue_record += item[1] \n",
    "\n",
    "    return interact_in_uniprot_seq_list, residue_record, residue_bond_type, chain\n",
    "        \n",
    "def mapping_interaction(interaction_dict, pdb_to_uniprot_map_dict, fasta_file):\n",
    "\n",
    "    i, count_no_uniprot_map, count_not_in_uniprot_seq_dict, uniprot_seq_dict, final_results = 0, 0, 0, read_fasta(fasta_file), dict()\n",
    "\n",
    "    for item in interaction_dict:\n",
    "        \n",
    "        pdbid, ligand = item.split(\"_\")\n",
    "\n",
    "        if pdbid not in pdb_to_uniprot_map_dict:\n",
    "            count_no_uniprot_map += 1\n",
    "            i += 1\n",
    "            print(f\"[Error: {i}] PDB id: {pdbid}, Ligand code: {ligand} is not in uniprot mapping dict\")\n",
    "            continue\n",
    "\n",
    "        seq_dict = interaction_dict[f\"{pdbid}_{ligand}\"][\"sequence\"]\n",
    "        residue_interact = interaction_dict[f\"{pdbid}_{ligand}\"][\"residue_interact\"]\n",
    "\n",
    "        assert residue_interact is not None\n",
    "\n",
    "        pdb_to_uniprot = pdb_to_uniprot_map_dict[pdbid]\n",
    "\n",
    "        interact_in_uniprot_seq_list, residue_record, residue_bond_type, chain = get_interact_in_uniprot_seq(pdb_to_uniprot, seq_dict, residue_interact)      \n",
    "\n",
    "        uniprot_seq, uniprot_id = uniprot_seq_dict[f\"{pdbid}_{chain}\"]\n",
    "\n",
    "        if residue_record == ''.join(np.array([aa for aa in uniprot_seq])[interact_in_uniprot_seq_list].tolist()):\n",
    "\n",
    "            final_results[f\"{pdbid}_{ligand}\"] = {}\n",
    "            final_results[f\"{pdbid}_{ligand}\"]['atom_idx'] = interaction_dict[pdbid+'_'+ligand]['atom_idx']\n",
    "            final_results[f\"{pdbid}_{ligand}\"]['atom_name'] = interaction_dict[pdbid+'_'+ligand]['atom_name']\n",
    "            final_results[f\"{pdbid}_{ligand}\"]['atom_element'] = interaction_dict[pdbid+'_'+ligand]['atom_element']\n",
    "            final_results[f\"{pdbid}_{ligand}\"]['atom_interact'] = interaction_dict[pdbid+'_'+ligand]['atom_interact']\n",
    "            final_results[f\"{pdbid}_{ligand}\"]['atom_bond_type'] = interaction_dict[pdbid+'_'+ligand]['atom_bond_type']\n",
    "            final_results[f\"{pdbid}_{ligand}\"]['uniprot_id'] = uniprot_id\n",
    "            final_results[f\"{pdbid}_{ligand}\"]['uniprot_seq'] = uniprot_seq\n",
    "            final_results[f\"{pdbid}_{ligand}\"]['interact_in_uniprot_seq'] = interact_in_uniprot_seq_list\n",
    "            final_results[f\"{pdbid}_{ligand}\"]['residue_bond_type'] = residue_bond_type\n",
    "\n",
    "    return final_results"
   ]
  },
  {
   "cell_type": "markdown",
   "id": "cabedf0d",
   "metadata": {},
   "source": [
    "#### 2.1 PDBbind dataset"
   ]
  },
  {
   "cell_type": "code",
   "execution_count": 9,
   "id": "7902cbb8",
   "metadata": {},
   "outputs": [
    {
     "name": "stdout",
     "output_type": "stream",
     "text": [
      "[Error: 1] PDB id: 5wqc, Ligand code: 7MA is not in uniprot mapping dict\n",
      "[Error: 2] PDB id: 4xy2, Ligand code: 490 is not in uniprot mapping dict\n",
      "[Error: 3] PDB id: 4ymj, Ligand code: 4EJ is not in uniprot mapping dict\n",
      "[Error: 4] PDB id: 6drz, Ligand code: H8J is not in uniprot mapping dict\n",
      "[Error: 5] PDB id: 3sv7, Ligand code: SV6 is not in uniprot mapping dict\n",
      "[Error: 6] PDB id: 5jga, Ligand code: 6KC is not in uniprot mapping dict\n",
      "[Error: 7] PDB id: 6nrh, Ligand code: KYP is not in uniprot mapping dict\n",
      "[Error: 8] PDB id: 6dm8, Ligand code: 6AK is not in uniprot mapping dict\n",
      "[Error: 9] PDB id: 3suf, Ligand code: SUE is not in uniprot mapping dict\n",
      "[Error: 10] PDB id: 5c2e, Ligand code: 4Y1 is not in uniprot mapping dict\n",
      "[Error: 11] PDB id: 4v25, Ligand code: SZ6 is not in uniprot mapping dict\n",
      "[Error: 12] PDB id: 6a94, Ligand code: ZOT is not in uniprot mapping dict\n",
      "[Error: 13] PDB id: 6kdz, Ligand code: D79 is not in uniprot mapping dict\n",
      "[Error: 14] PDB id: 5e7r, Ligand code: 5KW is not in uniprot mapping dict\n",
      "[Error: 15] PDB id: 4up5, Ligand code: 94W is not in uniprot mapping dict\n",
      "[Error: 16] PDB id: 6iql, Ligand code: L74 is not in uniprot mapping dict\n",
      "[Error: 17] PDB id: 6qxj, Ligand code: JKQ is not in uniprot mapping dict\n",
      "[Error: 18] PDB id: 6m9t, Ligand code: J9P is not in uniprot mapping dict\n",
      "[Error: 19] PDB id: 6ps5, Ligand code: SNP is not in uniprot mapping dict\n",
      "[Error: 20] PDB id: 6ds0, Ligand code: H8M is not in uniprot mapping dict\n",
      "[Error: 21] PDB id: 4rdn, Ligand code: 6MD is not in uniprot mapping dict\n",
      "[Error: 22] PDB id: 5kww, Ligand code: 6YA is not in uniprot mapping dict\n",
      "[Error: 23] PDB id: 6qgg, Ligand code: J1H is not in uniprot mapping dict\n",
      "[Error: 24] PDB id: 3sh1, Ligand code: MLK is not in uniprot mapping dict\n",
      "[Error: 25] PDB id: 5x33, Ligand code: 7Y9 is not in uniprot mapping dict\n",
      "[Error: 26] PDB id: 5t1a, Ligand code: VT5 is not in uniprot mapping dict\n",
      "[Error: 27] PDB id: 5vcz, Ligand code: XZN is not in uniprot mapping dict\n",
      "[Error: 28] PDB id: 4nvp, Ligand code: 7CH is not in uniprot mapping dict\n",
      "[Error: 29] PDB id: 4j8t, Ligand code: DOG is not in uniprot mapping dict\n",
      "[Error: 30] PDB id: 6ps3, Ligand code: CVD is not in uniprot mapping dict\n",
      "[Error: 31] PDB id: 3u7s, Ligand code: 017 is not in uniprot mapping dict\n",
      "[Error: 32] PDB id: 3iaw, Ligand code: 2NC is not in uniprot mapping dict\n",
      "[Error: 33] PDB id: 3su4, Ligand code: SU3 is not in uniprot mapping dict\n",
      "[Error: 34] PDB id: 6prf, Ligand code: 7OA is not in uniprot mapping dict\n",
      "[Error: 35] PDB id: 5voj, Ligand code: 9H4 is not in uniprot mapping dict\n",
      "[Error: 36] PDB id: 6ffh, Ligand code: D7W is not in uniprot mapping dict\n",
      "[Error: 37] PDB id: 4azg, Ligand code: OAN is not in uniprot mapping dict\n",
      "[Error: 38] PDB id: 5vew, Ligand code: 97Y is not in uniprot mapping dict\n",
      "[Error: 39] PDB id: 4l52, Ligand code: 1UL is not in uniprot mapping dict\n",
      "[Error: 40] PDB id: 5afl, Ligand code: FHV is not in uniprot mapping dict\n",
      "[Error: 41] PDB id: 3vw7, Ligand code: VPX is not in uniprot mapping dict\n",
      "[Error: 42] PDB id: 5edu, Ligand code: TSN is not in uniprot mapping dict\n",
      "[Error: 43] PDB id: 5w88, Ligand code: 9XG is not in uniprot mapping dict\n",
      "[Error: 44] PDB id: 2mov, Ligand code: IOR is not in uniprot mapping dict\n",
      "[Error: 45] PDB id: 4zjc, Ligand code: 4OT is not in uniprot mapping dict\n",
      "[Error: 46] PDB id: 6bqg, Ligand code: ERM is not in uniprot mapping dict\n",
      "[Error: 47] PDB id: 5j7s, Ligand code: 6H3 is not in uniprot mapping dict\n",
      "[Error: 48] PDB id: 6drx, Ligand code: H8G is not in uniprot mapping dict\n",
      "[Error: 49] PDB id: 6eo0, Ligand code: BVT is not in uniprot mapping dict\n",
      "[Error: 50] PDB id: 6iiu, Ligand code: A8X is not in uniprot mapping dict\n",
      "[Error: 51] PDB id: 3eml, Ligand code: ZMA is not in uniprot mapping dict\n",
      "[Error: 52] PDB id: 6p5w, Ligand code: O0A is not in uniprot mapping dict\n",
      "[Error: 53] PDB id: 6qzh, Ligand code: JLW is not in uniprot mapping dict\n",
      "[Error: 54] PDB id: 5ee7, Ligand code: 5MV is not in uniprot mapping dict\n",
      "[Error: 55] PDB id: 6bqh, Ligand code: E2J is not in uniprot mapping dict\n",
      "[Error: 56] PDB id: 3su1, Ligand code: TSV is not in uniprot mapping dict\n",
      "[Error: 57] PDB id: 5afn, Ligand code: OJD is not in uniprot mapping dict\n",
      "[Error: 58] PDB id: 5afk, Ligand code: 5VU is not in uniprot mapping dict\n",
      "[Error: 59] PDB id: 3sut, Ligand code: OAN is not in uniprot mapping dict\n",
      "[Error: 60] PDB id: 6s9c, Ligand code: L1K is not in uniprot mapping dict\n",
      "[Error: 61] PDB id: 5gjd, Ligand code: 6V3 is not in uniprot mapping dict\n",
      "[Error: 62] PDB id: 5zk3, Ligand code: QNB is not in uniprot mapping dict\n",
      "[Error: 63] PDB id: 4zo5, Ligand code: 4Q0 is not in uniprot mapping dict\n",
      "[Error: 64] PDB id: 3oe9, Ligand code: ITD is not in uniprot mapping dict\n",
      "[Error: 65] PDB id: 6nrg, Ligand code: KYY is not in uniprot mapping dict\n",
      "[Error: 66] PDB id: 6bqk, Ligand code: Z1E is not in uniprot mapping dict\n",
      "[Error: 67] PDB id: 2aig, Ligand code: 0GR is not in uniprot mapping dict\n",
      "[Error: 68] PDB id: 4c94, Ligand code: KXN is not in uniprot mapping dict\n",
      "[Error: 69] PDB id: 6ccy, Ligand code: EX4 is not in uniprot mapping dict\n",
      "[Error: 70] PDB id: 6qgj, Ligand code: J1T is not in uniprot mapping dict\n",
      "[Error: 71] PDB id: 2hiw, Ligand code: 7MP is not in uniprot mapping dict\n",
      "[Error: 72] PDB id: 5gjg, Ligand code: 6V5 is not in uniprot mapping dict\n",
      "[Error: 73] PDB id: 1sh9, Ligand code: RIT is not in uniprot mapping dict\n",
      "[Error: 74] PDB id: 6gl8, Ligand code: F3Q is not in uniprot mapping dict\n",
      "[Error: 75] PDB id: 4l3p, Ligand code: 1UH is not in uniprot mapping dict\n",
      "[Error: 76] PDB id: 6ibl, Ligand code: H98 is not in uniprot mapping dict\n",
      "[Error: 77] PDB id: 5nkn, Ligand code: LOC is not in uniprot mapping dict\n",
      "[Error: 78] PDB id: 3qak, Ligand code: UKA is not in uniprot mapping dict\n",
      "[Error: 79] PDB id: 3wi2, Ligand code: P98 is not in uniprot mapping dict\n",
      "[Error: 80] PDB id: 5wf5, Ligand code: UKA is not in uniprot mapping dict\n",
      "[Error: 81] PDB id: 6qyl, Ligand code: JLE is not in uniprot mapping dict\n",
      "[Error: 82] PDB id: 6pt3, Ligand code: OWY is not in uniprot mapping dict\n",
      "[Error: 83] PDB id: 6gxy, Ligand code: FFN is not in uniprot mapping dict\n",
      "[Error: 84] PDB id: 5cgd, Ligand code: 51E is not in uniprot mapping dict\n",
      "[Error: 85] PDB id: 3oe8, Ligand code: ITD is not in uniprot mapping dict\n",
      "[Error: 86] PDB id: 6a93, Ligand code: 8NU is not in uniprot mapping dict\n",
      "[Error: 87] PDB id: 3sud, Ligand code: SUE is not in uniprot mapping dict\n",
      "[Error: 88] PDB id: 5iua, Ligand code: 6DX is not in uniprot mapping dict\n",
      "[Error: 89] PDB id: 6qyn, Ligand code: JL8 is not in uniprot mapping dict\n",
      "[Error: 90] PDB id: 5wcl, Ligand code: 9XG is not in uniprot mapping dict\n",
      "[Error: 91] PDB id: 5ndd, Ligand code: 8TZ is not in uniprot mapping dict\n",
      "[Error: 92] PDB id: 4yhq, Ligand code: G10 is not in uniprot mapping dict\n",
      "[Error: 93] PDB id: 5c2a, Ligand code: 4Y2 is not in uniprot mapping dict\n",
      "[Error: 94] PDB id: 4phu, Ligand code: 2YB is not in uniprot mapping dict\n",
      "[Error: 95] PDB id: 4li5, Ligand code: 1WY is not in uniprot mapping dict\n",
      "[Error: 96] PDB id: 6qgk, Ligand code: J1Q is not in uniprot mapping dict\n",
      "[Error: 97] PDB id: 6nrf, Ligand code: KYV is not in uniprot mapping dict\n",
      "[Error: 98] PDB id: 4ye3, Ligand code: G04 is not in uniprot mapping dict\n",
      "[Error: 99] PDB id: 6ce2, Ligand code: SVR is not in uniprot mapping dict\n",
      "[Error: 100] PDB id: 3ka2, Ligand code: 2NC is not in uniprot mapping dict\n",
      "[Error: 101] PDB id: 4jal, Ligand code: SAH is not in uniprot mapping dict\n",
      "[Error: 102] PDB id: 6k1q, Ligand code: D2U is not in uniprot mapping dict\n",
      "[Error: 103] PDB id: 6bg5, Ligand code: DQD is not in uniprot mapping dict\n",
      "[Error: 104] PDB id: 3t3c, Ligand code: 017 is not in uniprot mapping dict\n",
      "[Error: 105] PDB id: 5j8i, Ligand code: 6H4 is not in uniprot mapping dict\n",
      "[Error: 106] PDB id: 6ps0, Ligand code: CAU is not in uniprot mapping dict\n",
      "[Error: 107] PDB id: 6p5v, Ligand code: O37 is not in uniprot mapping dict\n",
      "[Error: 108] PDB id: 5h08, Ligand code: 7WL is not in uniprot mapping dict\n",
      "[Error: 109] PDB id: 3hyf, Ligand code: ON1 is not in uniprot mapping dict\n",
      "[Error: 110] PDB id: 4wmv, Ligand code: 3R4 is not in uniprot mapping dict\n",
      "[Error: 111] PDB id: 3sue, Ligand code: SUE is not in uniprot mapping dict\n",
      "[Error: 112] PDB id: 5igl, Ligand code: BMF is not in uniprot mapping dict\n",
      "[Error: 113] PDB id: 5eou, Ligand code: ATP is not in uniprot mapping dict\n",
      "[Error: 114] PDB id: 4wgi, Ligand code: 3M6 is not in uniprot mapping dict\n",
      "[Error: 115] PDB id: 6ffi, Ligand code: D8B is not in uniprot mapping dict\n",
      "[Error: 116] PDB id: 5vd3, Ligand code: H8H is not in uniprot mapping dict\n",
      "[Error: 117] PDB id: 6kqi, Ligand code: 9GF is not in uniprot mapping dict\n",
      "[Error: 118] PDB id: 6ps4, Ligand code: JRZ is not in uniprot mapping dict\n",
      "[Error: 119] PDB id: 5vcy, Ligand code: DB8 is not in uniprot mapping dict\n",
      "[Error: 120] PDB id: 5unh, Ligand code: 8EM is not in uniprot mapping dict\n",
      "[Error: 121] PDB id: 5vb6, Ligand code: 927 is not in uniprot mapping dict\n",
      "[Error: 122] PDB id: 5i4v, Ligand code: 67S is not in uniprot mapping dict\n",
      "[Error: 123] PDB id: 5v83, Ligand code: 8Z7 is not in uniprot mapping dict\n",
      "[Error: 124] PDB id: 5vb5, Ligand code: 92A is not in uniprot mapping dict\n",
      "[Error: 125] PDB id: 5v5n, Ligand code: EDH is not in uniprot mapping dict\n",
      "[Error: 126] PDB id: 5jh6, Ligand code: T92 is not in uniprot mapping dict\n",
      "[Error: 127] PDB id: 5v88, Ligand code: 8ZD is not in uniprot mapping dict\n",
      "[Error: 128] PDB id: 3suu, Ligand code: OGN is not in uniprot mapping dict\n",
      "[Error: 129] PDB id: 4ono, Ligand code: PMK is not in uniprot mapping dict\n",
      "[Error: 130] PDB id: 4xnw, Ligand code: 2ID is not in uniprot mapping dict\n",
      "[Error: 131] PDB id: 4nwk, Ligand code: 2R8 is not in uniprot mapping dict\n",
      "[Error: 132] PDB id: 4l53, Ligand code: 1UO is not in uniprot mapping dict\n"
     ]
    },
    {
     "name": "stdout",
     "output_type": "stream",
     "text": [
      "[Error: 133] PDB id: 5iub, Ligand code: 6DV is not in uniprot mapping dict\n",
      "[Error: 134] PDB id: 4wn1, Ligand code: 3SJ is not in uniprot mapping dict\n",
      "[Error: 135] PDB id: 2wey, Ligand code: EV1 is not in uniprot mapping dict\n",
      "[Error: 136] PDB id: 4gs6, Ligand code: 1FM is not in uniprot mapping dict\n",
      "[Error: 137] PDB id: 6me3, Ligand code: JEY is not in uniprot mapping dict\n",
      "[Error: 138] PDB id: 3ggu, Ligand code: 017 is not in uniprot mapping dict\n",
      "[Error: 139] PDB id: 3odu, Ligand code: ITD is not in uniprot mapping dict\n",
      "[Error: 140] PDB id: 5tzy, Ligand code: 7OS is not in uniprot mapping dict\n",
      "[Error: 141] PDB id: 4qkx, Ligand code: 35V is not in uniprot mapping dict\n",
      "[Error: 142] PDB id: 4ie6, Ligand code: UN9 is not in uniprot mapping dict\n",
      "[Error: 143] PDB id: 3v5q, Ligand code: 0F4 is not in uniprot mapping dict\n",
      "[Error: 144] PDB id: 6me4, Ligand code: ML2 is not in uniprot mapping dict\n",
      "[Error: 145] PDB id: 5ws3, Ligand code: 7MA is not in uniprot mapping dict\n",
      "[Error: 146] PDB id: 5kw2, Ligand code: 6XQ is not in uniprot mapping dict\n",
      "[Error: 147] PDB id: 6nrj, Ligand code: KYJ is not in uniprot mapping dict\n",
      "[Error: 148] PDB id: 6qyk, Ligand code: JLB is not in uniprot mapping dict\n",
      "[Error: 149] PDB id: 6me2, Ligand code: JEV is not in uniprot mapping dict\n",
      "[Error: 150] PDB id: 4zj8, Ligand code: SUV is not in uniprot mapping dict\n",
      "[Error: 151] PDB id: 5h5f, Ligand code: SAM is not in uniprot mapping dict\n",
      "[Error: 152] PDB id: 3su0, Ligand code: TSV is not in uniprot mapping dict\n",
      "[Error: 153] PDB id: 2yol, Ligand code: EBN is not in uniprot mapping dict\n",
      "[Error: 154] PDB id: 5iu8, Ligand code: 6DZ is not in uniprot mapping dict\n",
      "[Error: 155] PDB id: 5tvn, Ligand code: 7LD is not in uniprot mapping dict\n",
      "[Error: 156] PDB id: 2bu5, Ligand code: TF1 is not in uniprot mapping dict\n",
      "[Error: 157] PDB id: 4xnv, Ligand code: BUR is not in uniprot mapping dict\n",
      "[Error: 158] PDB id: 5jgd, Ligand code: 6KD is not in uniprot mapping dict\n",
      "[Error: 159] PDB id: 6kdx, Ligand code: D6X is not in uniprot mapping dict\n",
      "[Error: 160] PDB id: 6ke0, Ligand code: D7C is not in uniprot mapping dict\n",
      "[Error: 161] PDB id: 3ttp, Ligand code: 017 is not in uniprot mapping dict\n",
      "[Error: 162] PDB id: 5vp9, Ligand code: 9H7 is not in uniprot mapping dict\n",
      "[Error: 163] PDB id: 5vex, Ligand code: 97V is not in uniprot mapping dict\n",
      "[Error: 164] PDB id: 5cgc, Ligand code: 51D is not in uniprot mapping dict\n",
      "[Error: 165] PDB id: 6au2, Ligand code: CGJ is not in uniprot mapping dict\n",
      "[Error: 166] PDB id: 5yc8, Ligand code: 3C0 is not in uniprot mapping dict\n",
      "[Error: 167] PDB id: 3hlo, Ligand code: 2NC is not in uniprot mapping dict\n",
      "[Error: 168] PDB id: 4wmu, Ligand code: 19H is not in uniprot mapping dict\n",
      "[Error: 169] PDB id: 5afj, Ligand code: 42R is not in uniprot mapping dict\n",
      "[Error: 170] PDB id: 3ws9, Ligand code: X4D is not in uniprot mapping dict\n",
      "[Error: 171] PDB id: 3oe6, Ligand code: ITD is not in uniprot mapping dict\n",
      "[Error: 172] PDB id: 6qz7, Ligand code: JLE is not in uniprot mapping dict\n",
      "[Error: 173] PDB id: 5jgb, Ligand code: 6JV is not in uniprot mapping dict\n",
      "[Error: 174] PDB id: 3sv8, Ligand code: SV6 is not in uniprot mapping dict\n",
      "[Error: 175] PDB id: 5m4k, Ligand code: 7F9 is not in uniprot mapping dict\n",
      "[Error: 176] PDB id: 5iu4, Ligand code: ZMA is not in uniprot mapping dict\n",
      "[Error: 177] PDB id: 5vb7, Ligand code: 921 is not in uniprot mapping dict\n",
      "[Error: 178] PDB id: 3suw, Ligand code: GC2 is not in uniprot mapping dict\n",
      "[Error: 179] PDB id: 5vkf, Ligand code: NPY is not in uniprot mapping dict\n",
      "[Error: 180] PDB id: 6rz6, Ligand code: KNW is not in uniprot mapping dict\n",
      "[Error: 181] PDB id: 6msa, Ligand code: JY4 is not in uniprot mapping dict\n",
      "[Error: 182] PDB id: 6qgh, Ligand code: 1XJ is not in uniprot mapping dict\n",
      "[Error: 183] PDB id: 5iu7, Ligand code: 6DY is not in uniprot mapping dict\n",
      "[Error: 184] PDB id: 3fsm, Ligand code: 2NC is not in uniprot mapping dict\n",
      "[Error: 185] PDB id: 4n6h, Ligand code: EJ4 is not in uniprot mapping dict\n",
      "[Error: 186] PDB id: 6qyo, Ligand code: JLH is not in uniprot mapping dict\n",
      "[Error: 187] PDB id: 3sus, Ligand code: GNL is not in uniprot mapping dict\n",
      "[Error: 188] PDB id: 6e59, Ligand code: L76 is not in uniprot mapping dict\n",
      "[Error: 189] PDB id: 5wf6, Ligand code: UKA is not in uniprot mapping dict\n",
      "[Error: 190] PDB id: 4ntj, Ligand code: AZJ is not in uniprot mapping dict\n",
      "[Error: 191] PDB id: 6ps1, Ligand code: TIM is not in uniprot mapping dict\n",
      "[Error: 192] PDB id: 3sug, Ligand code: SUE is not in uniprot mapping dict\n",
      "[Error: 193] PDB id: 6ps6, Ligand code: TIM is not in uniprot mapping dict\n",
      "[Error: 194] PDB id: 6gxg, Ligand code: FFN is not in uniprot mapping dict\n",
      "[Error: 195] PDB id: 6dry, Ligand code: H8D is not in uniprot mapping dict\n",
      "[Error: 196] PDB id: 5uig, Ligand code: 8D1 is not in uniprot mapping dict\n",
      "[Error: 197] PDB id: 6n48, Ligand code: KBY is not in uniprot mapping dict\n",
      "[Error: 198] PDB id: 3sur, Ligand code: NGT is not in uniprot mapping dict\n",
      "[Error: 199] PDB id: 5zkb, Ligand code: 82F is not in uniprot mapping dict\n",
      "[Error: 200] PDB id: 5zk8, Ligand code: 3C0 is not in uniprot mapping dict\n",
      "[Error: 201] PDB id: 3sv6, Ligand code: SV6 is not in uniprot mapping dict\n",
      "[Error: 202] PDB id: 3ws8, Ligand code: X4C is not in uniprot mapping dict\n",
      "[Error: 203] PDB id: 5gjf, Ligand code: 6V4 is not in uniprot mapping dict\n",
      "[Error: 204] PDB id: 5vd1, Ligand code: P48 is not in uniprot mapping dict\n",
      "[Error: 205] PDB id: 4wmx, Ligand code: 3R7 is not in uniprot mapping dict\n",
      "[Error: 206] PDB id: 5ek0, Ligand code: 5P2 is not in uniprot mapping dict\n",
      "[Error: 207] PDB id: 5zty, Ligand code: 9JU is not in uniprot mapping dict\n",
      "[Error: 208] PDB id: 4djh, Ligand code: JDC is not in uniprot mapping dict\n",
      "[Error: 209] PDB id: 6s9d, Ligand code: L3Z is not in uniprot mapping dict\n",
      "[Error: 210] PDB id: 5zkc, Ligand code: 3C0 is not in uniprot mapping dict\n",
      "[Error: 211] PDB id: 6aqf, Ligand code: ZMA is not in uniprot mapping dict\n",
      "[Error: 212] PDB id: 3v2w, Ligand code: ML5 is not in uniprot mapping dict\n",
      "[Error: 213] PDB id: 3su6, Ligand code: SU3 is not in uniprot mapping dict\n",
      "[Error: 214] PDB id: 4oo9, Ligand code: 2U8 is not in uniprot mapping dict\n",
      "[Error: 215] PDB id: 6iiv, Ligand code: A90 is not in uniprot mapping dict\n",
      "[Error: 216] PDB id: 5v86, Ligand code: 8ZA is not in uniprot mapping dict\n",
      "[Error: 217] PDB id: 3aig, Ligand code: 0ZC is not in uniprot mapping dict\n",
      "[Error: 218] PDB id: 6mv3, Ligand code: WW7 is not in uniprot mapping dict\n",
      "[Error: 219] PDB id: 6nri, Ligand code: KYM is not in uniprot mapping dict\n",
      "[Error: 220] PDB id: 1sgu, Ligand code: MK1 is not in uniprot mapping dict\n",
      "[Error: 221] PDB id: 4pf5, Ligand code: M3N is not in uniprot mapping dict\n",
      "[Error: 222] PDB id: 3suv, Ligand code: NOK is not in uniprot mapping dict\n",
      "[Error: 223] PDB id: 4o91, Ligand code: NG2 is not in uniprot mapping dict\n",
      "[Error: 224] PDB id: 5jk3, Ligand code: 6L4 is not in uniprot mapping dict\n",
      "[Error: 225] PDB id: 6me5, Ligand code: AWY is not in uniprot mapping dict\n",
      "[Error: 226] PDB id: 5afm, Ligand code: 9Z0 is not in uniprot mapping dict\n",
      "[Error: 227] PDB id: 6bg3, Ligand code: DOJ is not in uniprot mapping dict\n",
      "[Error: 228] PDB id: 3zqe, Ligand code: DXC is not in uniprot mapping dict\n",
      "[Error: 229] PDB id: 5llm, Ligand code: 6Z6 is not in uniprot mapping dict\n",
      "[Error: 230] PDB id: 5j9l, Ligand code: 6HF is not in uniprot mapping dict\n",
      "[PDBbind]: 13433\n"
     ]
    }
   ],
   "source": [
    "PDBbind_results = mapping_interaction(PDBbind_interact_results, PDBbind_pdb_to_uniprot_map_dict, \"./fasta/PDBbind_target_uniprot_pdb.fasta\")\n",
    "print(f\"[PDBbind]: {len(PDBbind_results)}\")"
   ]
  },
  {
   "cell_type": "markdown",
   "id": "aa9e8949",
   "metadata": {},
   "source": [
    "#### 2.2 CASF2016 dataset"
   ]
  },
  {
   "cell_type": "code",
   "execution_count": 10,
   "id": "5876646a",
   "metadata": {},
   "outputs": [
    {
     "name": "stdout",
     "output_type": "stream",
     "text": [
      "[Error: 1] PDB id: 5c28, Ligand code: 4XV is not in uniprot mapping dict\n",
      "[CASF2016]: 268\n"
     ]
    }
   ],
   "source": [
    "CASF2016_results = mapping_interaction(CASF2016_interact_results, CASF2016_pdb_to_uniprot_map_dict, \"./fasta/CASF2016_target_uniprot_pdb.fasta\")\n",
    "print(f\"[CASF2016]: {len(CASF2016_results)}\")"
   ]
  },
  {
   "cell_type": "markdown",
   "id": "e34115e6",
   "metadata": {},
   "source": [
    "#### 2.3 CASF2013 dataset"
   ]
  },
  {
   "cell_type": "code",
   "execution_count": 11,
   "id": "662364fb",
   "metadata": {},
   "outputs": [
    {
     "name": "stdout",
     "output_type": "stream",
     "text": [
      "[Error: 1] PDB id: 3su2, Ligand code: TSV is not in uniprot mapping dict\n",
      "[Error: 2] PDB id: 3su3, Ligand code: SU3 is not in uniprot mapping dict\n",
      "[Error: 3] PDB id: 3su5, Ligand code: SU3 is not in uniprot mapping dict\n",
      "[CASF2013]: 169\n"
     ]
    }
   ],
   "source": [
    "CASF2013_results = mapping_interaction(CASF2013_interact_results, CASF2013_pdb_to_uniprot_map_dict, \"./fasta/CASF2013_target_uniprot_pdb.fasta\")\n",
    "print(f\"[CASF2013]: {len(CASF2013_results)}\")"
   ]
  },
  {
   "cell_type": "markdown",
   "id": "303b6183",
   "metadata": {},
   "source": [
    "#### 2.4 CSAR2014 dataset"
   ]
  },
  {
   "cell_type": "code",
   "execution_count": 12,
   "id": "d407021f",
   "metadata": {},
   "outputs": [
    {
     "name": "stdout",
     "output_type": "stream",
     "text": [
      "[CSAR2014]: 46\n"
     ]
    }
   ],
   "source": [
    "CSAR2014_results = mapping_interaction(CSAR2014_interact_results, CSAR2014_pdb_to_uniprot_map_dict, \"./fasta/CSAR2014_target_uniprot_pdb.fasta\")\n",
    "print(f\"[CSAR2014]: {len(CSAR2014_results)}\")"
   ]
  },
  {
   "cell_type": "markdown",
   "id": "f24a7fb2",
   "metadata": {},
   "source": [
    "#### 2.5 CSAR2012 dataset"
   ]
  },
  {
   "cell_type": "code",
   "execution_count": 13,
   "id": "4831c3ef",
   "metadata": {},
   "outputs": [
    {
     "name": "stdout",
     "output_type": "stream",
     "text": [
      "[CSAR2012]: 55\n"
     ]
    }
   ],
   "source": [
    "CSAR2012_results = mapping_interaction(CSAR2012_interact_results, CSAR2012_pdb_to_uniprot_map_dict, \"./fasta/CSAR2012_target_uniprot_pdb.fasta\")\n",
    "print(f\"[CSAR2012]: {len(CSAR2012_results)}\")"
   ]
  },
  {
   "cell_type": "markdown",
   "id": "b5ab67ed",
   "metadata": {},
   "source": [
    "#### 2.6 CSARset1 dataset"
   ]
  },
  {
   "cell_type": "code",
   "execution_count": 14,
   "id": "11321b05",
   "metadata": {},
   "outputs": [
    {
     "name": "stdout",
     "output_type": "stream",
     "text": [
      "[CSARset1]: 152\n"
     ]
    }
   ],
   "source": [
    "CSARset1_results = mapping_interaction(CSARset1_interact_results, CSARset1_pdb_to_uniprot_map_dict, \"./fasta/CSARset1_target_uniprot_pdb.fasta\")\n",
    "print(f\"[CSARset1]: {len(CSARset1_results)}\") "
   ]
  },
  {
   "cell_type": "markdown",
   "id": "09930f2d",
   "metadata": {},
   "source": [
    "#### 2.7 CSARset2 dataset"
   ]
  },
  {
   "cell_type": "code",
   "execution_count": 15,
   "id": "464b9fa9",
   "metadata": {},
   "outputs": [
    {
     "name": "stdout",
     "output_type": "stream",
     "text": [
      "[Error: 1] PDB id: 1lnm, Ligand code: DTX is not in uniprot mapping dict\n",
      "[Error: 2] PDB id: 1zhy, Ligand code: CLR is not in uniprot mapping dict\n",
      "[Error: 3] PDB id: 1zhx, Ligand code: HC3 is not in uniprot mapping dict\n",
      "[CSARset2]: 132\n"
     ]
    }
   ],
   "source": [
    "CSARset2_results = mapping_interaction(CSARset2_interact_results, CSARset2_pdb_to_uniprot_map_dict, \"./fasta/CSARset2_target_uniprot_pdb.fasta\")\n",
    "print(f\"[CSARset2]: {len(CSARset2_results)}\")"
   ]
  },
  {
   "cell_type": "markdown",
   "id": "36064123",
   "metadata": {},
   "source": [
    "#### 2.8 Astex dataset"
   ]
  },
  {
   "cell_type": "code",
   "execution_count": 16,
   "id": "eab20506",
   "metadata": {},
   "outputs": [
    {
     "name": "stdout",
     "output_type": "stream",
     "text": [
      "[Astex]: 74\n"
     ]
    }
   ],
   "source": [
    "Astex_results = mapping_interaction(Astex_interact_results, Astex_pdb_to_uniprot_map_dict, \"./fasta/Astex_target_uniprot_pdb.fasta\")\n",
    "print(f\"[Astex]: {len(Astex_results)}\")"
   ]
  },
  {
   "cell_type": "markdown",
   "id": "63984caf",
   "metadata": {},
   "source": [
    "#### 2.9 COACH420 dataset"
   ]
  },
  {
   "cell_type": "code",
   "execution_count": 17,
   "id": "7f070c48",
   "metadata": {},
   "outputs": [
    {
     "name": "stdout",
     "output_type": "stream",
     "text": [
      "[Error: 1] PDB id: 3hvl, Ligand code: SRL is not in uniprot mapping dict\n",
      "[COACH420]: 322\n"
     ]
    }
   ],
   "source": [
    "COACH420_results = mapping_interaction(COACH420_interact_results, COACH420_pdb_to_uniprot_map_dict, \"./fasta/COACH420_target_uniprot_pdb.fasta\")\n",
    "print(f\"[COACH420]: {len(COACH420_results)}\")"
   ]
  },
  {
   "cell_type": "markdown",
   "id": "af2934b0",
   "metadata": {},
   "source": [
    "#### 2.10 HOLO4K dataset"
   ]
  },
  {
   "cell_type": "code",
   "execution_count": 18,
   "id": "be5c293b",
   "metadata": {},
   "outputs": [
    {
     "name": "stdout",
     "output_type": "stream",
     "text": [
      "[Error: 1] PDB id: 1brw, Ligand code: URA is not in uniprot mapping dict\n",
      "[Error: 2] PDB id: 1jf0, Ligand code: CZH is not in uniprot mapping dict\n",
      "[Error: 3] PDB id: 1lke, Ligand code: DOG is not in uniprot mapping dict\n",
      "[Error: 4] PDB id: 1lnm, Ligand code: DTX is not in uniprot mapping dict\n",
      "[Error: 5] PDB id: 1men, Ligand code: GAR is not in uniprot mapping dict\n",
      "[Error: 6] PDB id: 1n0s, Ligand code: FLU is not in uniprot mapping dict\n",
      "[Error: 7] PDB id: 1n3i, Ligand code: DIH is not in uniprot mapping dict\n",
      "[Error: 8] PDB id: 1nsa, Ligand code: BEN is not in uniprot mapping dict\n",
      "[Error: 9] PDB id: 1swg, Ligand code: BTN is not in uniprot mapping dict\n",
      "[Error: 10] PDB id: 4aig, Ligand code: FLX is not in uniprot mapping dict\n",
      "[HOLO4K]: 3901\n"
     ]
    }
   ],
   "source": [
    "HOLO4K_results = mapping_interaction(HOLO4K_interact_results, HOLO4K_pdb_to_uniprot_map_dict, \"./fasta/HOLO4K_target_uniprot_pdb.fasta\")\n",
    "print(f\"[HOLO4K]: {len(HOLO4K_results)}\")"
   ]
  },
  {
   "cell_type": "markdown",
   "id": "520a3463",
   "metadata": {},
   "source": [
    "### 3. Save data"
   ]
  },
  {
   "cell_type": "code",
   "execution_count": 19,
   "id": "9fd50665",
   "metadata": {},
   "outputs": [],
   "source": [
    "with open(\"./preprocessed_data/step6_PDBbind_data.pkl\", \"wb\") as f:\n",
    "    pickle.dump(PDBbind_results,f)\n",
    "    \n",
    "with open(\"./preprocessed_data/step6_CASF2016_data.pkl\", \"wb\") as f:\n",
    "    pickle.dump(CASF2016_results,f)\n",
    "    \n",
    "with open(\"./preprocessed_data/step6_CASF2013_data.pkl\", \"wb\") as f:\n",
    "    pickle.dump(CASF2013_results,f)\n",
    "    \n",
    "with open(\"./preprocessed_data/step6_CSAR2014_data.pkl\", \"wb\") as f:\n",
    "    pickle.dump(CSAR2014_results,f)\n",
    "    \n",
    "with open(\"./preprocessed_data/step6_CSAR2012_data.pkl\", \"wb\") as f:\n",
    "    pickle.dump(CSAR2012_results,f)\n",
    "    \n",
    "with open(\"./preprocessed_data/step6_CSARset1_data.pkl\", \"wb\") as f:\n",
    "    pickle.dump(CSARset1_results,f)\n",
    "    \n",
    "with open(\"./preprocessed_data/step6_CSARset2_data.pkl\", \"wb\") as f:\n",
    "    pickle.dump(CSARset2_results,f)\n",
    "    \n",
    "with open(\"./preprocessed_data/step6_Astex_data.pkl\", \"wb\") as f:\n",
    "    pickle.dump(Astex_results,f)\n",
    "    \n",
    "with open(\"./preprocessed_data/step6_COACH420_data.pkl\", \"wb\") as f:\n",
    "    pickle.dump(COACH420_results,f)\n",
    "    \n",
    "with open(\"./preprocessed_data/step6_HOLO4K_data.pkl\", \"wb\") as f:\n",
    "    pickle.dump(HOLO4K_results,f)"
   ]
  },
  {
   "cell_type": "code",
   "execution_count": null,
   "id": "fb525ad8",
   "metadata": {},
   "outputs": [],
   "source": []
  },
  {
   "cell_type": "code",
   "execution_count": null,
   "id": "995d84fa",
   "metadata": {},
   "outputs": [],
   "source": []
  }
 ],
 "metadata": {
  "kernelspec": {
   "display_name": "Python 3 (ipykernel)",
   "language": "python",
   "name": "python3"
  },
  "language_info": {
   "codemirror_mode": {
    "name": "ipython",
    "version": 3
   },
   "file_extension": ".py",
   "mimetype": "text/x-python",
   "name": "python",
   "nbconvert_exporter": "python",
   "pygments_lexer": "ipython3",
   "version": "3.7.16"
  }
 },
 "nbformat": 4,
 "nbformat_minor": 5
}
