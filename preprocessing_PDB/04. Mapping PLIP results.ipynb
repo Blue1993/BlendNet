{
 "cells": [
  {
   "cell_type": "code",
   "execution_count": 1,
   "id": "c1e9bd2f",
   "metadata": {},
   "outputs": [],
   "source": [
    "import os\n",
    "import pickle\n",
    "import numpy as np\n",
    "import pandas as pd\n",
    "from Bio import PDB\n",
    "from Bio.PDB.Polypeptide import three_to_one"
   ]
  },
  {
   "cell_type": "markdown",
   "id": "5fbfa4f7",
   "metadata": {},
   "source": [
    "### 1. Load data"
   ]
  },
  {
   "cell_type": "code",
   "execution_count": 2,
   "id": "f0b69d7d",
   "metadata": {},
   "outputs": [],
   "source": [
    "PDBbind_df = pd.read_csv(\"./preprocessed_data/step4_PDBbind_data.tsv\", sep = \"\\t\")\n",
    "CASF2016_df = pd.read_csv(\"./preprocessed_data/step4_CASF2016_data.tsv\", sep = \"\\t\")\n",
    "CASF2013_df = pd.read_csv(\"./preprocessed_data/step4_CASF2013_data.tsv\", sep = \"\\t\")\n",
    "CSAR2014_df = pd.read_csv(\"./preprocessed_data/step4_CSAR2014_data.tsv\", sep = \"\\t\")\n",
    "CSAR2012_df = pd.read_csv(\"./preprocessed_data/step4_CSAR2012_data.tsv\", sep = \"\\t\")\n",
    "CSARset1_df = pd.read_csv(\"./preprocessed_data/step4_CSARset1_data.tsv\", sep = \"\\t\")\n",
    "CSARset2_df = pd.read_csv(\"./preprocessed_data/step4_CSARset2_data.tsv\", sep = \"\\t\")\n",
    "Astex_df = pd.read_csv(\"./preprocessed_data/step4_Astex_data.tsv\", sep = \"\\t\")\n",
    "COACH420_df = pd.read_csv(\"./preprocessed_data/step4_COACH420_data.tsv\", sep = \"\\t\")\n",
    "HOLO4K_df = pd.read_csv(\"./preprocessed_data/step4_HOLO4K_data.tsv\", sep = \"\\t\")"
   ]
  },
  {
   "cell_type": "markdown",
   "id": "f88800b3",
   "metadata": {},
   "source": [
    "### 2. Load PLIP results"
   ]
  },
  {
   "cell_type": "code",
   "execution_count": 3,
   "id": "6f443caa",
   "metadata": {},
   "outputs": [],
   "source": [
    "pdb_parser = PDB.PDBParser(QUIET = True)"
   ]
  },
  {
   "cell_type": "code",
   "execution_count": 4,
   "id": "2534132d",
   "metadata": {},
   "outputs": [],
   "source": [
    "def read_file(file):\n",
    "    return file.readlines()"
   ]
  },
  {
   "cell_type": "code",
   "execution_count": 5,
   "id": "bac64ebc",
   "metadata": {},
   "outputs": [],
   "source": [
    "amino_acids_short = {\"ALA\":\"A\", \"ARG\":\"R\", \"ASN\":\"N\", \"ASP\":\"D\", \"CYS\":\"C\", \"GLU\":\"E\", \"GLN\":\"Q\", \"GLY\":\"G\", \"HIS\":\"H\", \"ILE\":\"I\", \"LEU\":\"L\", \"LYS\":\"K\", \"MET\":\"M\", \"PHE\":\"F\", \"PRO\":\"P\", \"SER\":\"S\", \"THR\":\"T\", \"TRP\":\"W\", \"TYR\":\"Y\", \"VAL\":\"V\", \"SEC\":\"U\", \"PYL\":\"O\"}"
   ]
  },
  {
   "cell_type": "code",
   "execution_count": 6,
   "id": "c0150b1b",
   "metadata": {},
   "outputs": [],
   "source": [
    "def read_file(file):\n",
    "    return file.readlines()\n",
    "\n",
    "def get_ligand_atoms_from_pdb(pdbid, ligand_code):\n",
    "    \n",
    "    atom_idx_list, atom_name_list, model_flag = list(), list(), 0\n",
    "    lines = read_file(open(f\"{pdb_path}/{pdbid}.pdb\", \"r\"))\n",
    "    \n",
    "    for line in lines:\n",
    "        if \"ANISOU\" not in line:\n",
    "            if line[:5].strip() == \"MODEL\":\n",
    "                if model_flag == 1:\n",
    "                    break\n",
    "                model_flag = 1  \n",
    "                \n",
    "            if \"HETATM\" in line:\n",
    "                serial_number, atom_name, residue_name = line[6:11].strip(), line[12:16].strip(), line[17:20].strip() \n",
    "                \n",
    "                if residue_name == ligand_code:\n",
    "                    atom_idx_list.append(int(serial_number))\n",
    "                    atom_name_list.append(atom_name)\n",
    "    \n",
    "    return atom_idx_list, atom_name_list\n",
    "\n",
    "def get_mol_from_ideal_ligandpdb(ligand):\n",
    "\n",
    "    name_order_list, name_to_idx_dict, name_to_element_dict = list(), dict(), dict()\n",
    "    \n",
    "    structure = pdb_parser.get_structure(ligand, f\"{ideal_path}/{ligand}_ideal.pdb\")\n",
    "\n",
    "    if ligand == \"AA\":\n",
    "        ligand = \"AA_\"    \n",
    "    \n",
    "    for chain_name in list(structure[0].child_dict.keys()):\n",
    "        chain = structure[0][chain_name]\n",
    "        \n",
    "        for residue in chain.get_residues():\n",
    "            if residue.resname == ligand:\n",
    "                for atom in residue:\n",
    "                    name_order_list.append(atom.get_id())\n",
    "                    name_to_element_dict[atom.get_id()] = atom.element\n",
    "                    name_to_idx_dict[atom.get_id()] = atom.get_serial_number() - 1\n",
    "    \n",
    "    if len(name_to_idx_dict) == 0:\n",
    "        return None, None, None\n",
    "    else:\n",
    "        return name_order_list, name_to_idx_dict, name_to_element_dict"
   ]
  },
  {
   "cell_type": "code",
   "execution_count": 7,
   "id": "966d1441",
   "metadata": {},
   "outputs": [],
   "source": [
    "def get_bonds(pdbid, ligand_code, ligand_atom_idx_list):\n",
    "    bond_list = list()\n",
    "    \n",
    "    try:\n",
    "        lines = read_file(open(f\"{plip_results_path}/{pdbid}_output.txt\", \"r\"))\n",
    "    except:\n",
    "        print(f\"No PLIP results for {pdbid}\")\n",
    "        return None\n",
    "\n",
    "    isheader = False\n",
    "    \n",
    "    for line in lines:\n",
    "        if line[0] == \"*\":\n",
    "            bond_type = line.strip().replace(\"*\", \"\")\n",
    "            isheader = True\n",
    "        \n",
    "        if line[0] == \"|\":\n",
    "            if isheader:\n",
    "                header = line.replace(' ','').split('|')\n",
    "                isheader = False \n",
    "                continue\n",
    "            line = line.replace(' ','').split('|')\n",
    "            if ligand_code not in line[5]:\n",
    "                continue\n",
    "                \n",
    "            aa_id, aa_name, aa_chain, ligand_idx, ligand_name, ligand_chain = int(line[1]), line[2], line[3], int(line[4]), line[5], line[6]\n",
    "            \n",
    "            if bond_type in ['Hydrogen Bonds', 'Water Bridges']:\n",
    "                atom_idx1, atom_idx2 = int(line[12]), int(line[14])\n",
    "                \n",
    "                if atom_idx1 in ligand_atom_idx_list and atom_idx2 in ligand_atom_idx_list:   # discard ligand-ligand interaction\n",
    "                    continue                \n",
    "                \n",
    "                if atom_idx1 in ligand_atom_idx_list:\n",
    "                    atom_idx_ligand, atom_idx_protein = atom_idx1, atom_idx2\n",
    "                elif atom_idx2 in ligand_atom_idx_list:\n",
    "                    atom_idx_ligand, atom_idx_protein = atom_idx2, atom_idx1\n",
    "                else:\n",
    "                    print(f\"[Hydrogen Bonds, Water Bridges] Error: atom index in plip result not in ligand atom idx ({pdbid}, {ligand_code})\")\n",
    "                    print(atom_idx1, atom_idx2)\n",
    "                    return None\n",
    "                bond_list.append((bond_type + \"_\" + str(len(bond_list)), aa_chain, aa_name, aa_id, [atom_idx_protein], ligand_chain, ligand_name, ligand_idx, [atom_idx_ligand]))\n",
    "                                \n",
    "            elif bond_type == 'Hydrophobic Interactions':\n",
    "                atom_idx_ligand, atom_idx_protein = int(line[8]), int(line[9])\n",
    "\n",
    "                if atom_idx_ligand not in ligand_atom_idx_list:\n",
    "                    print(f\"[Hydrophobic Interactions] Error: atom index in plip result not in ligand atom idx ({pdbid}, {ligand_code})\")\n",
    "                    print('Hydrophobic Interactions', atom_idx_ligand, atom_idx_protein)\n",
    "                    return None\n",
    "                bond_list.append((bond_type + \"_\" + str(len(bond_list)), aa_chain, aa_name, aa_id, [atom_idx_protein], ligand_chain, ligand_name, ligand_idx, [atom_idx_ligand]))\n",
    "                                \n",
    "            elif bond_type in ['pi-Stacking', 'pi-Cation Interactions']:\n",
    "                try:\n",
    "                    atom_idx_ligand_list = list(map(int, line[12].split(','))) # 수정 했음 원래 11 index 였음\n",
    "                except:\n",
    "                    print(f\"[pi-Stacking, pi-Cation Interactions] Error: atom index in plip results\")\n",
    "                    return None\n",
    "                if len(set(atom_idx_ligand_list).intersection(set(ligand_atom_idx_list))) != len(atom_idx_ligand_list):\n",
    "                    print(f\"[pi-Stacking, pi-Cation Interactions] Error: atom index in plip result not in ligand atom idx ({pdbid}, {ligand_code})\")\n",
    "                    print(atom_idx_ligand_list)\n",
    "                    return None\n",
    "                bond_list.append((bond_type + \"_\" + str(len(bond_list)), aa_chain, aa_name, aa_id, list(), ligand_chain, ligand_name, ligand_idx, atom_idx_ligand_list))\n",
    "\n",
    "            elif bond_type == 'Salt Bridges':\n",
    "                atom_idx_ligand_list = list(set(map(int, line[10].split(','))))\n",
    "                if len(set(atom_idx_ligand_list).intersection(set(ligand_atom_idx_list))) != len(atom_idx_ligand_list):\n",
    "                    print(f\"[Salt Bridges] Error: atom index in plip results not in ligand atom idx ({pdbid}, {ligand_code})\")\n",
    "                    print('Salt Bridges', atom_idx_ligand_list, set(atom_idx_ligand_list).intersection(set(atom_idx_ligand_list)))\n",
    "                    return None\n",
    "                bond_list.append((bond_type + \"_\" + str(), aa_chain, aa_name, aa_id, list(), ligand_chain, ligand_name, ligand_idx, atom_idx_ligand_list))\n",
    "                \n",
    "            elif bond_type == 'Halogen Bonds':\n",
    "                \n",
    "                atom_idx1, atom_idx2 = int(line[11]), int(line[13])\n",
    "                if atom_idx1 in ligand_atom_idx_list and atom_idx2 in ligand_atom_idx_list: # discard ligand-ligand interaction\n",
    "                    continue\n",
    "                if atom_idx1 in ligand_atom_idx_list:\n",
    "                    atom_idx_ligand, atom_idx_protein = atom_idx1, atom_idx2\n",
    "                elif atom_idx2 in ligand_atom_idx_list:\n",
    "                    atom_idx_ligand, atom_idx_protein = atom_idx2, atom_idx1\n",
    "                else:\n",
    "                    print(f\"[Halogen Bonds] Error: atom index in plip results not in ligand atom idx ({pdbid}, {ligand_code})\")\n",
    "                    print(\"Halogen bonds\", atom_idx1, atom_idx2)\n",
    "                    return None\n",
    "                bond_list.append((bond_type+'_'+str(len(bond_list)), aa_chain, aa_name, aa_id, [atom_idx_protein], ligand_chain, ligand_name, ligand_idx, [atom_idx_ligand]))\n",
    "                \n",
    "            else:\n",
    "                print('bond_type',bond_type)\n",
    "                return None \n",
    "                \n",
    "    if len(bond_list) != 0:\n",
    "        return bond_list\n",
    "    else:\n",
    "        print(f\"No bonds are founded in {pdbid}\")\n",
    "        return None"
   ]
  },
  {
   "cell_type": "code",
   "execution_count": 8,
   "id": "d6a1360e",
   "metadata": {},
   "outputs": [],
   "source": [
    "def get_interact_atom_name(atom_idx_list, atom_name_list, bond_list):\n",
    "    interact_atom_name_list, interact_bond_type_list, interact_atom_name_set = list(), list(), set()\n",
    "    \n",
    "    assert len(atom_idx_list) == len(atom_name_list)\n",
    "    \n",
    "    for bond in bond_list:\n",
    "        for atom_idx in bond[-1]:\n",
    "            atom_name = atom_name_list[atom_idx_list.index(atom_idx)]\n",
    "            interact_atom_name_set.add(atom_name)\n",
    "            interact_atom_name_list.append(atom_name)\n",
    "            interact_bond_type_list.append((atom_name, bond[0]))\n",
    "    \n",
    "    return interact_atom_name_list, interact_bond_type_list\n",
    "\n",
    "def get_interact_atom_list(name_order_list, atom_name_to_idx_dict, atom_name_to_element_dict,interact_atom_name_list):\n",
    "    atom_idx_list, atom_name_list, atom_element_list, atom_interact_list = list(), list(), list(), list()\n",
    "    \n",
    "    for name in name_order_list:\n",
    "        idx = atom_name_to_idx_dict[name]\n",
    "        atom_idx_list.append(idx)\n",
    "        atom_name_list.append(name)\n",
    "        atom_element_list.append(atom_name_to_element_dict[name])\n",
    "        atom_interact_list.append(int(name in interact_atom_name_list))\n",
    "    \n",
    "    return atom_idx_list, atom_name_list, atom_element_list, atom_interact_list\n",
    "\n",
    "def get_dict(chain, chain_seqs, chain_indexes):\n",
    "    seqs_dict, indexes_dict = dict(), dict()\n",
    "    chain_list, chain_seqs_list, chain_indexes_list = chain.split(\",\"), chain_seqs.split(\",\"), chain_indexes.split(\";\")\n",
    "    \n",
    "    for i, j, k in zip(chain_list, chain_seqs_list, chain_indexes_list):\n",
    "        seqs_dict[i] = (j, k)\n",
    "        \n",
    "        for x, y in zip(k.split(\",\"), j):\n",
    "            indexes_dict[i + x] = y\n",
    "    \n",
    "    return seqs_dict, indexes_dict\n",
    "\n",
    "def get_interact_residue(idx_to_aa_dict, bond_list):\n",
    "    interact_residue = list()\n",
    "    \n",
    "    for bond in bond_list:\n",
    "        if bond[1] + str(bond[3]) not in idx_to_aa_dict:\n",
    "            continue\n",
    "        \n",
    "        aa = idx_to_aa_dict[bond[1]+str(bond[3])]\n",
    "        assert three_to_one(bond[2]) == aa\n",
    "        interact_residue.append((bond[1]+str(bond[3]), aa, bond[0]))\n",
    "        \n",
    "    if len(interact_residue) != 0:\n",
    "        return interact_residue\n",
    "    \n",
    "    else:\n",
    "        return None        "
   ]
  },
  {
   "cell_type": "code",
   "execution_count": 9,
   "id": "4b8cc853",
   "metadata": {},
   "outputs": [],
   "source": [
    "def get_interactions_info(df):\n",
    "\n",
    "    convert_dict = {\"1d4p_BPP\": ['C1','C2','C3','C4','C5','C6','C7','C8','N1','C9','N2','N3','C10','O1','N4','C11','C12','C13','C14','C15','C16','C17','C18','C19','C20','C21','C22'],\n",
    "                    \"1c9u_PQQ\": ['N1', 'C1', 'C2', 'O1', 'O2', 'C3', 'C4', 'C5', 'C6', 'O3', 'C7', 'O4', 'C8', 'N2', 'C9', 'C10', 'O5', 'O6', 'C11', 'C12', 'C13', 'O7', 'O8', 'C14', 'N1', 'C1', 'C2', 'O1', 'O2', 'C3', 'C4', 'C5', 'C6', 'O3', 'C7', 'O4', 'C8', 'N2', 'C9', 'C10', 'O5', 'O6', 'C11', 'C12', 'C13', 'O7', 'O8', 'C14'],\n",
    "                    \"1dd6_MCI\": ['C1', 'C2', 'C3', 'C4', 'C5', 'C6', 'C7', 'C8', 'C9', 'C10', 'S1', 'C11', 'O1', 'N1', 'C12', 'C13', 'O2', 'O3', 'C14', 'C15', 'C16', 'C17', 'S2', 'C18', 'N2', 'C19', 'N3', 'N4', 'N5', 'C1', 'C2', 'C3', 'C4', 'C5', 'C6', 'C7', 'C8', 'C9', 'C10', 'S1', 'C11', 'O1', 'N1', 'C12', 'C13', 'O2', 'O3', 'C14', 'C15', 'C16', 'C17', 'S2', 'C18', 'N2', 'N2', 'C19', 'C19', 'N3', 'N3', 'N4', 'N4', 'N5', 'N5'],\n",
    "                    \"1e9h_INR\": ['C1','C2','C6','N1','C3','C7','C4','C5','O1','C8','C9','C10','C11','O2','N2','C12','C16','C15','C14','S1','C13','O5','O4','O3','C1','C2','C6','N1','C3','C7','C4','C5','O1','C8','C9','C10','C11','O2','N2','C12','C16','C15','C14','S1','C13','O5','O4','O3'],\n",
    "                    \"1fel_FEN\": ['C1', 'C2', 'C3', 'C4', 'C5', 'C6', 'C7', 'C8', 'C9', 'C10', 'C11', 'C12', 'C13', 'C14', 'C15', 'C16', 'C17', 'C18', 'C19', 'C20', \"C21\", \"C22\", \"C23\", \"C24\", \"C25\", \"C26\", 'O1', 'N1', \"O2\"],\n",
    "                    \"1g72_PQQ\": ['N1', 'C1', 'C2', 'O1', 'O2', 'C3', 'C4', 'C5', 'C6', 'O3', 'C7', 'O4', 'C8', 'N2', 'C9', 'C10', 'O5', 'O6', 'C11', 'C12', 'C13', 'O7', 'O8', 'C14','N1', 'C1', 'C2', 'O1', 'O2', 'C3', 'C4', 'C5', 'C6', 'O3', 'C7', 'O4', 'C8', 'N2', 'C9', 'C10', 'O5', 'O6', 'C11', 'C12', 'C13', 'O7', 'O8', 'C14'],\n",
    "                    \"1gse_EAA\": ['C1', 'C1', 'O1', 'O1', 'C2', 'C2', 'Cl1', 'Cl1', 'C3', 'C3', 'Cl2', 'Cl2', 'C4', 'C4', 'C5', 'C5', 'C6', 'C6', 'C7', 'C7', 'O2', 'O2', 'C8', 'C8', 'C9', 'C9', 'C10', 'C10', 'C11', 'C11', 'C12', 'C12', 'C13', 'C13', 'O3', 'O3', 'O4', 'O4', 'C1', 'C1', 'O1', 'O1', 'C2', 'C2', 'Cl1', 'Cl1', 'C3', 'C3', 'Cl2', 'Cl2', 'C4', 'C4', 'C5', 'C5', 'C6', 'C6', 'C7', 'C7', 'O2', 'O2', 'C8', 'C8', 'C9', 'C9', 'C10', 'C10', 'C11', 'C11', 'C12', 'C12', 'C13', 'C13', 'O3', 'O3', 'O4', 'O4'],\n",
    "                    \"1h4i_PQQ\": ['N1', 'C1', 'C2', 'O1', 'O2', 'C3', 'C4', 'C5', 'C6', 'O3', 'C7', 'O4', 'C8', 'N2', 'C9', 'C10', 'O5', 'O6', 'C11', 'C12', 'C13', 'O7', 'O8', 'C14', 'N1', 'C1', 'C2', 'O1', 'O2', 'C3', 'C4', 'C5', 'C6', 'O3', 'C7', 'O4', 'C8', 'N2', 'C9', 'C10', 'O5', 'O6', 'C11', 'C12', 'C13', 'O7', 'O8', 'C14'],\n",
    "                    \"1ipf_TNE\": ['C1','C2','C3','O1','C4','C5','C6','C7','N1','C8', 'C1','C2','C3','O1','C4','C5','C6','C7','N1','C8'],\n",
    "                    \"1lrw_PQQ\": ['N1', 'C1', 'C2', 'O1', 'O2', 'C3', 'C4', 'C5', 'C6', 'O3', 'C7', 'O4', 'C8', 'N2', 'C9', 'C10', 'O5', 'O6', 'C11', 'C12', 'C13', 'O7', 'O8', 'C14', 'N1', 'C1', 'C2', 'O1', 'O2', 'C3', 'C4', 'C5', 'C6', 'O3', 'C7', 'O4', 'C8', 'N2', 'C9', 'C10', 'O5', 'O6', 'C11', 'C12', 'C13', 'O7', 'O8', 'C14'],\n",
    "                    \"1nx8_N7P\": ['C1','C2','O2','O3','N1','C6','O1','C7','C5','C4','C3', 'C1','C2','O2','O3','N1','C6','O1','C7','C5','C4','C3'],\n",
    "                    \"1o9v_SNG\": ['C1', 'C2', 'C3', 'C4', 'C5', 'C6', 'C7', 'C8', 'C9', 'N1', 'O3', 'O2', 'O3', 'O4', 'O5', 'Se1'],\n",
    "                    \"1pax_DHQ\": ['C1', 'O1', 'N1', 'C2', 'C3', 'C4', 'C5', 'C6', 'C7', 'C8', 'C9', 'C10'],\n",
    "                    \"2gss_EAA\": ['C1', 'O1', 'C2', 'Cl1', 'C3', 'Cl2', 'C4', 'C5', 'C6', 'C7', 'O2', 'C8', 'C9', 'C10', 'C11', 'C12', 'C13', 'O3', 'O4', 'C1', 'O1', 'C2', 'Cl1', 'C3', 'Cl2', 'C4', 'C5', 'C6', 'C7', 'O2', 'C8', 'C9', 'C10', 'C11', 'C12', 'C13', 'O3', 'O4'],\n",
    "                    \"2trt_TAC\": ['C1', 'O1', 'C2', 'C3', 'O2', 'N1', 'C4', 'O3', 'C5', 'N2', 'C6', 'C7', 'C8', 'C9', 'C10', 'C11', 'C12', 'O4', 'C13', 'C14', 'C15', 'C16', 'C17', 'O5', 'C18', 'C19', 'O6', 'C20', 'C21', 'O7', 'C22', 'O8'],\n",
    "                    \"3gss_EAA\": ['C1', 'O1', 'C2', 'Cl1', 'C3', 'Cl2', 'C4', 'C5', 'C6', 'C7', 'O2', 'C8', 'C9', 'C10', 'C11', 'C12', 'C13', 'O3', 'O4', 'C1', 'O1', 'C2', 'Cl1', 'C3', 'Cl2', 'C4', 'C5', 'C6', 'C7', 'O2', 'C8', 'C9', 'C10', 'C11', 'C12', 'C13', 'O3', 'O4'],\n",
    "                    \"4aah_PQQ\": ['N1', 'C1', 'C2', 'O1', 'O2', 'C3', 'C4', 'C5', 'C6', 'O3', 'C7', 'O4', 'C8', 'N2', 'C9', 'C10', 'O5', 'O6', 'C11', 'C12', 'C13', 'O7', 'O8', 'C14', 'N1', 'C1', 'C2', 'O1', 'O2', 'C3', 'C4', 'C5', 'C6', 'O3', 'C7', 'O4', 'C8', 'N2', 'C9', 'C10', 'O5', 'O6', 'C11', 'C12', 'C13', 'O7', 'O8', 'C14'],\n",
    "                    \"6o4x_AA\": ['C1', 'C2', 'C3', 'C4', 'C5', 'C6', 'C7', 'C8', 'C9', 'N1', 'C10', 'C11', 'C12', 'C13', 'N2', 'C1', 'C2', 'C3', 'C4', 'C5', 'C6', 'C7', 'C8', 'C9', 'N1', 'C10', 'C11', 'C12', 'C13', 'N2'],\n",
    "                    \"6hcu_FYB\": ['C1', 'C2', 'C3', 'C4', 'C5', 'C6', 'C7', 'C8', 'C9', 'C10', 'C11', 'C12', 'F1', 'C13', 'C14', 'C15', 'O1', 'O2', 'O3', 'N1', 'C16', 'C17', 'O4', 'F2', 'F3', 'C1', 'C2', 'C3', 'C4', 'C5', 'C6', 'C7', 'C8', 'C9', 'C10', 'C11', 'C12', 'F1', 'C13', 'C14', 'C15', 'O1', 'O2', 'O3', 'N1', 'C16', 'C17', 'O4', 'F2', 'F3'],\n",
    "                    \"3pd9_HA5\": ['N1', 'O1', 'C1', 'C2', 'N2', 'C3', 'C4', 'O2', 'O3', 'C5', 'C6', 'C7', 'O4','N1', 'O1', 'C1', 'C2', 'N2', 'C3', 'C4', 'O2', 'O3', 'C5', 'C6', 'C7', 'O4'],\n",
    "                    \"5j2x_6DL\": ['C1', 'C1', 'C2', 'C2', 'C3', 'C3', 'C4', 'C4', 'C5', 'C5', 'C6', 'C6', 'C7', 'C7', 'C8', 'C8', 'C9', 'C9', 'C10', 'C10', 'C11', 'C11', 'C12', 'C12', 'O1', 'O1', 'O2', 'O2', 'N1', 'N1', 'N2', 'N2', 'N3', 'N3', 'C13', 'C13', 'C14', 'C14', 'O3', 'O3', 'F1', 'F1', 'Br1', 'Br1'],\n",
    "                    \"2srt_8MI\": ['C1', 'C2', 'C3', 'O1', 'O2', 'N1', 'C4', 'C5', 'C6', 'C7', 'C8', 'C9', 'C10', 'C11', 'C12', 'C13', 'O3', 'N2', 'C14', 'C15', 'C16', 'C17', 'N3', 'C18', 'N4', 'N5', 'C19', 'O4', 'N6', 'C20', 'C21', 'C22', 'C23', 'C24', 'C25','H1', 'H2', 'H3', 'H4', 'H5', 'H6', 'H7', 'H8', 'H9', 'H10', 'H11', 'H12', 'H13', 'H14', 'H15', 'H16', 'H17', 'H18', 'H19', 'H20', 'H21', 'H22', 'H23', 'H24', 'H25', 'H26', 'H27', 'H28', 'H29', 'H30', 'H31', 'H32', 'H33', 'H34', 'H35'],\n",
    "                    \"3dgq_EAA\": ['C1', 'O1', 'C2', 'Cl1', 'C3', 'Cl2', 'C4', 'C5', 'C6', 'C7', 'O2', 'C8', 'C9', 'C10', 'C11', 'C12', 'C13', 'O3', 'O4'],\n",
    "                    \"3f7g_389\": ['N1', 'C1', 'C2', 'C3', 'O1', 'N2', 'C4', 'C5', 'C6', 'C7', 'C8', 'O2', 'N3', 'C9', 'C10', 'C11', 'C12', 'C13', 'O3', 'C14', 'N4', 'C15', 'C16', 'C17', 'C18', 'C19', 'C20', 'C21', 'C22', 'C23', 'C24', 'C25', 'C26', 'C27'],\n",
    "                    \"3f7i_G13\": ['O1', 'C1', 'C2', 'C3', 'C4', 'C5', 'C6', 'C7', 'C8', 'C9', 'C10', 'C11', 'N1', 'C12', 'C13', 'C14', 'C15', 'C16', 'C17', 'C18', 'N2', 'C19', 'O2', 'C20', 'C21', 'C22', 'C23', 'C24', 'N3', 'C25', 'O3', 'C26', 'C27', 'N4', 'C28', 'O1', 'C1', 'C2', 'C3', 'C4', 'C5', 'C6', 'C7', 'C8', 'C9', 'C10', 'C11', 'N1', 'C12', 'C13', 'C14', 'C15', 'C16', 'C17', 'C18', 'N2', 'C19', 'O2', 'C20', 'C21', 'C22', 'C23', 'C24', 'N3', 'C25', 'O3', 'C26', 'C27', 'N4', 'C28'],\n",
    "                    \"5i9i_5HV\": ['C1', 'C2', 'N1', 'C3', 'C4', 'C5', 'C6', 'N2', 'C7', 'C8', 'C9', 'C10', 'C11', 'C12', 'C13', 'C14', 'C15', 'C16', 'C17', 'C18', 'C19', 'C20', 'F1', 'F2', 'F3', 'C21', 'O1', 'C22', 'N3', 'C23', 'C24', 'C25', 'C26', 'C27', 'C28', 'O2', 'N4', 'C29', 'S1', 'C30', 'C31', 'C32', 'C33', 'C34', 'F4', 'C35', 'C36', 'C1', 'C2', 'N1', 'C3', 'C4', 'C5', 'C6', 'N2', 'C7', 'C8', 'C9', 'C10', 'C11', 'C12', 'C13', 'C14', 'C15', 'C16', 'C17', 'C18', 'C19', 'C20', 'F1', 'F2', 'F3', 'C21', 'O1', 'C22', 'N3', 'C23', 'C24', 'C25', 'C26', 'C27', 'C28', 'O2', 'N4', 'C29', 'S1', 'C30', 'C31', 'C32', 'C33', 'C34', 'F4', 'C35', 'C36'],\n",
    "                    \"2euf_LQQ\": ['O1', 'C1', 'C2', 'C3', 'C4', 'C5', 'C6', 'C7', 'N1', 'C8', 'N2', 'C9', 'N3', 'C10', 'C11', 'C12', 'C13', 'C14', 'C15', 'O2', 'N4', 'C16', 'N5', 'C17', 'C18', 'C19', 'C20', 'N6', 'C21', 'C22', 'N7', 'C23', 'C24'],\n",
    "                    \"6afg_72V\": ['O1', 'C1', 'C2', 'O2', 'C3', 'C4', 'C5', 'C6', 'C7', 'C8', 'N1', 'C9', 'O1', 'C1', 'C2', 'C3', 'C4', 'C5', 'C6', 'C7', 'C8', 'N1', 'C9'],\n",
    "                    \"6hwu_GE5\": ['C1', 'C2', 'C3', 'C4', 'C5', 'C6', 'C7', 'C8', 'C9', 'C10', 'C11', 'C12', 'C13', 'C14', 'C15', 'C16', 'C17', 'C18', 'C19', 'C20', 'C21', 'C22', 'C23', 'C24', 'C25', 'C26', 'C27', 'C28', 'C29', 'C30', 'C31', 'F1', 'N1', 'N2', 'N3', 'N4', 'N5', 'O1', 'O2', 'O3', 'S1'],\n",
    "                    \"3abt_2PF\": [\"C1\", \"C2\", \"O2\", \"C3\", \"O2\", \"C4\", \"O3\", \"C5\", \"O4\", 'C6', 'F1', 'P1', 'C7', 'F2', 'O5', 'C8', 'F3', 'O6', 'C9', 'F4', 'C10', 'F5', 'C11', 'N1', 'C12', 'N2', 'C13', 'N3', 'C14', 'N4', 'C15', 'N5', 'C16', 'O7', 'P2', 'O8', 'O9', 'O10', 'C17', 'C18', 'O11', 'C19', 'O12', 'C20', 'O13', 'C21', 'N6', 'C22', 'N7', 'C23', 'O14', 'N8', 'C24', 'O15', 'C25', 'N9', 'C26', 'C27', 'C28', 'C29', 'C30', 'C31', 'C32', 'C33', 'C34', 'O16', 'C35', 'C36'],\n",
    "                    \"2i72_VA1\": ['O1', 'C1', 'N1', 'C2', 'O2', 'C3', 'C4', 'C5', 'C6', 'C7', 'C8', 'C9', 'C10', 'S1', 'C11', 'B1', 'O3', 'O4', 'O1', 'C1', 'N1', 'C2', 'O2', 'C3', 'C4', 'C5', 'C6', 'C7', 'C8', 'C9', 'C10', 'S1', 'C11', 'B1', 'O3', 'O4'],\n",
    "                    \"3f7u_AG4\": ['O1', 'C1', 'N1', 'C2', 'C3', 'C4', 'O2', 'C5', 'C6', 'C7', 'C8', 'N2', 'C9', 'C10', 'S1', 'O3', 'O4', 'N3', 'S2', 'C11', 'C12', 'C13', 'C14', 'C15', 'C16', 'O1', 'C1', 'N1', 'C2', 'C3', 'C4', 'O2', 'C5', 'C6', 'C7', 'C8', 'N2', 'C9', 'C10', 'S1', 'O3', 'O4', 'N3', 'S2', 'C11', 'C12', 'C13', 'C14', 'C15', 'C16', 'O1', 'C1', 'N1', 'C2', 'C3', 'C4', 'O2', 'C5', 'C6', 'C7', 'C8', 'N2', 'C9', 'C10', 'S1', 'O3', 'O4', 'N3', 'S2', 'C11', 'C12', 'C13', 'C14', 'C15', 'C16', 'O1', 'C1', 'N1', 'C2', 'C3', 'C4', 'O2', 'C5', 'C6', 'C7', 'C8', 'N2', 'C9', 'C10', 'S1', 'O3', 'O4', 'N3', 'S2', 'C11', 'C12', 'C13', 'C14', 'C15', 'C16'],\n",
    "                    \"6cw8_FGY\": ['C1', 'C2', 'C3', 'C4', 'C5', 'C6', 'C7', 'C8', 'C9', 'C10', 'C11', 'C12', 'C13', 'C14', 'C15', 'C16', 'C17', 'C18', 'C19', 'C20', 'C21', 'C22', 'C23', 'C24', 'C25', 'C26', 'C27', 'N1', 'N2', 'N3', 'N4', 'N5', 'O1', 'O2', 'O3', 'O4', 'O5', 'O6', 'C1', 'C2', 'C3', 'C4', 'C5', 'C6', 'C7', 'C8', 'C9', 'C10', 'C11', 'C12', 'C13', 'C14', 'C15', 'C16', 'C17', 'C18', 'C19', 'C20', 'C21', 'C22', 'C23', 'C24', 'C25', 'C26', 'C27', 'N1', 'N2', 'N3', 'N4', 'N5', 'O1', 'O2', 'O3', 'O4', 'O5', 'O6'],\n",
    "                    \"5f37_N5J\": ['O1', 'C1', 'N1', 'C2', 'N2', 'C3', 'N3', 'C4', 'C5', 'C6', 'C7', 'O1', 'C1', 'N1', 'C2', 'N2', 'C3', 'N3', 'C4', 'C5', 'C6', 'C7', 'O1', 'C1', 'N1', 'C2', 'N2', 'C3', 'N3', 'C4', 'C5', 'C6', 'C7','O1', 'C1', 'N1', 'C2', 'N2', 'C3', 'N3', 'C4', 'C5', 'C6', 'C7'],\n",
    "                    \"5g10_6DK\": ['N1', 'C1', 'O1', 'C2', 'O2', 'C3', 'C4', 'C5', 'C6', 'C7', 'C8', 'C9', 'C10', 'C11', 'C12', 'C13', 'C14', 'F1', 'C15', 'F2', 'F3', 'O3', 'N1', 'C1', 'O1', 'C2', 'O2', 'C3', 'C4', 'C5', 'C6', 'C7', 'C8', 'C9', 'C10', 'C11', 'C12', 'C13', 'C14', 'F1', 'C15', 'F2', 'F3', 'O3'],\n",
    "                    \"5jyo_63J\": ['C1', 'C2', 'C3', 'C4', 'C5', 'C6', 'C7', 'C8', 'C9', 'C10', 'C11', 'C12', 'N1', 'N2', 'C13', 'N3', 'C14', 'C15', 'C16', 'C17', 'N4', 'O1', 'S1', 'C18', 'C19', 'N5', 'C20', 'C21', 'C22', 'C23', 'C24', 'C25', 'O2', 'C26', 'F1', 'F2', 'F3', 'O3', 'N6', 'N7', 'C1', 'C2', 'C3', 'C4', 'C5', 'C6', 'C7', 'C8', 'C9', 'C10', 'C11', 'C12', 'N1', 'N2', 'C13', 'N3', 'C14', 'C15', 'C16', 'C17', 'N4', 'O1', 'S1', 'C18', 'C19', 'N5', 'C20', 'C21', 'C22', 'C23', 'C24', 'C25', 'O2', 'C26', 'F1', 'F2', 'F3', 'O3', 'N6', 'N7', 'C1', 'C2', 'C3', 'C4', 'C5', 'C6', 'C7', 'C8', 'C9', 'C10', 'C11', 'C12', 'N1', 'N2', 'C13', 'N3', 'C14', 'C15', 'C16', 'C17', 'N4', 'O1', 'S1', 'C18', 'C19', 'N5', 'C20', 'C21', 'C22', 'C23', 'C24', 'C25', 'O2', 'C26', 'F1', 'F2', 'F3', 'O3', 'N6', 'N7', 'C1', 'C2', 'C3', 'C4', 'C5', 'C6', 'C7', 'C8', 'C9', 'C10', 'C11', 'C12', 'N1', 'N2', 'C13', 'N3', 'C14', 'C15', 'C16', 'C17', 'N4', 'O1', 'S1', 'C18', 'C19', 'N5', 'C20', 'C21', 'C22', 'C23', 'C24', 'C25', 'O2', 'C26', 'F1', 'F2', 'F3', 'O3', 'N6', 'N7'],\n",
    "                    \"1v0o_INR\": ['C1', 'C2', 'C3', 'N1', 'C4', 'C5', 'C6', 'C7', 'O1', 'C8', 'C9', 'C10', 'C11', 'O2', 'N2', 'C12', 'C13', 'C14', 'C15', 'S1', 'C16', 'O3', 'O4', 'O5', 'C1', 'C2', 'C3', 'N1', 'C4', 'C5', 'C6', 'C7', 'O1', 'C8', 'C9', 'C10', 'C11', 'O2', 'N2', 'C12', 'C13', 'C14', 'C15', 'S1', 'C16', 'O3', 'O4', 'O5'],\n",
    "                    \"1ork_ATC\": ['C1', 'O1', 'C2', 'C3', 'O2', 'N1', 'C4', 'O3', 'C5', 'N2', 'C6', 'C7', 'C8', 'C9', 'C10', 'C11', 'C12', 'C13', 'C14', 'C15', 'C16', 'O4', 'C17', 'C18', 'O5', 'C19', 'C20', 'O6', 'C21', 'O7', 'N3', 'C22', 'O8', 'C23', 'N4', 'C24', 'C25'],\n",
    "                    \"6guf_23D\": ['C1', 'C2', 'Cl1', 'C3', 'C4', 'C5', 'C6', 'N1', 'C7', 'N2', 'C8', 'N3', 'C9', 'N4', 'C10', 'C11', 'C12', 'N5', 'C13', 'N6', 'C14', 'C15', 'C16', 'C17', 'C18', 'C19', 'N7', 'C1', 'C2', 'Cl1', 'C3', 'C4', 'C5', 'C6', 'N1', 'C7', 'N2', 'C8', 'N3', 'C9', 'N4', 'C10', 'C11', 'C12', 'N5', 'C13', 'N6', 'C14', 'C15', 'C16', 'C17', 'C18', 'C19', 'N7'],\n",
    "                    \"6hwv_GEW\": ['C1', 'C2', 'C3', 'C4', 'C5', 'C6', 'C7', 'C8', 'C9', 'C10', 'C11', 'C12', 'C13', 'C14', 'C15', 'C16', 'C17', 'C18', 'C19', 'C20', 'C21', 'C22', 'C23', 'C24', 'C25', 'C26', 'C27', 'C28', 'C29', 'C30', 'C31', 'C32', 'F1', 'F2', 'N1', 'N2', 'N3', 'N4', 'N5', 'N6', 'O1', 'O2', 'O3'],\n",
    "                    \"3hjo_EAA\": ['C1', 'O1', 'C2', 'Cl1', 'C3', 'Cl2', 'C4', 'C5', 'C6', 'C7', 'O2', 'C8', 'C9', 'C10', 'C11', 'C12', 'C13', 'O3', 'O4', 'C1', 'O1', 'C2', 'Cl1', 'C3', 'Cl2', 'C4', 'C5', 'C6', 'C7', 'O2', 'C8', 'C9', 'C10', 'C11', 'C12', 'C13', 'O3', 'O4'],\n",
    "                    \"5tz3_7OM\": ['C1', 'C2', 'C3', 'N1', 'C4', 'C5', 'C6', 'C7', 'C8', 'C9', 'C10', 'C11', 'C12', 'C13', 'C14', 'C15', 'C16', 'C17', 'C18', 'C19', 'C20', 'C21', 'C22', 'N2', 'N3', 'N4', 'N5', 'N6', 'O1', 'C1', 'C2', 'C3', 'N1', 'C4', 'C5', 'C6', 'C7', 'C8', 'C9', 'C10', 'C11', 'C12', 'C13', 'C14', 'C15', 'C16', 'C17', 'C18', 'C19', 'C20', 'C21', 'C22', 'N2', 'N3', 'N4', 'N5', 'N6', 'O1', 'C1', 'C2', 'C3', 'N1', 'C4', 'C5', 'C6', 'C7', 'C8', 'C9', 'C10', 'C11', 'C12', 'C13', 'C14', 'C15', 'C16', 'C17', 'C18', 'C19', 'C20', 'C21', 'C22', 'N2', 'N3', 'N4', 'N5', 'N6', 'O1', 'C1', 'C2', 'C3', 'N1', 'C4', 'C5', 'C6', 'C7', 'C8', 'C9', 'C10', 'C11', 'C12', 'C13', 'C14', 'C15', 'C16', 'C17', 'C18', 'C19', 'C20', 'C21', 'C22', 'N2', 'N3', 'N4', 'N5', 'N6', 'O1'],\n",
    "                    \"5l2i_LQQ\": ['O1', 'C2', 'C1', 'C3', 'C4', 'C5', 'C6', 'C7', 'N1', 'C8', 'N2', 'C9', 'N3', 'C10', 'C11', 'C12', 'C13', 'C14', 'C15', 'O2', 'N4', 'C16', 'N5', 'C17', 'C18', 'C19', 'C20', 'N6', 'C21', 'C22', 'N7', 'C23', 'C24', 'H1', 'H2', 'H3', 'H4', 'H5', 'H6', 'H7', 'H8', 'H9', 'H10', 'H11', 'H12', 'H13', 'H14', 'H15', 'H16', 'H17', 'H18', 'H19', 'H20', 'H21', 'H22', 'H23', 'H24', 'H25', 'H26', 'H27', 'H28', 'H29'],\n",
    "                    \"5n3v_8L5\": ['C1', 'C2', 'C3', 'C4', 'C5', 'C6', 'C7', 'O1', 'P1', 'N1', 'C8', 'C9', 'C10', 'C11', 'C12', 'C13', 'O2', 'O3', 'C14', 'N2', 'C15', 'O4', 'O5', 'N3', 'C16', 'N4', 'N4','H1', 'H2', 'H3', 'H4', 'H5', 'H6', 'H7', 'H8', 'H9', 'H10', 'H11', 'H12', 'H13', 'H14', 'H15', 'H16', 'H17', 'H18', 'H19', 'H20', 'H21', 'H22', 'H23', 'H24', 'H25', 'H26', 'H27', 'H28'],\n",
    "                    \"5g11_7H1\": ['O1', 'C1', 'N1', 'O2', 'C2', 'F1', 'F2', 'C3', 'F3', 'F4', 'C4', 'F5', 'F6', 'C5', 'F7', 'F8', 'C6', 'F9', 'F10', 'C7', 'F11', 'F12', 'C8', 'O3', 'N2', 'C9', 'C10', 'C11', 'C12', 'C13', 'C14', 'O1', 'C1', 'N1', 'O2', 'C2', 'F1', 'F2', 'C3', 'F3', 'F4', 'C4', 'F5', 'F6', 'C5', 'F7', 'F8', 'C6', 'F9', 'F10', 'C7', 'F11', 'F12', 'C8', 'O3', 'N2', 'C9', 'C10', 'C11', 'C12', 'C13', 'C14'],\n",
    "                    \"5j8m_6DL\": ['C1', 'C2', 'C3', 'C4', 'C5', 'C6', 'C7', 'C8', 'C9', 'C10', 'C11', 'C12', 'O1', 'O2', 'N1', 'N2', 'N3', 'C13', 'C14', 'O3', 'F1', 'BR1', 'C1', 'C2', 'C3', 'C4', 'C5', 'C6', 'C7', 'C8', 'C9', 'C10', 'C11', 'C12', 'O1', 'O2', 'N1', 'N2', 'N3', 'C13', 'C14', 'O3', 'F1', 'BR1'],\n",
    "                    \"5j8u_6DL\": ['C1', 'C2', 'C3', 'C4', 'C5', 'C6', 'C7', 'C8', 'C9', 'C10', 'C11', 'C12', 'O1', 'O2', 'N1', 'N2', 'N3', 'C13', 'C14', 'O3', 'F1', 'C1', 'C2', 'C3', 'C4', 'C5', 'C6', 'C7', 'C8', 'C9', 'C10', 'C11', 'C12', 'O1', 'O2', 'N1', 'N2', 'N3', 'C13', 'C14', 'O3', 'F1'],\n",
    "                    \"2rcx_SM4\": ['O1', 'C1', 'O2', 'C2', 'C3', 'C4', 'C5', 'C6', 'C7', 'C8', 'C9', 'C10', 'B1', 'O3', 'O4', 'N1', 'C11', 'O5', 'C12', 'C13', 'C14', 'C15', 'C16', 'S1', 'O1', 'C1', 'O2', 'C2', 'C3', 'C4', 'C5', 'C6', 'C7', 'C8', 'C9', 'C10', 'B1', 'O3', 'O4', 'N1', 'C11', 'O5', 'C12', 'C13', 'C14', 'C15', 'C16', 'S1'],\n",
    "                    \"5c4o_4F1\": ['N1', 'C1', 'C2', 'C3', 'C4', 'C5', 'C6', 'C7', 'C8', 'C9', 'C10', 'C11', 'O1', 'C12', 'C13', 'F1', 'F2', 'F3', 'C14', 'C15', 'Cl1', 'N2', 'C16', 'C17', 'C18', 'C19', 'C20', 'C21', 'C22', 'O2', 'O3'],\n",
    "                    \"3pjc_PJC\": ['C1', 'C2', 'C3', 'C4', 'N1', 'C5', 'C6', 'C7', 'F1', 'C8', 'F2', 'F3', 'N2', 'N3', 'C9', 'C10', 'C11', 'O1', 'C12', 'C13', 'N4', 'C14', 'O2', 'O3', 'C15', 'C16', 'N5', 'C17', 'C18', 'C19', 'C20', 'C21', 'C22'],\n",
    "                    \"6hmr_GE5\": ['C1', 'C2', 'C3', 'C4', 'C5', 'C6', 'C7', 'C8', 'C9', 'C10', 'C11', 'C12', 'C13', 'C14', 'C15', 'C16', 'C17', 'C18', 'C19', 'C20', 'C21', 'C22', 'C23', 'C24', 'C25', 'C26', 'C27', 'C28', 'C29', 'C30', 'C31', 'F1', 'N1', 'N2', 'N3', 'N4', 'N5', 'O1', 'O2', 'O3', 'S1', 'H1', 'H2', 'H3', 'H4', 'H4', 'H6', 'H7', 'H8', 'H9', 'H10', 'H11', 'H12', 'H13', 'H14', 'H15', 'H16', 'H17', 'H18', 'H19', 'H20', 'H21', 'H22', 'H23', 'H24', 'H25', 'H26', 'C1', 'C2', 'C3', 'C4', 'C5', 'C6', 'C7', 'C8', 'C9', 'C10', 'C11', 'C12', 'C13', 'C14', 'C15', 'C16', 'C17', 'C18', 'C19', 'C20', 'C21', 'C22', 'C23', 'C24', 'C25', 'C26', 'C27', 'C28', 'C29', 'C30', 'C31', 'F1', 'N1', 'N2', 'N3', 'N4', 'N5', 'O1', 'O2', 'O3', 'S1', 'H1', 'H2', 'H3', 'H4', 'H5', 'H6', 'H7', 'H8', 'H9', 'H10', 'H11', 'H12', 'H13', 'H14', 'H15', 'H16', 'H17', 'H18', 'H19', 'H20', 'H21', 'H22', 'H23', 'H24', 'H25', 'H26'],\n",
    "                    \"2vgp_AD6\": ['N1', 'C1', 'C2', 'S1', 'C3', 'N2', 'C4', 'C5', 'C6', 'C7', 'C8', 'C9', 'C10', 'O1', 'N3', 'C11', 'Br1', 'N1', 'C1', 'C2', 'S1', 'C3', 'N2', 'C4', 'C5', 'C6', 'C7', 'C8', 'C9', 'C10', 'O1', 'N3', 'C11', 'Br1'],\n",
    "                    \"5g1a_7H1\": ['O1', 'C1', 'N1', 'O2', 'C2', 'F1', 'F2', 'C3', 'F3', 'F4', 'C4', 'F5', 'F6', 'C5', 'F7', 'F8', 'C6', 'F9', 'F10', 'C7', 'F11', 'F12', 'C8', 'O3', 'N2', 'C9', 'C10', 'C11', 'C12', 'C13', 'C14', 'O1', 'C1', 'N1', 'O2', 'C2', 'F1', 'F2', 'C3', 'F3', 'F4', 'C4', 'F5', 'F6', 'C5', 'F7', 'F8', 'C6', 'F9', 'F10', 'C7', 'F11', 'F12', 'C8', 'O3', 'N2', 'C9', 'C10', 'C11', 'C12', 'C13', 'C14'],\n",
    "                    \"6hmp_GEW\": ['C1', 'C2', 'C3', 'C4', 'C5', 'C6', 'C7', 'C8', 'C9', 'C10', 'C11', 'C12', 'C13', 'C14', 'C15', 'C16', 'C17', 'C18', 'C19', 'C20', 'C21', 'C22', 'C23', 'C24', 'C25', 'C26', 'C27', 'C28', 'C29', 'C30', 'C31', 'C32', 'F1', 'F2', 'N1', 'N2', 'N3', 'N4', 'N5', 'N6', 'O1', 'O2', 'O3', 'H1', 'H2', 'H3', 'H4', 'H5', 'H6', 'H7', 'H8', 'H9', 'H10', 'H11', 'H12', 'H13', 'H14', 'H15', 'H16', 'H17', 'H18', 'H19', 'H20', 'H21', 'H22', 'H23', 'H24', 'H25', 'H26', 'H27', 'H28', 'C1', 'C2', 'C3', 'C4', 'C5', 'C6', 'C7', 'C8', 'C9', 'C10', 'C11', 'C12', 'C13', 'C14', 'C15', 'C16', 'C17', 'C18', 'C19', 'C20', 'C21', 'C22', 'C23', 'C24', 'C25', 'C26', 'C27', 'C28', 'C29', 'C30', 'C31', 'C32', 'F1', 'F2', 'N1', 'N2', 'N3', 'N4', 'N5', 'N6', 'O1', 'O2', 'O3', 'H1', 'H2', 'H3', 'H4', 'H5', 'H6', 'H7', 'H8', 'H9', 'H10', 'H11', 'H12', 'H13', 'H14', 'H15', 'H16', 'H17', 'H18', 'H19', 'H20', 'H21', 'H22', 'H23', 'H24', 'H25', 'H26', 'H27', 'H28'],\n",
    "                    \"3hdz_PD6\": ['N1', 'C1', 'C2', 'C3', 'C4', 'C5', 'C6', 'C7', 'C8', 'C9', 'C10', 'C11', 'C12', 'C13', 'N2', 'N3', 'C14', 'O1', 'C15', 'C16', 'C17', 'C18'],\n",
    "                    \"1i41_HEN\": ['N1', 'C1', 'C2', 'C3', 'O1', 'C4', 'C5', 'C6', 'C7', 'C8', 'O2', 'P1', 'O3', 'O4', 'O5', 'N2', 'C9', 'C10', 'O6', 'O7', 'C11', 'C12', 'C13', 'P2', 'O8', 'O9', 'O10', 'N1', 'C1', 'C2', 'C3', 'O1', 'C4', 'C5', 'C6', 'C7', 'C8', 'O2', 'P1', 'O3', 'O4', 'O5', 'N2', 'C9', 'C10', 'O6', 'O7', 'C11', 'C12', 'C13', 'P2', 'O8', 'O9', 'O10', 'N1', 'C1', 'C2', 'C3', 'O1', 'C4', 'C5', 'C6', 'C7', 'C8', 'O2', 'P1', 'O3', 'O4', 'O5', 'N2', 'C9', 'C10', 'O6', 'O7', 'C11', 'C12', 'C13', 'P2', 'O8', 'O9', 'O10', 'N1', 'C1', 'C2', 'C3', 'O1', 'C4', 'C5', 'C6', 'C7', 'C8', 'O2', 'P1', 'O3', 'O4', 'O5', 'N2', 'C9', 'C10', 'O6', 'O7', 'C11', 'C12', 'C13', 'P2', 'O8', 'O9', 'O10', 'N1', 'C1', 'C2', 'C3', 'O1', 'C4', 'C5', 'C6', 'C7', 'C8', 'O2', 'P1', 'O3', 'O4', 'O5', 'N2', 'C9', 'C10', 'O6', 'O7', 'C11', 'C12', 'C13', 'P2', 'O8', 'O9', 'O10', 'N1', 'C1', 'C2', 'C3', 'O1', 'C4', 'C5', 'C6', 'C7', 'C8', 'O2', 'P1', 'O3', 'O4', 'O5', 'N2', 'C9', 'C10', 'O6', 'O7', 'C11', 'C12', 'C13', 'P2', 'O8', 'O9', 'O10', 'N1', 'C1', 'C2', 'C3', 'O1', 'C4', 'C5', 'C6', 'C7', 'C8', 'O2', 'P1', 'O3', 'O4', 'O5', 'N2', 'C9', 'C10', 'O6', 'O7', 'C11', 'C12', 'C13', 'P2', 'O8', 'O9', 'O10', 'N1', 'C1', 'C2', 'C3', 'O1', 'C4', 'C5', 'C6', 'C7', 'C8', 'O2', 'P1', 'O3', 'O4', 'O5', 'N2', 'C9', 'C10', 'O6', 'O7', 'C11', 'C12', 'C13', 'P2', 'O8', 'O9', 'O10', 'N1', 'C1', 'C2', 'C3', 'O1', 'C4', 'C5', 'C6', 'C7', 'C8', 'O2', 'P1', 'O3', 'O4', 'O5', 'N2', 'C9', 'C10', 'O6', 'O7', 'C11', 'C12', 'C13', 'P2', 'O8', 'O9', 'O10', 'N1', 'C1', 'C2', 'C3', 'O1', 'C4', 'C5', 'C6', 'C7', 'C8', 'O2', 'P1', 'O3', 'O4', 'O5', 'N2', 'C9', 'C10', 'O6', 'O7', 'C11', 'C12', 'C13', 'P2', 'O8', 'O9', 'O10', 'N1', 'C1', 'C2', 'C3', 'O1', 'C4', 'C5', 'C6', 'C7', 'C8', 'O2', 'P1', 'O3', 'O4', 'O5', 'N2', 'C9', 'C10', 'O6', 'O7', 'C11', 'C12', 'C13', 'P2', 'O8', 'O9', 'O10', 'N1', 'C!', 'C2', 'C3', 'O1', 'C4', 'C5', 'C6', 'C7', 'C8', 'O2', 'P1', 'O3', 'O4', 'O5', 'N2', 'C9', 'C10', 'O6', 'O7', 'C11', 'C12', 'C13', 'P2', 'O8', 'O9', 'O10'],\n",
    "                    \"6hcw_FYB\": ['C1', 'C2', 'C3', 'C4', 'C5', 'C6', 'C7', 'C8', 'C9', 'C10', 'C11', 'C12', 'F1', 'C13', 'C14', 'C15', 'O1', 'O2', 'O3', 'N1', 'C16', 'C17', 'O4', 'F2', 'F3', 'C1', 'C2', 'C3', 'C4', 'C5', 'C6', 'C7', 'C8', 'C9', 'C10', 'C11', 'C12', 'F1', 'C13', 'C14', 'C15', 'O1', 'O2', 'O3', 'N1', 'C16', 'C17', 'O4', 'F2', 'F3'],\n",
    "                    \"2wq5_MIY\": ['O1', 'C1', 'N1', 'C2', 'C3', 'O2', 'C4', 'O3', 'C5', 'N2', 'C6', 'C7', 'C8', 'C9', 'O4', 'C10', 'O5', 'C11', 'C12', 'C13', 'C14', 'O6', 'C15', 'C16', 'C17', 'C18', 'O7', 'C19', 'C20', 'C21', 'N3', 'C22', 'C23'],\n",
    "                    \"4r3b_3GE\": ['O1', 'C1', 'C2', 'C3', 'O2', 'O2', 'C4', 'N1', 'C5', 'C6', 'O3', 'O4', 'C7', 'C8', 'C9', 'S1', 'O5', 'O6']}    \n",
    "                    \n",
    "    interaction_dict = dict()\n",
    "    ligand_file_error, bond_error, ideal_ligand_file_error, sequence_error = 0, 0, 0, 0\n",
    "\n",
    "    pdbid_list, ligand_code_list = df.PDB.values, df.Lig_code.values\n",
    "    \n",
    "    for idx, (pdbid, ligand_code) in enumerate(zip(pdbid_list, ligand_code_list)):\n",
    "        try:\n",
    "            ''' \n",
    "            1) Read ligand info \n",
    "            ''' \n",
    "            ligand_atom_idx_list, ligand_atom_name_list = get_ligand_atoms_from_pdb(pdbid, ligand_code)\n",
    "\n",
    "            if f\"{pdbid}_{ligand_code}\" in convert_dict:\n",
    "                ligand_atom_name_list = convert_dict[f\"{pdbid}_{ligand_code}\"]\n",
    "\n",
    "            if ligand_atom_idx_list == None:\n",
    "                ligand_file_error += 1\n",
    "                print(f\"No such ligand {ligand_code} in PDB: {pdbid}\")\n",
    "                continue\n",
    "\n",
    "            '''\n",
    "            2) Read bond info\n",
    "            '''\n",
    "            bond_list = get_bonds(pdbid, ligand_code, ligand_atom_idx_list)\n",
    "            if bond_list == None:\n",
    "                bond_error += 1\n",
    "                print(f\"Empty bond list: PDB - {pdbid}, Ligand - {ligand_code}\")\n",
    "                continue\n",
    "\n",
    "            '''\n",
    "            3) mapping ligand atom info and interaction atom\n",
    "            '''\n",
    "            interact_atom_name_list, interact_bond_type_list = get_interact_atom_name(ligand_atom_idx_list, ligand_atom_name_list, bond_list)\n",
    "\n",
    "            '''\n",
    "            4) Read ideal ligand info\n",
    "            '''\n",
    "            name_order_list, atom_name_to_idx_dict, atom_name_to_element_dict = get_mol_from_ideal_ligandpdb(ligand_code)\n",
    "\n",
    "            if atom_name_to_idx_dict == None:\n",
    "                ideal_ligand_file_error += 1\n",
    "                print(f\"Ideal ligand is None: {pdbid}_{ligand_code}\")\n",
    "                continue\n",
    "\n",
    "            '''\n",
    "            5) Add interaction info to ideal ligand info\n",
    "            '''\n",
    "            ligand_atom_idx_list, ligand_atom_name_list, ligand_atom_element_list, ligand_atom_interact_list = get_interact_atom_list(name_order_list, atom_name_to_idx_dict,\n",
    "                           atom_name_to_element_dict,interact_atom_name_list)\n",
    "\n",
    "            '''\n",
    "            6) Read protein info\n",
    "            '''\n",
    "            seq_dict, idx_to_aa_dict = get_dict(df.Chain.values[idx], df.PDB_seqs.values[idx], df.Residue_index.values[idx])\n",
    "\n",
    "            '''\n",
    "            7) Mapping interaction info to protein info\n",
    "            '''\n",
    "            interact_residue_list = get_interact_residue(idx_to_aa_dict, bond_list)\n",
    "            if interact_residue_list is None:\n",
    "                sequence_error += 1\n",
    "                print(f\"Sequence Error: PDB - {pdbid}\")\n",
    "                continue  \n",
    "\n",
    "            '''\n",
    "            8) Save info\n",
    "            '''\n",
    "            interaction_dict[pdbid+'_'+ligand_code] = {}\n",
    "            interaction_dict[pdbid+'_'+ligand_code]['bond'] = bond_list\n",
    "            interaction_dict[pdbid+'_'+ligand_code]['atom_idx'] = ligand_atom_idx_list\n",
    "            interaction_dict[pdbid+'_'+ligand_code]['atom_name'] = ligand_atom_name_list\n",
    "            interaction_dict[pdbid+'_'+ligand_code]['atom_element'] = ligand_atom_element_list\n",
    "            interaction_dict[pdbid+'_'+ligand_code]['atom_interact'] = ligand_atom_interact_list\n",
    "            interaction_dict[pdbid+'_'+ligand_code]['atom_bond_type'] = interact_bond_type_list\n",
    "\n",
    "            interaction_dict[pdbid+'_'+ligand_code]['sequence'] = seq_dict\n",
    "            interaction_dict[pdbid+'_'+ligand_code]['residue_interact'] = interact_residue_list           \n",
    "\n",
    "        except:\n",
    "            print(f\"Error for {pdbid}\")\n",
    "            pass\n",
    "        \n",
    "    print(f\"{ligand_file_error}\")\n",
    "    print(f\"{bond_error}\")\n",
    "    print(f\"{ideal_ligand_file_error}\")\n",
    "    print(f\"{sequence_error}\")\n",
    "\n",
    "    return interaction_dict"
   ]
  },
  {
   "cell_type": "code",
   "execution_count": 10,
   "id": "39d44125",
   "metadata": {},
   "outputs": [],
   "source": [
    "ideal_path = \"./data/PDB/ligand\"\n",
    "pdb_path = \"./data/PDB/protein\"\n",
    "plip_results_path = \"./data/PLIP_results\""
   ]
  },
  {
   "cell_type": "markdown",
   "id": "d54d4a39",
   "metadata": {},
   "source": [
    "#### 2.1 PDBbind dataset"
   ]
  },
  {
   "cell_type": "code",
   "execution_count": 11,
   "id": "70769a7f",
   "metadata": {
    "scrolled": true
   },
   "outputs": [
    {
     "name": "stdout",
     "output_type": "stream",
     "text": [
      "No bonds are founded in 1fwe\n",
      "Empty bond list: PDB - 1fwe, Ligand - HAE\n",
      "No bonds are founded in 5zwh\n",
      "Empty bond list: PDB - 5zwh, Ligand - 9N9\n",
      "No bonds are founded in 6n95\n",
      "Empty bond list: PDB - 6n95, Ligand - YXS\n",
      "bond_type Metal Complexes\n",
      "Empty bond list: PDB - 3q4c, Ligand - RSW\n",
      "[pi-Stacking, pi-Cation Interactions] Error: atom index in plip result not in ligand atom idx (5oah, 95B)\n",
      "[6791, 6792, 6793, 6794, 6764]\n",
      "Empty bond list: PDB - 5oah, Ligand - 95B\n",
      "Error for 1o41\n",
      "bond_type Metal Complexes\n",
      "Empty bond list: PDB - 2foy, Ligand - B30\n",
      "No bonds are founded in 4hkp\n",
      "Empty bond list: PDB - 4hkp, Ligand - 16B\n",
      "No bonds are founded in 2z8e\n",
      "Empty bond list: PDB - 2z8e, Ligand - MES\n",
      "No bonds are founded in 5jim\n",
      "Empty bond list: PDB - 5jim, Ligand - P8S\n",
      "No bonds are founded in 3ig1\n",
      "Empty bond list: PDB - 3ig1, Ligand - JTH\n",
      "bond_type Metal Complexes\n",
      "Empty bond list: PDB - 2fou, Ligand - B22\n",
      "bond_type Metal Complexes\n",
      "Empty bond list: PDB - 4fea, Ligand - 0TE\n",
      "No bonds are founded in 4kw6\n",
      "Empty bond list: PDB - 4kw6, Ligand - QDO\n",
      "No bonds are founded in 5tv1\n",
      "Empty bond list: PDB - 5tv1, Ligand - IHP\n",
      "No bonds are founded in 2zz1\n",
      "Empty bond list: PDB - 2zz1, Ligand - 6CN\n",
      "Error for 3nuo\n",
      "No bonds are founded in 1y4z\n",
      "Empty bond list: PDB - 1y4z, Ligand - PCI\n",
      "No bonds are founded in 4gs9\n",
      "Empty bond list: PDB - 4gs9, Ligand - 0XB\n",
      "bond_type Metal Complexes\n",
      "Empty bond list: PDB - 2cfg, Ligand - R4A\n",
      "bond_type Metal Complexes\n",
      "Empty bond list: PDB - 2z97, Ligand - 7HE\n",
      "No bonds are founded in 5x4o\n",
      "Empty bond list: PDB - 5x4o, Ligand - YAM\n",
      "No bonds are founded in 1lzq\n",
      "Empty bond list: PDB - 1lzq, Ligand - 0ZQ\n",
      "bond_type Metal Complexes\n",
      "Empty bond list: PDB - 4aw8, Ligand - ZN\n",
      "No bonds are founded in 4elg\n",
      "Empty bond list: PDB - 4elg, Ligand - 52I\n",
      "No bonds are founded in 4wef\n",
      "Empty bond list: PDB - 4wef, Ligand - DF4\n",
      "No bonds are founded in 2vmc\n",
      "Empty bond list: PDB - 2vmc, Ligand - NGA\n",
      "No bonds are founded in 3umq\n",
      "Empty bond list: PDB - 3umq, Ligand - BUA\n",
      "No bonds are founded in 4s3e\n",
      "Empty bond list: PDB - 4s3e, Ligand - 0CG\n",
      "[pi-Stacking, pi-Cation Interactions] Error: atom index in plip result not in ligand atom idx (6dcz, G5Y)\n",
      "[1505, 1506, 1507, 1508, 1510]\n",
      "Empty bond list: PDB - 6dcz, Ligand - G5Y\n",
      "No bonds are founded in 3qip\n",
      "Empty bond list: PDB - 3qip, Ligand - P4Y\n",
      "No bonds are founded in 2dw7\n",
      "Empty bond list: PDB - 2dw7, Ligand - SRT\n",
      "[pi-Stacking, pi-Cation Interactions] Error: atom index in plip result not in ligand atom idx (4xm7, 41S)\n",
      "[4115, 4117, 4131, 4132, 4139]\n",
      "Empty bond list: PDB - 4xm7, Ligand - 41S\n",
      "No bonds are founded in 3t83\n",
      "Empty bond list: PDB - 3t83, Ligand - MG5\n",
      "bond_type Metal Complexes\n",
      "Empty bond list: PDB - 2cfd, Ligand - R4A\n",
      "No bonds are founded in 2iwu\n",
      "Empty bond list: PDB - 2iwu, Ligand - NP5\n",
      "bond_type Metal Complexes\n",
      "Empty bond list: PDB - 3w8o, Ligand - WPC\n",
      "bond_type Metal Complexes\n",
      "Empty bond list: PDB - 2fov, Ligand - B30\n",
      "No bonds are founded in 1axz\n",
      "Empty bond list: PDB - 1axz, Ligand - GAL\n",
      "No bonds are founded in 4k9g\n",
      "Empty bond list: PDB - 4k9g, Ligand - 1Q1\n",
      "No bonds are founded in 3nzc\n",
      "Empty bond list: PDB - 3nzc, Ligand - D2O\n",
      "No bonds are founded in 6ikm\n",
      "Empty bond list: PDB - 6ikm, Ligand - SPD\n",
      "No bonds are founded in 3p4w\n",
      "Empty bond list: PDB - 3p4w, Ligand - DSF\n",
      "[pi-Stacking, pi-Cation Interactions] Error: atom index in plip result not in ligand atom idx (4awg, CI3)\n",
      "[6367, 6368, 6369, 6371, 6383]\n",
      "Empty bond list: PDB - 4awg, Ligand - CI3\n",
      "No bonds are founded in 1zsh\n",
      "Empty bond list: PDB - 1zsh, Ligand - IHP\n",
      "No bonds are founded in 3f78\n",
      "Empty bond list: PDB - 3f78, Ligand - ICF\n",
      "No bonds are founded in 2dua\n",
      "Empty bond list: PDB - 2dua, Ligand - OXL\n",
      "bond_type Metal Complexes\n",
      "Empty bond list: PDB - 2yak, Ligand - OSV\n",
      "bond_type Metal Complexes\n",
      "Empty bond list: PDB - 5hki, Ligand - 6ZJ\n",
      "No bonds are founded in 5xmx\n",
      "Empty bond list: PDB - 5xmx, Ligand - 89L\n",
      "No bonds are founded in 2z94\n",
      "Empty bond list: PDB - 2z94, Ligand - TLD\n",
      "No bonds are founded in 4e28\n",
      "Empty bond list: PDB - 4e28, Ligand - 0MZ\n",
      "No bonds are founded in 5evb\n",
      "Empty bond list: PDB - 5evb, Ligand - 3R9\n",
      "0\n",
      "51\n",
      "0\n",
      "0\n",
      "[PDBbind]: 13663\n"
     ]
    }
   ],
   "source": [
    "PDBbind_interact_results = get_interactions_info(PDBbind_df)\n",
    "print(f\"[PDBbind]: {len(PDBbind_interact_results)}\")"
   ]
  },
  {
   "cell_type": "markdown",
   "id": "0e05cab4",
   "metadata": {},
   "source": [
    "#### 2.2 CASF2016 dataset"
   ]
  },
  {
   "cell_type": "code",
   "execution_count": 12,
   "id": "cfd8bd80",
   "metadata": {},
   "outputs": [
    {
     "name": "stdout",
     "output_type": "stream",
     "text": [
      "0\n",
      "0\n",
      "0\n",
      "0\n",
      "[CASF2016]: 269\n"
     ]
    }
   ],
   "source": [
    "CASF2016_interact_results = get_interactions_info(CASF2016_df)\n",
    "print(f\"[CASF2016]: {len(CASF2016_interact_results)}\")"
   ]
  },
  {
   "cell_type": "markdown",
   "id": "0c459787",
   "metadata": {},
   "source": [
    "#### 2.3 CASF2013 dataset"
   ]
  },
  {
   "cell_type": "code",
   "execution_count": 13,
   "id": "7ac6027b",
   "metadata": {},
   "outputs": [
    {
     "name": "stdout",
     "output_type": "stream",
     "text": [
      "0\n",
      "0\n",
      "0\n",
      "0\n",
      "[CASF2013]: 172\n"
     ]
    }
   ],
   "source": [
    "CASF2013_interact_results = get_interactions_info(CASF2013_df)\n",
    "print(f\"[CASF2013]: {len(CASF2013_interact_results)}\")"
   ]
  },
  {
   "cell_type": "markdown",
   "id": "93add4dd",
   "metadata": {},
   "source": [
    "#### 2.4 CSAR2014 dataset"
   ]
  },
  {
   "cell_type": "code",
   "execution_count": 14,
   "id": "d072f466",
   "metadata": {},
   "outputs": [
    {
     "name": "stdout",
     "output_type": "stream",
     "text": [
      "0\n",
      "0\n",
      "0\n",
      "0\n",
      "[CSAR2014]: 46\n"
     ]
    }
   ],
   "source": [
    "CSAR2014_interact_results = get_interactions_info(CSAR2014_df)\n",
    "print(f\"[CSAR2014]: {len(CSAR2014_interact_results)}\")"
   ]
  },
  {
   "cell_type": "markdown",
   "id": "d2f20d62",
   "metadata": {},
   "source": [
    "#### 2.5 CSAR2012 dataset"
   ]
  },
  {
   "cell_type": "code",
   "execution_count": 15,
   "id": "353e6451",
   "metadata": {},
   "outputs": [
    {
     "name": "stdout",
     "output_type": "stream",
     "text": [
      "0\n",
      "0\n",
      "0\n",
      "0\n",
      "[CSAR2012]: 55\n"
     ]
    }
   ],
   "source": [
    "CSAR2012_interact_results = get_interactions_info(CSAR2012_df)\n",
    "print(f\"[CSAR2012]: {len(CSAR2012_interact_results)}\")"
   ]
  },
  {
   "cell_type": "markdown",
   "id": "876cbf5b",
   "metadata": {},
   "source": [
    "#### 2.6 CSARset1 dataset"
   ]
  },
  {
   "cell_type": "code",
   "execution_count": 16,
   "id": "8d5ee0fa",
   "metadata": {},
   "outputs": [
    {
     "name": "stdout",
     "output_type": "stream",
     "text": [
      "0\n",
      "0\n",
      "0\n",
      "0\n",
      "[CSARset1]: 152\n"
     ]
    }
   ],
   "source": [
    "CSARset1_interact_results = get_interactions_info(CSARset1_df)\n",
    "print(f\"[CSARset1]: {len(CSARset1_interact_results)}\")"
   ]
  },
  {
   "cell_type": "markdown",
   "id": "0587cbc5",
   "metadata": {},
   "source": [
    "#### 2.7 CSARset2 dataset"
   ]
  },
  {
   "cell_type": "code",
   "execution_count": 17,
   "id": "ef228ea8",
   "metadata": {},
   "outputs": [
    {
     "name": "stdout",
     "output_type": "stream",
     "text": [
      "0\n",
      "0\n",
      "0\n",
      "0\n",
      "[CSARset2]: 135\n"
     ]
    }
   ],
   "source": [
    "CSARset2_interact_results = get_interactions_info(CSARset2_df)\n",
    "print(f\"[CSARset2]: {len(CSARset2_interact_results)}\")"
   ]
  },
  {
   "cell_type": "markdown",
   "id": "ecb4d294",
   "metadata": {},
   "source": [
    "#### 2.8 Astex dataset"
   ]
  },
  {
   "cell_type": "code",
   "execution_count": 18,
   "id": "377fbe67",
   "metadata": {},
   "outputs": [
    {
     "name": "stdout",
     "output_type": "stream",
     "text": [
      "0\n",
      "0\n",
      "0\n",
      "0\n",
      "[Astex]: 74\n"
     ]
    }
   ],
   "source": [
    "Astex_interact_results = get_interactions_info(Astex_df)\n",
    "print(f\"[Astex]: {len(Astex_interact_results)}\")"
   ]
  },
  {
   "cell_type": "markdown",
   "id": "9a0e8907",
   "metadata": {},
   "source": [
    "#### 2.9 COACH420 dataset"
   ]
  },
  {
   "cell_type": "code",
   "execution_count": 19,
   "id": "367dff23",
   "metadata": {},
   "outputs": [
    {
     "name": "stdout",
     "output_type": "stream",
     "text": [
      "No bonds are founded in 1cqf\n",
      "Empty bond list: PDB - 1cqf, Ligand - BGC\n",
      "No bonds are founded in 1vps\n",
      "Empty bond list: PDB - 1vps, Ligand - NAG\n",
      "0\n",
      "2\n",
      "0\n",
      "0\n",
      "[COACH420]: 323\n"
     ]
    }
   ],
   "source": [
    "COACH420_interact_results = get_interactions_info(COACH420_df)\n",
    "print(f\"[COACH420]: {len(COACH420_interact_results)}\")"
   ]
  },
  {
   "cell_type": "markdown",
   "id": "a7d92797",
   "metadata": {},
   "source": [
    "#### 2.10 HOLO4K dataset"
   ]
  },
  {
   "cell_type": "code",
   "execution_count": 20,
   "id": "c4b51c41",
   "metadata": {
    "scrolled": true
   },
   "outputs": [
    {
     "name": "stdout",
     "output_type": "stream",
     "text": [
      "No bonds are founded in 1abf\n",
      "Empty bond list: PDB - 1abf, Ligand - FCB\n",
      "No bonds are founded in 1apb\n",
      "Empty bond list: PDB - 1apb, Ligand - FCB\n",
      "No bonds are founded in 1ct1\n",
      "Empty bond list: PDB - 1ct1, Ligand - BGC\n",
      "bond_type Metal Complexes\n",
      "Empty bond list: PDB - 1e2e, Ligand - AF3\n",
      "No bonds are founded in 1e2g\n",
      "Empty bond list: PDB - 1e2g, Ligand - TMP\n",
      "No bonds are founded in 1el7\n",
      "Empty bond list: PDB - 1el7, Ligand - MTD\n",
      "No bonds are founded in 1el8\n",
      "Empty bond list: PDB - 1el8, Ligand - MSF\n",
      "No bonds are founded in 1el9\n",
      "Empty bond list: PDB - 1el9, Ligand - MTG\n",
      "No bonds are founded in 1eyw\n",
      "Empty bond list: PDB - 1eyw, Ligand - TEN\n",
      "No bonds are founded in 1fbh\n",
      "Empty bond list: PDB - 1fbh, Ligand - FBP\n",
      "No bonds are founded in 1fwu\n",
      "Empty bond list: PDB - 1fwu, Ligand - FUC\n",
      "No bonds are founded in 1fwv\n",
      "Empty bond list: PDB - 1fwv, Ligand - FUC\n",
      "bond_type Metal Complexes\n",
      "Empty bond list: PDB - 1g3c, Ligand - FE\n",
      "bond_type Metal Complexes\n",
      "Empty bond list: PDB - 1gfi, Ligand - ALF\n",
      "No bonds are founded in 1gvs\n",
      "Empty bond list: PDB - 1gvs, Ligand - TNF\n",
      "No bonds are founded in 1gw1\n",
      "Empty bond list: PDB - 1gw1, Ligand - MBF\n",
      "No bonds are founded in 1h00\n",
      "Empty bond list: PDB - 1h00, Ligand - FCP\n",
      "No bonds are founded in 1h01\n",
      "Empty bond list: PDB - 1h01, Ligand - FBL\n",
      "No bonds are founded in 1h07\n",
      "Empty bond list: PDB - 1h07, Ligand - MFQ\n",
      "No bonds are founded in 1h08\n",
      "Empty bond list: PDB - 1h08, Ligand - BWP\n",
      "bond_type Metal Complexes\n",
      "Empty bond list: PDB - 1hj1, Ligand - PMB\n",
      "No bonds are founded in 1hoo\n",
      "Empty bond list: PDB - 1hoo, Ligand - GNP\n",
      "No bonds are founded in 1hso\n",
      "Empty bond list: PDB - 1hso, Ligand - PYZ\n",
      "bond_type Metal Complexes\n",
      "Empty bond list: PDB - 1ihu, Ligand - AF3\n",
      "bond_type Metal Complexes\n",
      "Empty bond list: PDB - 1k3c, Ligand - AF3\n",
      "bond_type Metal Complexes\n",
      "Empty bond list: PDB - 1k3d, Ligand - AF3\n",
      "No bonds are founded in 1kck\n",
      "Empty bond list: PDB - 1kck, Ligand - BGC\n",
      "No bonds are founded in 1lvk\n",
      "Empty bond list: PDB - 1lvk, Ligand - BEF\n",
      "No bonds are founded in 1mmd\n",
      "Empty bond list: PDB - 1mmd, Ligand - BEF\n",
      "No bonds are founded in 1mw0\n",
      "Empty bond list: PDB - 1mw0, Ligand - BGC\n",
      "bond_type Metal Complexes\n",
      "Empty bond list: PDB - 1n6k, Ligand - AF3\n",
      "bond_type Metal Complexes\n",
      "Empty bond list: PDB - 1oh9, Ligand - ALF\n",
      "bond_type Metal Complexes\n",
      "Empty bond list: PDB - 1qf9, Ligand - ALF\n",
      "bond_type Metal Complexes\n",
      "Empty bond list: PDB - 1qpg, Ligand - MAP\n",
      "bond_type Metal Complexes\n",
      "Empty bond list: PDB - 1rk2, Ligand - ALF\n",
      "bond_type Metal Complexes\n",
      "Empty bond list: PDB - 1xzc, Ligand - PMB\n",
      "No bonds are founded in 2bef\n",
      "Empty bond list: PDB - 2bef, Ligand - BEF\n",
      "No bonds are founded in 2bup\n",
      "Empty bond list: PDB - 2bup, Ligand - ATP\n",
      "No bonds are founded in 2nlr\n",
      "Empty bond list: PDB - 2nlr, Ligand - G2F\n",
      "bond_type Metal Complexes\n",
      "Empty bond list: PDB - 3ca2, Ligand - AMS\n",
      "bond_type Metal Complexes\n",
      "Empty bond list: PDB - 3ukd, Ligand - AF3\n",
      "No bonds are founded in 4ukd\n",
      "Empty bond list: PDB - 4ukd, Ligand - BF2\n",
      "bond_type Metal Complexes\n",
      "Empty bond list: PDB - 5ukd, Ligand - AF3\n",
      "No bonds are founded in 6abp\n",
      "Empty bond list: PDB - 6abp, Ligand - ARB\n",
      "No bonds are founded in 7abp\n",
      "Empty bond list: PDB - 7abp, Ligand - FCB\n",
      "No bonds are founded in 8abp\n",
      "Empty bond list: PDB - 8abp, Ligand - GAL\n",
      "No bonds are founded in 9abp\n",
      "Empty bond list: PDB - 9abp, Ligand - GAL\n",
      "0\n",
      "47\n",
      "0\n",
      "0\n",
      "[HOLO4K]: 3911\n"
     ]
    }
   ],
   "source": [
    "HOLO4K_interact_results = get_interactions_info(HOLO4K_df)\n",
    "print(f\"[HOLO4K]: {len(HOLO4K_interact_results)}\")"
   ]
  },
  {
   "cell_type": "markdown",
   "id": "1509b00d",
   "metadata": {},
   "source": [
    "### 3. Save data"
   ]
  },
  {
   "cell_type": "code",
   "execution_count": 21,
   "id": "3883da6e",
   "metadata": {},
   "outputs": [],
   "source": [
    "with open(\"./preprocessed_data/step5_PDBbind_interaction.pkl\", \"wb\") as f:\n",
    "    pickle.dump(PDBbind_interact_results, f)"
   ]
  },
  {
   "cell_type": "code",
   "execution_count": 22,
   "id": "d354b86c",
   "metadata": {},
   "outputs": [],
   "source": [
    "with open(\"./preprocessed_data/step5_CASF2016_interaction.pkl\", \"wb\") as f:\n",
    "    pickle.dump(CASF2016_interact_results, f)"
   ]
  },
  {
   "cell_type": "code",
   "execution_count": 23,
   "id": "56801578",
   "metadata": {},
   "outputs": [],
   "source": [
    "with open(\"./preprocessed_data/step5_CASF2013_interaction.pkl\", \"wb\") as f:\n",
    "    pickle.dump(CASF2013_interact_results, f)"
   ]
  },
  {
   "cell_type": "code",
   "execution_count": 24,
   "id": "d3a057c9",
   "metadata": {},
   "outputs": [],
   "source": [
    "with open(\"./preprocessed_data/step5_CSAR2014_interaction.pkl\", \"wb\") as f:\n",
    "    pickle.dump(CSAR2014_interact_results, f)"
   ]
  },
  {
   "cell_type": "code",
   "execution_count": 25,
   "id": "c4fb0243",
   "metadata": {},
   "outputs": [],
   "source": [
    "with open(\"./preprocessed_data/step5_CSAR2012_interaction.pkl\", \"wb\") as f:\n",
    "    pickle.dump(CSAR2012_interact_results, f)"
   ]
  },
  {
   "cell_type": "code",
   "execution_count": 26,
   "id": "139c2702",
   "metadata": {},
   "outputs": [],
   "source": [
    "with open(\"./preprocessed_data/step5_CSARset1_interaction.pkl\", \"wb\") as f:\n",
    "    pickle.dump(CSARset1_interact_results, f)"
   ]
  },
  {
   "cell_type": "code",
   "execution_count": 27,
   "id": "536d0a0e",
   "metadata": {},
   "outputs": [],
   "source": [
    "with open(\"./preprocessed_data/step5_CSARset2_interaction.pkl\", \"wb\") as f:\n",
    "    pickle.dump(CSARset2_interact_results, f)"
   ]
  },
  {
   "cell_type": "code",
   "execution_count": 28,
   "id": "72be0424",
   "metadata": {},
   "outputs": [],
   "source": [
    "with open(\"./preprocessed_data/step5_Astex_interaction.pkl\", \"wb\") as f:\n",
    "    pickle.dump(Astex_interact_results, f)"
   ]
  },
  {
   "cell_type": "code",
   "execution_count": 29,
   "id": "bd9c0dd6",
   "metadata": {},
   "outputs": [],
   "source": [
    "with open(\"./preprocessed_data/step5_COACH420_interaction.pkl\", \"wb\") as f:\n",
    "    pickle.dump(COACH420_interact_results, f)"
   ]
  },
  {
   "cell_type": "code",
   "execution_count": 30,
   "id": "4ffe594e",
   "metadata": {},
   "outputs": [],
   "source": [
    "with open(\"./preprocessed_data/step5_HOLO4K_interaction.pkl\", \"wb\") as f:\n",
    "    pickle.dump(HOLO4K_interact_results, f)"
   ]
  },
  {
   "cell_type": "code",
   "execution_count": 31,
   "id": "f8e6610d",
   "metadata": {},
   "outputs": [],
   "source": [
    "def check_index(df, interact_dict):\n",
    "    index = list()\n",
    "    \n",
    "    for line in df.values:\n",
    "        pdbid, ligand_code = line[0], line[1]\n",
    "        if f\"{pdbid}_{ligand_code}\" in interact_dict:\n",
    "            index.append(True)\n",
    "        else:\n",
    "            index.append(False)\n",
    "    return index"
   ]
  },
  {
   "cell_type": "code",
   "execution_count": 32,
   "id": "88df4bd9",
   "metadata": {},
   "outputs": [],
   "source": [
    "PDBbind_df = PDBbind_df.loc[check_index(PDBbind_df, PDBbind_interact_results), :]\n",
    "CASF2016_df = CASF2016_df.loc[check_index(CASF2016_df, CASF2016_interact_results),:]\n",
    "CASF2013_df = CASF2013_df.loc[check_index(CASF2013_df, CASF2013_interact_results),:]\n",
    "CSAR2014_df = CSAR2014_df.loc[check_index(CSAR2014_df, CSAR2014_interact_results),:]\n",
    "CSAR2012_df = CSAR2012_df.loc[check_index(CSAR2012_df, CSAR2012_interact_results),:]\n",
    "CSARset1_df = CSARset1_df.loc[check_index(CSARset1_df, CSARset1_interact_results),:]\n",
    "CSARset2_df = CSARset2_df.loc[check_index(CSARset2_df, CSARset2_interact_results),:]\n",
    "Astex_df = Astex_df.loc[check_index(Astex_df, Astex_interact_results),:]\n",
    "COACH420_df = COACH420_df.loc[check_index(COACH420_df, COACH420_interact_results),:]\n",
    "HOLO4K_df = HOLO4K_df.loc[check_index(HOLO4K_df, HOLO4K_interact_results),:]"
   ]
  },
  {
   "cell_type": "code",
   "execution_count": 33,
   "id": "e619d71d",
   "metadata": {},
   "outputs": [],
   "source": [
    "PDBbind_df.to_csv(\"./preprocessed_data/step5_PDBbind_data.tsv\", sep = \"\\t\", index = False)\n",
    "CASF2016_df.to_csv(\"./preprocessed_data/step5_CASF2016_data.tsv\", sep = \"\\t\", index = False)\n",
    "CASF2013_df.to_csv(\"./preprocessed_data/step5_CASF2013_data.tsv\", sep = \"\\t\", index = False)\n",
    "CSAR2014_df.to_csv(\"./preprocessed_data/step5_CSAR2014_data.tsv\", sep = \"\\t\", index = False)\n",
    "CSAR2012_df.to_csv(\"./preprocessed_data/step5_CSAR2012_data.tsv\", sep = \"\\t\", index = False)\n",
    "CSARset1_df.to_csv(\"./preprocessed_data/step5_CSARset1_data.tsv\", sep = \"\\t\", index = False)\n",
    "CSARset2_df.to_csv(\"./preprocessed_data/step5_CSARset2_data.tsv\", sep = \"\\t\", index = False)\n",
    "Astex_df.to_csv(\"./preprocessed_data/step5_Astex_data.tsv\", sep = \"\\t\", index = False)\n",
    "COACH420_df.to_csv(\"./preprocessed_data/step5_COACH420_data.tsv\", sep = \"\\t\", index = False)\n",
    "HOLO4K_df.to_csv(\"./preprocessed_data/step5_HOLO4K_data.tsv\", sep = \"\\t\", index = False)"
   ]
  },
  {
   "cell_type": "markdown",
   "id": "899c7012",
   "metadata": {},
   "source": [
    "### 6. Make fasta files"
   ]
  },
  {
   "cell_type": "code",
   "execution_count": 34,
   "id": "b929abff",
   "metadata": {},
   "outputs": [],
   "source": [
    "def make_fasta(df, query_file_name, target_file_name):\n",
    "    fw1 = open(f\"./fasta/{query_file_name}\", \"w\")\n",
    "    fw2 = open(f\"./fasta/{target_file_name}\", \"w\")\n",
    "    \n",
    "    pdbid_list, chain_list, uniprot_id_list, pdb_seqs_list, uniprot_seqs_list = \\\n",
    "        df.PDB.values, df.Chain.values, df.Uniprot_IDs.values, df.PDB_seqs.values, df.Uniprot_seqs.values \n",
    "    \n",
    "    for pdbid, chain, uniprotid, pdb_seqs, uniprot_seqs in zip(pdbid_list, chain_list, uniprot_id_list, pdb_seqs_list, uniprot_seqs_list):\n",
    "        for ch, un, ps, us in zip(chain.split(\",\"), uniprotid.split(\",\"), pdb_seqs.split(\",\"), uniprot_seqs.split(\",\")):\n",
    "            if us != 'None':\n",
    "                fw1.write('>'+pdbid+'_'+ch+'\\n')\n",
    "                fw1.write(ps+'\\n')\n",
    "\n",
    "                fw2.write('>'+pdbid+'_'+ch+'_'+un+'\\n')\n",
    "                fw2.write(us+'\\n')                \n",
    "    fw1.close()\n",
    "    fw2.close()"
   ]
  },
  {
   "cell_type": "code",
   "execution_count": 35,
   "id": "40d7649e",
   "metadata": {},
   "outputs": [],
   "source": [
    "make_fasta(PDBbind_df, \"PDBbind_query_pdb.fasta\", \"PDBbind_target_uniprot_pdb.fasta\")\n",
    "make_fasta(CASF2016_df, \"CASF2016_query_pdb.fasta\", \"CASF2016_target_uniprot_pdb.fasta\")\n",
    "make_fasta(CASF2013_df, \"CASF2013_query_pdb.fasta\", \"CASF2013_target_uniprot_pdb.fasta\")\n",
    "make_fasta(CSAR2014_df, \"CSAR2014_query_pdb.fasta\", \"CSAR2014_target_uniprot_pdb.fasta\")\n",
    "make_fasta(CSAR2012_df, \"CSAR2012_query_pdb.fasta\", \"CSAR2012_target_uniprot_pdb.fasta\")\n",
    "make_fasta(CSARset1_df, \"CSARset1_query_pdb.fasta\", \"CSARset1_target_uniprot_pdb.fasta\")\n",
    "make_fasta(CSARset2_df, \"CSARset2_query_pdb.fasta\", \"CSARset2_target_uniprot_pdb.fasta\")\n",
    "make_fasta(Astex_df, \"Astex_query_pdb.fasta\", \"Astex_target_uniprot_pdb.fasta\")\n",
    "make_fasta(COACH420_df, \"COACH420_query_pdb.fasta\", \"COACH420_target_uniprot_pdb.fasta\")\n",
    "make_fasta(HOLO4K_df, \"HOLO4K_query_pdb.fasta\", \"HOLO4K_target_uniprot_pdb.fasta\")"
   ]
  },
  {
   "cell_type": "code",
   "execution_count": null,
   "id": "8e0a8e0a",
   "metadata": {},
   "outputs": [],
   "source": []
  }
 ],
 "metadata": {
  "kernelspec": {
   "display_name": "Python 3 (ipykernel)",
   "language": "python",
   "name": "python3"
  },
  "language_info": {
   "codemirror_mode": {
    "name": "ipython",
    "version": 3
   },
   "file_extension": ".py",
   "mimetype": "text/x-python",
   "name": "python",
   "nbconvert_exporter": "python",
   "pygments_lexer": "ipython3",
   "version": "3.7.16"
  }
 },
 "nbformat": 4,
 "nbformat_minor": 5
}
