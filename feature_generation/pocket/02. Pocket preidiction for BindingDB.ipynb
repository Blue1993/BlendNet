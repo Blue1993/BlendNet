{
 "cells": [
  {
   "cell_type": "code",
   "execution_count": 1,
   "id": "ff90a338",
   "metadata": {},
   "outputs": [],
   "source": [
    "import os\n",
    "import sys\n",
    "import yaml\n",
    "import pickle\n",
    "import random\n",
    "import logging\n",
    "import numpy as np\n",
    "import pandas as pd\n",
    "\n",
    "import torch\n",
    "from torch.utils.data import Subset, DataLoader\n",
    "\n",
    "sys.path.append(\"../../code/modules/\")\n",
    "\n",
    "from common.utils import load_cfg\n",
    "from pocket_modules.loaders import PocketTestDataset\n",
    "from pocket_modules.trainers import Pseq2SitesTrainer"
   ]
  },
  {
   "cell_type": "markdown",
   "id": "0f456ae2",
   "metadata": {},
   "source": [
    "### 1. Define settings"
   ]
  },
  {
   "cell_type": "code",
   "execution_count": 2,
   "id": "668e491d",
   "metadata": {},
   "outputs": [],
   "source": [
    "conf_path = \"../../code/pocket_extractor_config.yml\"\n",
    "config = load_cfg(conf_path)\n",
    "\n",
    "torch.manual_seed(config['Train']['seed'])\n",
    "np.random.seed(config['Train']['seed'])\n",
    "\n",
    "device = torch.device(\"cuda:\" + str(config['Train']['device'])) if torch.cuda.is_available() else torch.device(\"cpu\")\n",
    "if torch.cuda.is_available():\n",
    "    torch.cuda.manual_seed_all(config['Train']['seed'])"
   ]
  },
  {
   "cell_type": "markdown",
   "id": "9ffefb72",
   "metadata": {},
   "source": [
    "### 2. Load data"
   ]
  },
  {
   "cell_type": "code",
   "execution_count": 3,
   "id": "0481eb0f",
   "metadata": {},
   "outputs": [],
   "source": [
    "def load_data(data_path, feature_path):\n",
    "    df = pd.read_csv(f\"{data_path}\", sep = \"\\t\")\n",
    "    \n",
    "    with open(f\"{feature_path}\", \"rb\") as f:\n",
    "        features = pickle.load(f)\n",
    "    \n",
    "    pid_list, seqs_list = df.iloc[:, 0].values, df.iloc[:,3].values\n",
    "    \n",
    "    seqs_dict = dict()\n",
    "    \n",
    "    for i, j in zip(pid_list, seqs_list):\n",
    "        seqs_dict[i] = j\n",
    "    \n",
    "    pid_list = [i for i in list(seqs_dict.keys())]\n",
    "    seqs_list = [seqs_dict[i] for i in pid_list]\n",
    "    seqs_lengths = np.array([len(i) for i in seqs_list])\n",
    "    \n",
    "    return pid_list, features, seqs_list, seqs_lengths"
   ]
  },
  {
   "cell_type": "code",
   "execution_count": 4,
   "id": "82a6c0f5",
   "metadata": {
    "scrolled": true
   },
   "outputs": [
    {
     "name": "stdout",
     "output_type": "stream",
     "text": [
      "IC50: 4347\n"
     ]
    }
   ],
   "source": [
    "IC50_ID, IC50_features, IC50_seqs, IC50_lengths = load_data(\"../../input_data/BindingDB/IC50_data.tsv\", \n",
    "            \"../../input_data/BindingDB/IC50_protein_features.pkl\")\n",
    "print(f\"IC50: {len(IC50_ID)}\")"
   ]
  },
  {
   "cell_type": "code",
   "execution_count": 5,
   "id": "7787f139",
   "metadata": {
    "scrolled": true
   },
   "outputs": [
    {
     "name": "stdout",
     "output_type": "stream",
     "text": [
      "Ki: 2431\n"
     ]
    }
   ],
   "source": [
    "Ki_ID, Ki_features, Ki_seqs, Ki_lengths = load_data(\"../../input_data/BindingDB/Ki_data.tsv\", \n",
    "            \"../../input_data/BindingDB/Ki_protein_features.pkl\")\n",
    "print(f\"Ki: {len(Ki_ID)}\")"
   ]
  },
  {
   "cell_type": "markdown",
   "id": "085487d7",
   "metadata": {},
   "source": [
    "### 03. Load pocket extractor"
   ]
  },
  {
   "cell_type": "code",
   "execution_count": 6,
   "id": "dcf1320a",
   "metadata": {},
   "outputs": [
    {
     "data": {
      "text/plain": [
       "<All keys matched successfully>"
      ]
     },
     "execution_count": 6,
     "metadata": {},
     "output_type": "execute_result"
    }
   ],
   "source": [
    "trainer = Pseq2SitesTrainer(config, device)     \n",
    "trainer.model.load_state_dict(torch.load(config['Path']['check_point']))    "
   ]
  },
  {
   "cell_type": "markdown",
   "id": "16a6f6da",
   "metadata": {},
   "source": [
    "### 04. Get pocket prediction results"
   ]
  },
  {
   "cell_type": "code",
   "execution_count": 7,
   "id": "cbbbd914",
   "metadata": {},
   "outputs": [],
   "source": [
    "def remove_over_lengths(pred_list, length):\n",
    "\n",
    "    pred = list()\n",
    "    \n",
    "    for idx, val in enumerate(pred_list):\n",
    "        if val < length:\n",
    "            pred.append(val)\n",
    "\n",
    "    return np.array(pred)\n",
    "\n",
    "def extract_results(pdbid, predictions, lengths_dict):\n",
    "    results = dict()\n",
    "    \n",
    "    for idx, (pdb, pre) in enumerate(zip(pdbid, predictions)):\n",
    "        ind = np.where((pre >= 0.4))[0]\n",
    "        results[pdb] = remove_over_lengths(ind, lengths_dict[idx])\n",
    "    \n",
    "    return results"
   ]
  },
  {
   "cell_type": "code",
   "execution_count": 9,
   "id": "e47b3126",
   "metadata": {},
   "outputs": [
    {
     "name": "stderr",
     "output_type": "stream",
     "text": [
      "100%|██████████████████████████████████████████████████████████████████| 136/136 [00:23<00:00,  5.75it/s]\n"
     ]
    }
   ],
   "source": [
    "# IC50\n",
    "IC50_Dataset = PocketTestDataset(PID = IC50_ID, Pseqs = IC50_seqs, Pfeatures = IC50_features)\n",
    "IC50_Loader = DataLoader(IC50_Dataset, batch_size=config['Train']['batch_size'], shuffle=False)\n",
    "IC50_predictions = trainer.test(IC50_Loader)\n",
    "\n",
    "IC50_predictions = extract_results(IC50_ID, IC50_predictions, IC50_lengths)\n",
    "with open(\"../../input_data/BindingDB/IC50_pockets.pkl\", \"wb\") as f:\n",
    "    pickle.dump(IC50_predictions, f)"
   ]
  },
  {
   "cell_type": "code",
   "execution_count": 11,
   "id": "c92800c2",
   "metadata": {},
   "outputs": [
    {
     "name": "stderr",
     "output_type": "stream",
     "text": [
      "100%|████████████████████████████████████████████████████████████████████| 76/76 [00:13<00:00,  5.81it/s]\n"
     ]
    }
   ],
   "source": [
    "# Ki\n",
    "Ki_Dataset = PocketTestDataset(PID = Ki_ID, Pseqs = Ki_seqs, Pfeatures = Ki_features)\n",
    "Ki_Loader = DataLoader(Ki_Dataset, batch_size=config['Train']['batch_size'], shuffle=False)\n",
    "Ki_predictions = trainer.test(Ki_Loader)\n",
    "\n",
    "Ki_predictions = extract_results(Ki_ID, Ki_predictions, Ki_lengths)\n",
    "with open(\"../../input_data/BindingDB/Ki_pockets.pkl\", \"wb\") as f:\n",
    "    pickle.dump(Ki_predictions, f)"
   ]
  },
  {
   "cell_type": "code",
   "execution_count": null,
   "id": "496baeeb",
   "metadata": {},
   "outputs": [],
   "source": []
  },
  {
   "cell_type": "code",
   "execution_count": null,
   "id": "c7347206",
   "metadata": {},
   "outputs": [],
   "source": []
  }
 ],
 "metadata": {
  "kernelspec": {
   "display_name": "Python 3 (ipykernel)",
   "language": "python",
   "name": "python3"
  },
  "language_info": {
   "codemirror_mode": {
    "name": "ipython",
    "version": 3
   },
   "file_extension": ".py",
   "mimetype": "text/x-python",
   "name": "python",
   "nbconvert_exporter": "python",
   "pygments_lexer": "ipython3",
   "version": "3.7.16"
  }
 },
 "nbformat": 4,
 "nbformat_minor": 5
}
