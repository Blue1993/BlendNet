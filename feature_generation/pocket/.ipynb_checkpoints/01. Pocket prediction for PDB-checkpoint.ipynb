{
 "cells": [
  {
   "cell_type": "code",
   "execution_count": 1,
   "id": "960a53b5",
   "metadata": {},
   "outputs": [],
   "source": [
    "import os\n",
    "import sys\n",
    "import yaml\n",
    "import pickle\n",
    "import random\n",
    "import logging\n",
    "import numpy as np\n",
    "import pandas as pd\n",
    "\n",
    "import torch\n",
    "from torch.utils.data import Subset, DataLoader\n",
    "\n",
    "sys.path.append(\"../../code/modules/\")\n",
    "\n",
    "from common.utils import load_cfg\n",
    "from pocket_modules.loaders import PocketTestDataset\n",
    "from pocket_modules.trainers import Pseq2SitesTrainer"
   ]
  },
  {
   "cell_type": "markdown",
   "id": "f707d06a",
   "metadata": {},
   "source": [
    "### 1. Define settings"
   ]
  },
  {
   "cell_type": "code",
   "execution_count": 2,
   "id": "3e199e2b",
   "metadata": {},
   "outputs": [],
   "source": [
    "conf_path = \"../../code/pocket_extractor_config.yml\"\n",
    "config = load_cfg(conf_path)\n",
    "\n",
    "torch.manual_seed(config['Train']['seed'])\n",
    "np.random.seed(config['Train']['seed'])\n",
    "\n",
    "device = torch.device(\"cuda:\" + str(config['Train']['device'])) if torch.cuda.is_available() else torch.device(\"cpu\")\n",
    "if torch.cuda.is_available():\n",
    "    torch.cuda.manual_seed_all(config['Train']['seed'])"
   ]
  },
  {
   "cell_type": "markdown",
   "id": "c24e47fb",
   "metadata": {},
   "source": [
    "### 2. Load data"
   ]
  },
  {
   "cell_type": "code",
   "execution_count": 3,
   "id": "164690d6",
   "metadata": {},
   "outputs": [],
   "source": [
    "def load_data(data_path, feature_path, seqs_index):\n",
    "    df = pd.read_csv(f\"{data_path}\", sep = \"\\t\")\n",
    "    \n",
    "    with open(f\"{feature_path}\", \"rb\") as f:\n",
    "        features = pickle.load(f)\n",
    "    \n",
    "    pid_list, seqs_list = df.iloc[:, 1].values, df.iloc[:,seqs_index].values\n",
    "    \n",
    "    seqs_dict = dict()\n",
    "    \n",
    "    for i, j in zip(pid_list, seqs_list):\n",
    "        seqs_dict[i] = j\n",
    "    \n",
    "    pid_list = [i for i in list(seqs_dict.keys())]\n",
    "    seqs_list = [seqs_dict[i] for i in pid_list]\n",
    "    seqs_lengths = np.array([len(i) for i in seqs_list])\n",
    "    \n",
    "    return pid_list, features, seqs_list, seqs_lengths"
   ]
  },
  {
   "cell_type": "code",
   "execution_count": 4,
   "id": "7fdc40b0",
   "metadata": {},
   "outputs": [],
   "source": [
    "Training_ID, Training_features, Training_seqs, Training_seq_lengths  = load_data(f\"../../input_data/PDB/BA/Training_BA_data.tsv\",\n",
    "                                                                        \"../../input_data/PDB/BA/Training_protein_features.pkl\", 4) \n",
    "\n",
    "CASF2016_ID, CASF2016_features, CASF2016_seqs, CASF2016_seq_lengths = load_data(f\"../../input_data/PDB/BA/CASF2016_BA_data.tsv\",\n",
    "                                                                        \"../../input_data/PDB/BA/CASF2016_protein_features.pkl\", 4) \n",
    "\n",
    "CASF2013_ID, CASF2013_features, CASF2013_seqs, CASF2013_seq_lengths = load_data(f\"../../input_data/PDB/BA/CASF2013_BA_data.tsv\",\n",
    "                                                                        \"../../input_data/PDB/BA/CASF2013_protein_features.pkl\", 4) \n",
    "\n",
    "CSAR2014_ID, CSAR2014_features, CSAR2014_seqs, CSAR2014_seq_lengths = load_data(f\"../../input_data/PDB/BA/CSAR2014_BA_data.tsv\",\n",
    "                                                                        \"../../input_data/PDB/BA/CSAR2014_protein_features.pkl\", 4) \n",
    "\n",
    "CSAR2012_ID, CSAR2012_features, CSAR2012_seqs, CSAR2012_seq_lengths = load_data(f\"../../input_data/PDB/BA/CSAR2012_BA_data.tsv\",\n",
    "                                                                        \"../../input_data/PDB/BA/CSAR2012_protein_features.pkl\", 4) \n",
    "\n",
    "CSARset1_ID, CSARset1_features, CSARset1_seqs, CSARset1_seq_lengths = load_data(f\"../../input_data/PDB/BA/CSARset1_BA_data.tsv\",\n",
    "                                                                        \"../../input_data/PDB/BA/CSARset1_protein_features.pkl\", 4) \n",
    "\n",
    "CSARset2_ID, CSARset2_features, CSARset2_seqs, CSARset2_seq_lengths = load_data(f\"../../input_data/PDB/BA/CSARset2_BA_data.tsv\",\n",
    "                                                                        \"../../input_data/PDB/BA/CSARset2_protein_features.pkl\", 4) \n",
    "\n",
    "Astex_ID, Astex_features, Astex_seqs, Astex_seq_lengths = load_data(f\"../../input_data/PDB/BA/Astex_BA_data.tsv\",\n",
    "                                                                        \"../../input_data/PDB/BA/Astex_protein_features.pkl\", 4) \n",
    "\n",
    "COACH420_ID, COACH420_features, COACH420_seqs, COACH420_seq_lengths = load_data(f\"../../input_data/PDB/BA/COACH420_IS_data.tsv\",\n",
    "                                                                        \"../../input_data/PDB/BA/COACH420_protein_features.pkl\", 3) \n",
    "\n",
    "HOLO4K_ID, HOLO4K_features, HOLO4K_seqs, HOLO4K_seq_lengths = load_data(f\"../../input_data/PDB/BA/HOLO4K_IS_data.tsv\",\n",
    "                                                                        \"../../input_data/PDB/BA/HOLO4K_protein_features.pkl\", 3)                                       "
   ]
  },
  {
   "cell_type": "markdown",
   "id": "f713d641",
   "metadata": {},
   "source": [
    "### 3. Load Pocket extractor"
   ]
  },
  {
   "cell_type": "code",
   "execution_count": 5,
   "id": "8d9ee8ed",
   "metadata": {},
   "outputs": [
    {
     "data": {
      "text/plain": [
       "<All keys matched successfully>"
      ]
     },
     "execution_count": 5,
     "metadata": {},
     "output_type": "execute_result"
    }
   ],
   "source": [
    "trainer = Pseq2SitesTrainer(config, device)     \n",
    "trainer.model.load_state_dict(torch.load(config['Path']['check_point']))    "
   ]
  },
  {
   "cell_type": "markdown",
   "id": "cbdcc362",
   "metadata": {},
   "source": [
    "### 4. Get pocket prediction results"
   ]
  },
  {
   "cell_type": "code",
   "execution_count": 6,
   "id": "4acbb120",
   "metadata": {},
   "outputs": [],
   "source": [
    "def remove_over_lengths(pred_list, length):\n",
    "\n",
    "    pred = list()\n",
    "    \n",
    "    for idx, val in enumerate(pred_list):\n",
    "        if val < length:\n",
    "            pred.append(val)\n",
    "\n",
    "    return np.array(pred)\n",
    "\n",
    "def extract_results(pdbid, predictions, lengths_dict):\n",
    "    results = dict()\n",
    "    \n",
    "    for idx, (pdb, pre) in enumerate(zip(pdbid, predictions)):\n",
    "        ind = np.where((pre >= 0.4))[0]\n",
    "        results[pdb] = remove_over_lengths(ind, lengths_dict[idx])\n",
    "    \n",
    "    return results"
   ]
  },
  {
   "cell_type": "code",
   "execution_count": 7,
   "id": "db27fc36",
   "metadata": {},
   "outputs": [
    {
     "name": "stderr",
     "output_type": "stream",
     "text": [
      "  0%|                                                                             | 0/76 [00:00<?, ?it/s]/home/ssm/anaconda3/envs/molbert/lib/python3.7/site-packages/torch/nn/functional.py:1960: UserWarning: nn.functional.sigmoid is deprecated. Use torch.sigmoid instead.\n",
      "  warnings.warn(\"nn.functional.sigmoid is deprecated. Use torch.sigmoid instead.\")\n",
      "100%|████████████████████████████████████████████████████████████████████| 76/76 [00:14<00:00,  5.32it/s]\n"
     ]
    }
   ],
   "source": [
    "# PDBbind\n",
    "Training_Dataset = PocketTestDataset(PID = Training_ID, Pseqs = Training_seqs, Pfeatures = Training_features)\n",
    "Training_Loader = DataLoader(Training_Dataset, batch_size=config['Train']['batch_size'], shuffle=False)\n",
    "Training_predictions = trainer.test(Training_Loader)\n",
    "\n",
    "Training_predictions = extract_results(Training_ID, Training_predictions, Training_seq_lengths)\n",
    "with open(\"../../input_data/PDB/BA/Training_pockets.pkl\", \"wb\") as f:\n",
    "    pickle.dump(Training_predictions, f)"
   ]
  },
  {
   "cell_type": "code",
   "execution_count": 8,
   "id": "86027a0b",
   "metadata": {},
   "outputs": [
    {
     "name": "stderr",
     "output_type": "stream",
     "text": [
      "100%|██████████████████████████████████████████████████████████████████████| 2/2 [00:00<00:00,  5.75it/s]\n"
     ]
    }
   ],
   "source": [
    "# CASF2016\n",
    "CASF2016_Dataset = PocketTestDataset(PID = CASF2016_ID, Pseqs = CASF2016_seqs, Pfeatures = CASF2016_features)\n",
    "CASF2016_Loader = DataLoader(CASF2016_Dataset, batch_size=config['Train']['batch_size'], shuffle=False)\n",
    "CASF2016_predictions = trainer.test(CASF2016_Loader)\n",
    "\n",
    "CASF2016_predictions = extract_results(CASF2016_ID, CASF2016_predictions, CASF2016_seq_lengths)\n",
    "with open(\"../../input_data/PDB/BA/CASF2016_pockets.pkl\", \"wb\") as f:\n",
    "    pickle.dump(CASF2016_predictions, f)"
   ]
  },
  {
   "cell_type": "code",
   "execution_count": 9,
   "id": "14251084",
   "metadata": {},
   "outputs": [
    {
     "name": "stderr",
     "output_type": "stream",
     "text": [
      "100%|██████████████████████████████████████████████████████████████████████| 2/2 [00:00<00:00,  5.84it/s]\n"
     ]
    }
   ],
   "source": [
    "# CASF2013\n",
    "CASF2013_Dataset = PocketTestDataset(PID = CASF2013_ID, Pseqs = CASF2013_seqs, Pfeatures = CASF2013_features)\n",
    "CASF2013_Loader = DataLoader(CASF2013_Dataset, batch_size=config['Train']['batch_size'], shuffle=False)\n",
    "CASF2013_predictions = trainer.test(CASF2013_Loader)\n",
    "\n",
    "CASF2013_predictions = extract_results(CASF2013_ID, CASF2013_predictions, CASF2013_seq_lengths)\n",
    "with open(\"../../input_data/PDB/BA/CASF2013_pockets.pkl\", \"wb\") as f:\n",
    "    pickle.dump(CASF2013_predictions, f)"
   ]
  },
  {
   "cell_type": "code",
   "execution_count": 10,
   "id": "ff85269e",
   "metadata": {
    "scrolled": true
   },
   "outputs": [
    {
     "name": "stderr",
     "output_type": "stream",
     "text": [
      "100%|██████████████████████████████████████████████████████████████████████| 1/1 [00:00<00:00, 57.07it/s]\n"
     ]
    }
   ],
   "source": [
    "# CSAR2014\n",
    "CSAR2014_Dataset = PocketTestDataset(PID = CSAR2014_ID, Pseqs = CSAR2014_seqs, Pfeatures = CSAR2014_features)\n",
    "CSAR2014_Loader = DataLoader(CSAR2014_Dataset, batch_size=config['Train']['batch_size'], shuffle=False)\n",
    "CSAR2014_predictions = trainer.test(CSAR2014_Loader)\n",
    "\n",
    "CSAR2014_predictions = extract_results(CSAR2014_ID, CSAR2014_predictions, CSAR2014_seq_lengths)\n",
    "with open(\"../../input_data/PDB/BA/CSAR2014_pockets.pkl\", \"wb\") as f:\n",
    "    pickle.dump(CSAR2014_predictions, f)"
   ]
  },
  {
   "cell_type": "code",
   "execution_count": 11,
   "id": "d8579c04",
   "metadata": {},
   "outputs": [
    {
     "name": "stderr",
     "output_type": "stream",
     "text": [
      "100%|██████████████████████████████████████████████████████████████████████| 1/1 [00:00<00:00, 25.77it/s]\n"
     ]
    }
   ],
   "source": [
    "# CSAR2012\n",
    "CSAR2012_Dataset = PocketTestDataset(PID = CSAR2012_ID, Pseqs = CSAR2012_seqs, Pfeatures = CSAR2012_features)\n",
    "CSAR2012_Loader = DataLoader(CSAR2012_Dataset, batch_size=config['Train']['batch_size'], shuffle=False)\n",
    "CSAR2012_predictions = trainer.test(CSAR2012_Loader)\n",
    "\n",
    "CSAR2012_predictions = extract_results(CSAR2012_ID, CSAR2012_predictions, CSAR2012_seq_lengths)\n",
    "with open(\"../../input_data/PDB/BA/CSAR2012_pockets.pkl\", \"wb\") as f:\n",
    "    pickle.dump(CSAR2012_predictions, f)"
   ]
  },
  {
   "cell_type": "code",
   "execution_count": 12,
   "id": "9ccb8984",
   "metadata": {},
   "outputs": [
    {
     "name": "stderr",
     "output_type": "stream",
     "text": [
      "100%|██████████████████████████████████████████████████████████████████████| 4/4 [00:00<00:00,  6.90it/s]\n"
     ]
    }
   ],
   "source": [
    "# CSARset1\n",
    "CSARset1_Dataset = PocketTestDataset(PID = CSARset1_ID, Pseqs = CSARset1_seqs, Pfeatures = CSARset1_features)\n",
    "CSARset1_Loader = DataLoader(CSARset1_Dataset, batch_size=config['Train']['batch_size'], shuffle=False)\n",
    "CSARset1_predictions = trainer.test(CSARset1_Loader)\n",
    "\n",
    "CSARset1_predictions = extract_results(CSARset1_ID, CSARset1_predictions, CSARset1_seq_lengths)\n",
    "with open(\"../../input_data/PDB/BA/CSARset1_pockets.pkl\", \"wb\") as f:\n",
    "    pickle.dump(CSARset1_predictions, f)"
   ]
  },
  {
   "cell_type": "code",
   "execution_count": 13,
   "id": "4d4e5051",
   "metadata": {},
   "outputs": [
    {
     "name": "stderr",
     "output_type": "stream",
     "text": [
      "100%|██████████████████████████████████████████████████████████████████████| 3/3 [00:00<00:00,  6.54it/s]\n"
     ]
    }
   ],
   "source": [
    "# CSARset2\n",
    "CSARset2_Dataset = PocketTestDataset(PID = CSARset2_ID, Pseqs = CSARset2_seqs, Pfeatures = CSARset2_features)\n",
    "CSARset2_Loader = DataLoader(CSARset2_Dataset, batch_size=config['Train']['batch_size'], shuffle=False)\n",
    "CSARset2_predictions = trainer.test(CSARset2_Loader)\n",
    "\n",
    "CSARset2_predictions = extract_results(CSARset2_ID, CSARset2_predictions, CSARset2_seq_lengths)\n",
    "with open(\"../../input_data/PDB/BA/CSARset2_pockets.pkl\", \"wb\") as f:\n",
    "    pickle.dump(CSARset2_predictions, f)"
   ]
  },
  {
   "cell_type": "code",
   "execution_count": 14,
   "id": "b401e67d",
   "metadata": {},
   "outputs": [
    {
     "name": "stderr",
     "output_type": "stream",
     "text": [
      "100%|██████████████████████████████████████████████████████████████████████| 3/3 [00:00<00:00,  7.67it/s]\n"
     ]
    }
   ],
   "source": [
    "# Astex\n",
    "Astex_Dataset = PocketTestDataset(PID = Astex_ID, Pseqs = Astex_seqs, Pfeatures = Astex_features)\n",
    "Astex_Loader = DataLoader(Astex_Dataset, batch_size=config['Train']['batch_size'], shuffle=False)\n",
    "Astex_predictions = trainer.test(Astex_Loader)\n",
    "\n",
    "Astex_predictions = extract_results(Astex_ID, Astex_predictions, Astex_seq_lengths)\n",
    "with open(\"../../input_data/PDB/BA/Astex_pockets.pkl\", \"wb\") as f:\n",
    "    pickle.dump(Astex_predictions, f)"
   ]
  },
  {
   "cell_type": "code",
   "execution_count": 15,
   "id": "8a5b5da1",
   "metadata": {},
   "outputs": [
    {
     "name": "stderr",
     "output_type": "stream",
     "text": [
      "100%|██████████████████████████████████████████████████████████████████████| 8/8 [00:01<00:00,  6.34it/s]\n"
     ]
    }
   ],
   "source": [
    "# COACH420\n",
    "COACH420_Dataset = PocketTestDataset(PID = COACH420_ID, Pseqs = COACH420_seqs, Pfeatures = COACH420_features)\n",
    "COACH420_Loader = DataLoader(COACH420_Dataset, batch_size=config['Train']['batch_size'], shuffle=False)\n",
    "COACH420_predictions = trainer.test(COACH420_Loader)\n",
    "\n",
    "COACH420_predictions = extract_results(COACH420_ID, COACH420_predictions, COACH420_seq_lengths)\n",
    "with open(\"../../input_data/PDB/BA/COACH420_pockets.pkl\", \"wb\") as f:\n",
    "    pickle.dump(COACH420_predictions, f)"
   ]
  },
  {
   "cell_type": "code",
   "execution_count": 16,
   "id": "83a396cb",
   "metadata": {},
   "outputs": [
    {
     "name": "stderr",
     "output_type": "stream",
     "text": [
      "100%|████████████████████████████████████████████████████████████████████| 34/34 [00:05<00:00,  5.90it/s]\n"
     ]
    }
   ],
   "source": [
    "# HOLO4K\n",
    "HOLO4K_Dataset = PocketTestDataset(PID = HOLO4K_ID, Pseqs = HOLO4K_seqs, Pfeatures = HOLO4K_features)\n",
    "HOLO4K_Loader = DataLoader(HOLO4K_Dataset, batch_size=config['Train']['batch_size'], shuffle=False)\n",
    "HOLO4K_predictions = trainer.test(HOLO4K_Loader)\n",
    "                                                     \n",
    "HOLO4K_predictions = extract_results(HOLO4K_ID, HOLO4K_predictions, HOLO4K_seq_lengths)\n",
    "with open(\"../../input_data/PDB/BA/HOLO4K_pockets.pkl\", \"wb\") as f:\n",
    "    pickle.dump(HOLO4K_predictions, f)   "
   ]
  },
  {
   "cell_type": "code",
   "execution_count": null,
   "id": "0fed93f2",
   "metadata": {},
   "outputs": [],
   "source": []
  }
 ],
 "metadata": {
  "kernelspec": {
   "display_name": "Python 3 (ipykernel)",
   "language": "python",
   "name": "python3"
  },
  "language_info": {
   "codemirror_mode": {
    "name": "ipython",
    "version": 3
   },
   "file_extension": ".py",
   "mimetype": "text/x-python",
   "name": "python",
   "nbconvert_exporter": "python",
   "pygments_lexer": "ipython3",
   "version": "3.7.16"
  }
 },
 "nbformat": 4,
 "nbformat_minor": 5
}
