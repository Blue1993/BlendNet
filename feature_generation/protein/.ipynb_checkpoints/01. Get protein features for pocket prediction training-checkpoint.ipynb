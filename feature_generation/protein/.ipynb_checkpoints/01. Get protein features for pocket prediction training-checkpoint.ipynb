{
 "cells": [
  {
   "cell_type": "code",
   "execution_count": 1,
   "id": "6d30ad15",
   "metadata": {},
   "outputs": [],
   "source": [
    "import re\n",
    "import torch\n",
    "import pickle\n",
    "import argparse\n",
    "import numpy as np\n",
    "import pandas as pd\n",
    "\n",
    "from transformers import BertModel, BertTokenizer"
   ]
  },
  {
   "cell_type": "markdown",
   "id": "6fc05c7b",
   "metadata": {},
   "source": [
    "### 1. Load data"
   ]
  },
  {
   "cell_type": "code",
   "execution_count": 2,
   "id": "3d47452e",
   "metadata": {},
   "outputs": [],
   "source": [
    "BS_data_df = pd.read_csv(\"../../input_data/PDB/BS/Training_BS_data.tsv\", sep = \"\\t\")\n",
    "BS_uniprot_IDs, BS_uniprot_seqs = BS_data_df.iloc[:, 1].values, BS_data_df.iloc[:, 2].values"
   ]
  },
  {
   "cell_type": "markdown",
   "id": "951115f8",
   "metadata": {},
   "source": [
    "### 2. Get protein features"
   ]
  },
  {
   "cell_type": "code",
   "execution_count": 3,
   "id": "e62ffa13",
   "metadata": {},
   "outputs": [
    {
     "name": "stdout",
     "output_type": "stream",
     "text": [
      "Uniprot_IDs: 5598\n"
     ]
    }
   ],
   "source": [
    "protein_seqs_dict, protein_features_dict = dict(), dict()\n",
    "\n",
    "for i, s in zip(BS_uniprot_IDs, BS_uniprot_seqs):\n",
    "    protein_seqs_dict[i] = s\n",
    "print(f\"Uniprot_IDs: {len(protein_seqs_dict)}\")"
   ]
  },
  {
   "cell_type": "code",
   "execution_count": 4,
   "id": "aa7107b6",
   "metadata": {},
   "outputs": [
    {
     "name": "stderr",
     "output_type": "stream",
     "text": [
      "Some weights of the model checkpoint at Rostlab/prot_bert were not used when initializing BertModel: ['cls.seq_relationship.weight', 'cls.predictions.decoder.bias', 'cls.predictions.decoder.weight', 'cls.predictions.transform.dense.bias', 'cls.predictions.transform.dense.weight', 'cls.predictions.bias', 'cls.predictions.transform.LayerNorm.weight', 'cls.predictions.transform.LayerNorm.bias', 'cls.seq_relationship.bias']\n",
      "- This IS expected if you are initializing BertModel from the checkpoint of a model trained on another task or with another architecture (e.g. initializing a BertForSequenceClassification model from a BertForPreTraining model).\n",
      "- This IS NOT expected if you are initializing BertModel from the checkpoint of a model that you expect to be exactly identical (initializing a BertForSequenceClassification model from a BertForSequenceClassification model).\n"
     ]
    }
   ],
   "source": [
    "tokenizer = BertTokenizer.from_pretrained(\"Rostlab/prot_bert\", do_lower_case = False)\n",
    "prots_model = BertModel.from_pretrained(\"Rostlab/prot_bert\") \n",
    "device = torch.device('cuda:0' if torch.cuda.is_available() else 'cpu')\n",
    "\n",
    "prots_model = prots_model.to(device)\n",
    "prots_model = prots_model.eval()"
   ]
  },
  {
   "cell_type": "code",
   "execution_count": 5,
   "id": "94521715",
   "metadata": {},
   "outputs": [
    {
     "name": "stderr",
     "output_type": "stream",
     "text": [
      "/home/ssm/anaconda3/envs/cma/lib/python3.7/site-packages/transformers/tokenization_utils_base.py:2269: FutureWarning: The `pad_to_max_length` argument is deprecated and will be removed in a future version, use `padding=True` or `padding='longest'` to pad to the longest sequence in the batch, or use `padding='max_length'` to pad to a max length. In this case, you can give a specific length with `max_length` (e.g. `max_length=45`) or leave max_length to None to pad to the maximal input size of the model (e.g. 512 for Bert).\n",
      "  FutureWarning,\n"
     ]
    },
    {
     "name": "stdout",
     "output_type": "stream",
     "text": [
      "5598\n"
     ]
    }
   ],
   "source": [
    "for PID in list(protein_seqs_dict.keys()):\n",
    "    seqs_example = \" \".join(list(re.sub(r\"[UZOB]\", \"X\", protein_seqs_dict[PID])))\n",
    "\n",
    "    ids = tokenizer.batch_encode_plus([seqs_example], add_special_tokens = True, pad_to_max_length = True)\n",
    "    input_ids = torch.tensor(ids['input_ids']).to(device)\n",
    "    attention_mask = torch.tensor(ids['attention_mask']).to(device) \n",
    "\n",
    "    with torch.no_grad(): \n",
    "        embedding = prots_model(input_ids = input_ids, attention_mask = attention_mask)[0]\n",
    "        embedding = embedding.cpu().numpy()\n",
    "        seq_len = (attention_mask[0] == 1).sum()\n",
    "\n",
    "        if seq_len < 1503:\n",
    "            seq_emd = embedding[0][1:seq_len-1]            \n",
    "\n",
    "        else:\n",
    "            seq_len = 1502\n",
    "            seq_emd = embedding[0][1:seq_len-1]\n",
    "\n",
    "    protein_features_dict[PID] = seq_emd\n",
    "\n",
    "print(len(protein_features_dict))"
   ]
  },
  {
   "cell_type": "code",
   "execution_count": 6,
   "id": "4356ff48",
   "metadata": {},
   "outputs": [],
   "source": [
    "with open(\"../../input_data/PDB/BS/Training_BS_protein_features.pkl\", \"wb\") as f:        \n",
    "    pickle.dump(protein_features_dict, f) "
   ]
  },
  {
   "cell_type": "markdown",
   "id": "8061183a",
   "metadata": {},
   "source": [
    "### 3. Get binding site labels"
   ]
  },
  {
   "cell_type": "code",
   "execution_count": 26,
   "id": "71dce2fe",
   "metadata": {},
   "outputs": [],
   "source": [
    "binding_sites_8A_dict, binding_sites_4A_dict = dict(), dict()\n",
    "\n",
    "BS_8A_labels, BS_4A_labels = BS_data_df.iloc[:, 3].values, BS_data_df.iloc[:, 4].values"
   ]
  },
  {
   "cell_type": "code",
   "execution_count": 27,
   "id": "19bb6a5d",
   "metadata": {},
   "outputs": [],
   "source": [
    "for PID, BS_8A, BS_4A in zip(BS_uniprot_IDs, BS_8A_labels, BS_4A_labels):\n",
    "    BS_8A_list, BS_4A_list = BS_8A.split(\",\"), BS_4A.split(\",\")\n",
    "    \n",
    "    if PID in binding_sites_4A_dict:\n",
    "        binding_sites_4A_dict[PID].extend(list(map(int, BS_4A_list)))\n",
    "        binding_sites_8A_dict[PID].extend(list(map(int, BS_8A_list)))\n",
    "\n",
    "    else:\n",
    "        binding_sites_4A_dict[PID] = list(map(int, BS_4A_list))\n",
    "        binding_sites_8A_dict[PID] = list(map(int, BS_8A_list))"
   ]
  },
  {
   "cell_type": "code",
   "execution_count": 28,
   "id": "0580537b",
   "metadata": {},
   "outputs": [],
   "source": [
    "uniprot_binding_sites_dict = {\"Uniprot_IDs\":[], \"Uniprot_Seqs\":[], \"BS_4A\":[], \"BS_8A\":[]}\n",
    "\n",
    "for PID in list(binding_sites_4A_dict.keys()):\n",
    "    uniprot_binding_sites_dict[\"Uniprot_IDs\"].append(PID)\n",
    "    uniprot_binding_sites_dict[\"Uniprot_Seqs\"].append(protein_seqs_dict[PID])\n",
    "\n",
    "    BS_4A = sorted(list(set(binding_sites_4A_dict[PID])))\n",
    "    BS_4A = list(map(str, BS_4A))\n",
    "    uniprot_binding_sites_dict[\"BS_4A\"].append(\",\".join(BS_4A))\n",
    "\n",
    "    BS_8A = sorted(list(set(binding_sites_8A_dict[PID])))\n",
    "\n",
    "    BS_8A = list(map(str, BS_8A))\n",
    "    uniprot_binding_sites_dict[\"BS_8A\"].append(\",\".join(BS_8A))\n",
    "\n",
    "uniprot_binding_sites_df = pd.DataFrame(uniprot_binding_sites_dict)\n",
    "uniprot_binding_sites_df.to_csv(f\"../../input_data/PDB/BS/Training_BS_labels.tsv\", sep = \"\\t\", index = False)"
   ]
  },
  {
   "cell_type": "code",
   "execution_count": null,
   "id": "071fbb1f",
   "metadata": {},
   "outputs": [],
   "source": []
  }
 ],
 "metadata": {
  "kernelspec": {
   "display_name": "Python 3 (ipykernel)",
   "language": "python",
   "name": "python3"
  },
  "language_info": {
   "codemirror_mode": {
    "name": "ipython",
    "version": 3
   },
   "file_extension": ".py",
   "mimetype": "text/x-python",
   "name": "python",
   "nbconvert_exporter": "python",
   "pygments_lexer": "ipython3",
   "version": "3.7.16"
  }
 },
 "nbformat": 4,
 "nbformat_minor": 5
}
