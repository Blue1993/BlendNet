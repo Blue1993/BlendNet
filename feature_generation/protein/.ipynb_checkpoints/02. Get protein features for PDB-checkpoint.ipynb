{
 "cells": [
  {
   "cell_type": "code",
   "execution_count": 1,
   "id": "d5242251",
   "metadata": {},
   "outputs": [],
   "source": [
    "import re\n",
    "import torch\n",
    "import pickle\n",
    "import argparse\n",
    "import numpy as np\n",
    "import pandas as pd\n",
    "\n",
    "from transformers import BertModel, BertTokenizer"
   ]
  },
  {
   "cell_type": "markdown",
   "id": "5a3eb5d7",
   "metadata": {},
   "source": [
    "### 1. Load data"
   ]
  },
  {
   "cell_type": "code",
   "execution_count": 2,
   "id": "ac5b6664",
   "metadata": {},
   "outputs": [],
   "source": [
    "PDBbind_df = pd.read_csv(\"../../input_data/PDB/BA/Training_BA_data.tsv\", sep = \"\\t\")\n",
    "PDBbind_uniprot_IDs, PDBbind_uniprot_seqs = PDBbind_df.iloc[:, 1].values, PDBbind_df.iloc[:, 4].values\n",
    "\n",
    "CASF2016_df = pd.read_csv(\"../../input_data/PDB/BA/CASF2016_BA_data.tsv\", sep = \"\\t\")\n",
    "CASF2016_uniprot_IDs, CASF2016_uniprot_seqs = CASF2016_df.iloc[:, 1].values, CASF2016_df.iloc[:, 4].values\n",
    "\n",
    "CASF2013_df = pd.read_csv(\"../../input_data/PDB/BA/CASF2013_BA_data.tsv\", sep = \"\\t\")\n",
    "CASF2013_uniprot_IDs, CASF2013_uniprot_seqs = CASF2013_df.iloc[:, 1].values, CASF2013_df.iloc[:, 4].values\n",
    "\n",
    "CSAR2014_df = pd.read_csv(\"../../input_data/PDB/BA/CSAR2014_BA_data.tsv\", sep = \"\\t\")\n",
    "CSAR2014_uniprot_IDs, CSAR2014_uniprot_seqs = CSAR2014_df.iloc[:, 1].values, CSAR2014_df.iloc[:, 4].values\n",
    "\n",
    "CSAR2012_df = pd.read_csv(\"../../input_data/PDB/BA/CSAR2012_BA_data.tsv\", sep = \"\\t\")\n",
    "CSAR2012_uniprot_IDs, CSAR2012_uniprot_seqs = CSAR2012_df.iloc[:, 1].values, CSAR2012_df.iloc[:, 4].values\n",
    "\n",
    "CSARset1_df = pd.read_csv(\"../../input_data/PDB/BA/CSARset1_BA_data.tsv\", sep = \"\\t\")\n",
    "CSARset1_uniprot_IDs, CSARset1_uniprot_seqs = CSARset1_df.iloc[:, 1].values, CSARset1_df.iloc[:, 4].values\n",
    "\n",
    "CSARset2_df = pd.read_csv(\"../../input_data/PDB/BA/CSARset2_BA_data.tsv\", sep = \"\\t\")\n",
    "CSARset2_uniprot_IDs, CSARset2_uniprot_seqs = CSARset2_df.iloc[:, 1].values, CSARset2_df.iloc[:, 4].values\n",
    "\n",
    "Astex_df = pd.read_csv(\"../../input_data/PDB/BA/Astex_BA_data.tsv\", sep = \"\\t\")\n",
    "Astex_uniprot_IDs, Astex_uniprot_seqs = Astex_df.iloc[:, 1].values, Astex_df.iloc[:, 4].values\n",
    "\n",
    "COACH420_df = pd.read_csv(\"../../input_data/PDB/BA/COACH420_IS_data.tsv\", sep = \"\\t\")\n",
    "COACH420_uniprot_IDs, COACH420_uniprot_seqs = COACH420_df.iloc[:, 1].values, COACH420_df.iloc[:, 3].values\n",
    "\n",
    "HOLO4K_df = pd.read_csv(\"../../input_data/PDB/BA/HOLO4K_IS_data.tsv\", sep = \"\\t\")\n",
    "HOLO4K_uniprot_IDs, HOLO4K_uniprot_seqs = HOLO4K_df.iloc[:, 1].values, HOLO4K_df.iloc[:, 3].values"
   ]
  },
  {
   "cell_type": "markdown",
   "id": "68af5178",
   "metadata": {},
   "source": [
    "### 2. Get protein features"
   ]
  },
  {
   "cell_type": "code",
   "execution_count": 3,
   "id": "beb3a403",
   "metadata": {},
   "outputs": [],
   "source": [
    "def get_info(dataset, uniprot_ids, uniprot_seqs):\n",
    "    protein_seqs_dict = dict()\n",
    "    \n",
    "    for i, s in zip(uniprot_ids, uniprot_seqs):\n",
    "        protein_seqs_dict[i] = s\n",
    "    print(f\"[{dataset}] Uniprot_IDs: {len(protein_seqs_dict)}\")\n",
    "    \n",
    "    return protein_seqs_dict"
   ]
  },
  {
   "cell_type": "code",
   "execution_count": 4,
   "id": "1925be00",
   "metadata": {},
   "outputs": [
    {
     "name": "stdout",
     "output_type": "stream",
     "text": [
      "[PDBbind] Uniprot_IDs: 2422\n",
      "[CASF2016] Uniprot_IDs: 63\n",
      "[CASF2013] Uniprot_IDs: 63\n",
      "[CSAR2014] Uniprot_IDs: 3\n",
      "[CSAR2012] Uniprot_IDs: 7\n",
      "[CSARset1] Uniprot_IDs: 107\n",
      "[CSARset2] Uniprot_IDs: 86\n",
      "[Astex] Uniprot_IDs: 72\n",
      "[COACH420] Uniprot_IDs: 239\n",
      "[HOLO4K] Uniprot_IDs: 1086\n"
     ]
    }
   ],
   "source": [
    "PDBbind_protein_seqs_dict = get_info(\"PDBbind\", PDBbind_uniprot_IDs, PDBbind_uniprot_seqs)\n",
    "CASF2016_protein_seqs_dict = get_info(\"CASF2016\", CASF2016_uniprot_IDs, CASF2016_uniprot_seqs)\n",
    "CASF2013_protein_seqs_dict = get_info(\"CASF2013\", CASF2013_uniprot_IDs, CASF2013_uniprot_seqs)\n",
    "CSAR2014_protein_seqs_dict = get_info(\"CSAR2014\", CSAR2014_uniprot_IDs, CSAR2014_uniprot_seqs)\n",
    "CSAR2012_protein_seqs_dict = get_info(\"CSAR2012\", CSAR2012_uniprot_IDs, CSAR2012_uniprot_seqs)\n",
    "CSARset1_protein_seqs_dict = get_info(\"CSARset1\", CSARset1_uniprot_IDs, CSARset1_uniprot_seqs)\n",
    "CSARset2_protein_seqs_dict = get_info(\"CSARset2\", CSARset2_uniprot_IDs, CSARset2_uniprot_seqs)\n",
    "Astex_protein_seqs_dict = get_info(\"Astex\", Astex_uniprot_IDs, Astex_uniprot_seqs)\n",
    "COACH420_protein_seqs_dict = get_info(\"COACH420\", COACH420_uniprot_IDs, COACH420_uniprot_seqs)\n",
    "HOLO4K_protein_seqs_dict = get_info(\"HOLO4K\", HOLO4K_uniprot_IDs, HOLO4K_uniprot_seqs)"
   ]
  },
  {
   "cell_type": "code",
   "execution_count": 5,
   "id": "73981c0e",
   "metadata": {},
   "outputs": [
    {
     "name": "stderr",
     "output_type": "stream",
     "text": [
      "Some weights of the model checkpoint at Rostlab/prot_bert were not used when initializing BertModel: ['cls.predictions.transform.LayerNorm.bias', 'cls.predictions.transform.LayerNorm.weight', 'cls.predictions.decoder.weight', 'cls.seq_relationship.bias', 'cls.predictions.transform.dense.bias', 'cls.predictions.transform.dense.weight', 'cls.seq_relationship.weight', 'cls.predictions.bias', 'cls.predictions.decoder.bias']\n",
      "- This IS expected if you are initializing BertModel from the checkpoint of a model trained on another task or with another architecture (e.g. initializing a BertForSequenceClassification model from a BertForPreTraining model).\n",
      "- This IS NOT expected if you are initializing BertModel from the checkpoint of a model that you expect to be exactly identical (initializing a BertForSequenceClassification model from a BertForSequenceClassification model).\n"
     ]
    }
   ],
   "source": [
    "tokenizer = BertTokenizer.from_pretrained(\"Rostlab/prot_bert\", do_lower_case = False)\n",
    "prots_model = BertModel.from_pretrained(\"Rostlab/prot_bert\") \n",
    "device = torch.device('cuda:0' if torch.cuda.is_available() else 'cpu')\n",
    "\n",
    "prots_model = prots_model.to(device)\n",
    "prots_model = prots_model.eval()"
   ]
  },
  {
   "cell_type": "code",
   "execution_count": 6,
   "id": "10589bc5",
   "metadata": {},
   "outputs": [],
   "source": [
    "def get_features(protein_seqs_dict):\n",
    "    protein_features_dict = dict()\n",
    "    \n",
    "    for PID in list(protein_seqs_dict.keys()):\n",
    "        seqs_example = \" \".join(list(re.sub(r\"[UZOB]\", \"X\", protein_seqs_dict[PID])))\n",
    "\n",
    "        ids = tokenizer.batch_encode_plus([seqs_example], add_special_tokens = True, pad_to_max_length = True)\n",
    "        input_ids = torch.tensor(ids['input_ids']).to(device)\n",
    "        attention_mask = torch.tensor(ids['attention_mask']).to(device) \n",
    "\n",
    "        with torch.no_grad(): \n",
    "            embedding = prots_model(input_ids = input_ids, attention_mask = attention_mask)[0]\n",
    "            embedding = embedding.cpu().numpy()\n",
    "            seq_len = (attention_mask[0] == 1).sum()\n",
    "\n",
    "            if seq_len < 1503:\n",
    "                seq_emd = embedding[0][1:seq_len-1]            \n",
    "\n",
    "            else:\n",
    "                seq_len = 1502\n",
    "                seq_emd = embedding[0][1:seq_len-1]\n",
    "\n",
    "        protein_features_dict[PID] = seq_emd\n",
    "        \n",
    "    return protein_features_dict"
   ]
  },
  {
   "cell_type": "code",
   "execution_count": 7,
   "id": "a3cc5cfe",
   "metadata": {},
   "outputs": [
    {
     "name": "stderr",
     "output_type": "stream",
     "text": [
      "/home/ssm/anaconda3/envs/cma/lib/python3.7/site-packages/transformers/tokenization_utils_base.py:2269: FutureWarning: The `pad_to_max_length` argument is deprecated and will be removed in a future version, use `padding=True` or `padding='longest'` to pad to the longest sequence in the batch, or use `padding='max_length'` to pad to a max length. In this case, you can give a specific length with `max_length` (e.g. `max_length=45`) or leave max_length to None to pad to the maximal input size of the model (e.g. 512 for Bert).\n",
      "  FutureWarning,\n"
     ]
    },
    {
     "name": "stdout",
     "output_type": "stream",
     "text": [
      "PDBbind features: 2422\n"
     ]
    }
   ],
   "source": [
    "PDBbind_features_dict = get_features(PDBbind_protein_seqs_dict)\n",
    "print(f\"PDBbind features: {len(PDBbind_features_dict)}\")\n",
    "with open(\"../../input_data/PDB/BA/Training_protein_features.pkl\", \"wb\") as f:        \n",
    "    pickle.dump(PDBbind_features_dict, f) "
   ]
  },
  {
   "cell_type": "code",
   "execution_count": 8,
   "id": "f020acdc",
   "metadata": {},
   "outputs": [
    {
     "name": "stdout",
     "output_type": "stream",
     "text": [
      "PDBbind features: 63\n"
     ]
    }
   ],
   "source": [
    "CASF2016_features_dict = get_features(CASF2016_protein_seqs_dict)\n",
    "print(f\"PDBbind features: {len(CASF2016_features_dict)}\")\n",
    "with open(\"../../input_data/PDB/BA/CASF2016_protein_features.pkl\", \"wb\") as f:        \n",
    "    pickle.dump(CASF2016_features_dict, f) "
   ]
  },
  {
   "cell_type": "code",
   "execution_count": 10,
   "id": "261812ba",
   "metadata": {},
   "outputs": [
    {
     "name": "stdout",
     "output_type": "stream",
     "text": [
      "CASF2013 features: 63\n"
     ]
    }
   ],
   "source": [
    "CASF2013_features_dict = get_features(CASF2013_protein_seqs_dict)\n",
    "print(f\"CASF2013 features: {len(CASF2013_features_dict)}\")\n",
    "with open(\"../../input_data/PDB/BA/CASF2013_protein_features.pkl\", \"wb\") as f:        \n",
    "    pickle.dump(CASF2013_features_dict, f) "
   ]
  },
  {
   "cell_type": "code",
   "execution_count": 11,
   "id": "035a0cfa",
   "metadata": {},
   "outputs": [
    {
     "name": "stdout",
     "output_type": "stream",
     "text": [
      "CSAR2014 features: 3\n"
     ]
    }
   ],
   "source": [
    "CSAR2014_features_dict = get_features(CSAR2014_protein_seqs_dict)\n",
    "print(f\"CSAR2014 features: {len(CSAR2014_features_dict)}\")\n",
    "with open(\"../../input_data/PDB/BA/CSAR2014_protein_features.pkl\", \"wb\") as f:        \n",
    "    pickle.dump(CSAR2014_features_dict, f) "
   ]
  },
  {
   "cell_type": "code",
   "execution_count": 12,
   "id": "46847c37",
   "metadata": {},
   "outputs": [
    {
     "name": "stdout",
     "output_type": "stream",
     "text": [
      "CSAR2012 features: 7\n"
     ]
    }
   ],
   "source": [
    "CSAR2012_features_dict = get_features(CSAR2012_protein_seqs_dict)\n",
    "print(f\"CSAR2012 features: {len(CSAR2012_features_dict)}\")\n",
    "with open(\"../../input_data/PDB/BA/CSAR2012_protein_features.pkl\", \"wb\") as f:        \n",
    "    pickle.dump(CSAR2012_features_dict, f) "
   ]
  },
  {
   "cell_type": "code",
   "execution_count": 13,
   "id": "4ffef420",
   "metadata": {},
   "outputs": [
    {
     "name": "stdout",
     "output_type": "stream",
     "text": [
      "CSARset1 features: 107\n"
     ]
    }
   ],
   "source": [
    "CSARset1_features_dict = get_features(CSARset1_protein_seqs_dict)\n",
    "print(f\"CSARset1 features: {len(CSARset1_features_dict)}\")\n",
    "with open(\"../../input_data/PDB/BA/CSARset1_protein_features.pkl\", \"wb\") as f:        \n",
    "    pickle.dump(CSARset1_features_dict, f) "
   ]
  },
  {
   "cell_type": "code",
   "execution_count": 14,
   "id": "3f6c068d",
   "metadata": {},
   "outputs": [
    {
     "name": "stdout",
     "output_type": "stream",
     "text": [
      "CSARset2 features: 86\n"
     ]
    }
   ],
   "source": [
    "CSARset2_features_dict = get_features(CSARset2_protein_seqs_dict)\n",
    "print(f\"CSARset2 features: {len(CSARset2_features_dict)}\")\n",
    "with open(\"../../input_data/PDB/BA/CSARset2_protein_features.pkl\", \"wb\") as f:        \n",
    "    pickle.dump(CSARset2_features_dict, f) "
   ]
  },
  {
   "cell_type": "code",
   "execution_count": 15,
   "id": "71cccb30",
   "metadata": {},
   "outputs": [
    {
     "name": "stdout",
     "output_type": "stream",
     "text": [
      "Astex features: 72\n"
     ]
    }
   ],
   "source": [
    "Astex_features_dict = get_features(Astex_protein_seqs_dict)\n",
    "print(f\"Astex features: {len(Astex_features_dict)}\")\n",
    "with open(\"../../input_data/PDB/BA/Astex_protein_features.pkl\", \"wb\") as f:        \n",
    "    pickle.dump(Astex_features_dict, f) "
   ]
  },
  {
   "cell_type": "code",
   "execution_count": 16,
   "id": "d41cf6f9",
   "metadata": {},
   "outputs": [
    {
     "name": "stdout",
     "output_type": "stream",
     "text": [
      "COACH420 features: 239\n"
     ]
    }
   ],
   "source": [
    "COACH420_features_dict = get_features(COACH420_protein_seqs_dict)\n",
    "print(f\"COACH420 features: {len(COACH420_features_dict)}\")\n",
    "with open(\"../../input_data/PDB/BA/COACH420_protein_features.pkl\", \"wb\") as f:        \n",
    "    pickle.dump(COACH420_features_dict, f) "
   ]
  },
  {
   "cell_type": "code",
   "execution_count": 17,
   "id": "0d525504",
   "metadata": {},
   "outputs": [
    {
     "name": "stdout",
     "output_type": "stream",
     "text": [
      "HOLO4K features: 1086\n"
     ]
    }
   ],
   "source": [
    "HOLO4K_features_dict = get_features(HOLO4K_protein_seqs_dict)\n",
    "print(f\"HOLO4K features: {len(HOLO4K_features_dict)}\")\n",
    "with open(\"../../input_data/PDB/BA/HOLO4K_protein_features.pkl\", \"wb\") as f:        \n",
    "    pickle.dump(HOLO4K_features_dict, f) "
   ]
  },
  {
   "cell_type": "code",
   "execution_count": null,
   "id": "a0999e11",
   "metadata": {},
   "outputs": [],
   "source": []
  }
 ],
 "metadata": {
  "kernelspec": {
   "display_name": "Python 3 (ipykernel)",
   "language": "python",
   "name": "python3"
  },
  "language_info": {
   "codemirror_mode": {
    "name": "ipython",
    "version": 3
   },
   "file_extension": ".py",
   "mimetype": "text/x-python",
   "name": "python",
   "nbconvert_exporter": "python",
   "pygments_lexer": "ipython3",
   "version": "3.7.16"
  }
 },
 "nbformat": 4,
 "nbformat_minor": 5
}
