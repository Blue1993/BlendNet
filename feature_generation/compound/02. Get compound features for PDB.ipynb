{
 "cells": [
  {
   "cell_type": "code",
   "execution_count": 1,
   "id": "84d40208",
   "metadata": {},
   "outputs": [],
   "source": [
    "import os\n",
    "import torch\n",
    "import numpy as np\n",
    "import pandas as pd\n",
    "from rdkit import Chem\n",
    "from rdkit.Chem import AllChem\n",
    "from Get_Mol_features import get_mol_features, remove_hydrogen"
   ]
  },
  {
   "cell_type": "markdown",
   "id": "2807b422",
   "metadata": {},
   "source": [
    "### 1. Load data"
   ]
  },
  {
   "cell_type": "code",
   "execution_count": 2,
   "id": "aca0b249",
   "metadata": {
    "scrolled": true
   },
   "outputs": [
    {
     "name": "stdout",
     "output_type": "stream",
     "text": [
      "[PDBbind] unique compounds: 10408\n"
     ]
    }
   ],
   "source": [
    "Training_df = pd.read_csv(\"../../input_data/PDB/BA/Training_BA_data.tsv\", sep = \"\\t\")\n",
    "Training_lig_codes = Training_df.loc[:, \"Ligand_Codes\"].values\n",
    "print(f\"[PDBbind] unique compounds: {len(np.unique(Training_lig_codes))}\")"
   ]
  },
  {
   "cell_type": "code",
   "execution_count": 3,
   "id": "3c8eb4db",
   "metadata": {},
   "outputs": [
    {
     "name": "stdout",
     "output_type": "stream",
     "text": [
      "[CASF2016] unique compounds: 262\n"
     ]
    }
   ],
   "source": [
    "CASF2016_df = pd.read_csv(\"../../input_data/PDB/BA/CASF2016_BA_data.tsv\", sep = \"\\t\")\n",
    "CASF2016_lig_codes = CASF2016_df.loc[:, \"Ligand_Codes\"].values\n",
    "print(f\"[CASF2016] unique compounds: {len(np.unique(CASF2016_lig_codes))}\")"
   ]
  },
  {
   "cell_type": "code",
   "execution_count": 4,
   "id": "2742b28b",
   "metadata": {},
   "outputs": [
    {
     "name": "stdout",
     "output_type": "stream",
     "text": [
      "[CASF2013] unique compounds: 160\n"
     ]
    }
   ],
   "source": [
    "CASF2013_df = pd.read_csv(\"../../input_data/PDB/BA/CASF2013_BA_data.tsv\", sep = \"\\t\")\n",
    "CASF2013_lig_codes = CASF2013_df.loc[:, \"Ligand_Codes\"].values\n",
    "print(f\"[CASF2013] unique compounds: {len(np.unique(CASF2013_lig_codes))}\")"
   ]
  },
  {
   "cell_type": "code",
   "execution_count": 5,
   "id": "73bfae09",
   "metadata": {},
   "outputs": [
    {
     "name": "stdout",
     "output_type": "stream",
     "text": [
      "[CSAR2014] unique compounds: 46\n"
     ]
    }
   ],
   "source": [
    "CSAR2014_df = pd.read_csv(\"../../input_data/PDB/BA/CSAR2014_BA_data.tsv\", sep = \"\\t\")\n",
    "CSAR2014_lig_codes = CSAR2014_df.loc[:, \"Ligand_Codes\"].values\n",
    "print(f\"[CSAR2014] unique compounds: {len(np.unique(CSAR2014_lig_codes))}\")"
   ]
  },
  {
   "cell_type": "code",
   "execution_count": 6,
   "id": "fb1cb6b8",
   "metadata": {},
   "outputs": [
    {
     "name": "stdout",
     "output_type": "stream",
     "text": [
      "[CSAR2012] unique compounds: 54\n"
     ]
    }
   ],
   "source": [
    "CSAR2012_df = pd.read_csv(\"../../input_data/PDB/BA/CSAR2012_BA_data.tsv\", sep = \"\\t\")\n",
    "CSAR2012_lig_codes = CSAR2012_df.loc[:, \"Ligand_Codes\"].values\n",
    "print(f\"[CSAR2012] unique compounds: {len(np.unique(CSAR2012_lig_codes))}\")"
   ]
  },
  {
   "cell_type": "code",
   "execution_count": 7,
   "id": "6f4b9390",
   "metadata": {},
   "outputs": [
    {
     "name": "stdout",
     "output_type": "stream",
     "text": [
      "[CSARset1] unique compounds: 140\n"
     ]
    }
   ],
   "source": [
    "CSARset1_df = pd.read_csv(\"../../input_data/PDB/BA/CSARset1_BA_data.tsv\", sep = \"\\t\")\n",
    "CSARset1_lig_codes = CSARset1_df.loc[:, \"Ligand_Codes\"].values\n",
    "print(f\"[CSARset1] unique compounds: {len(np.unique(CSARset1_lig_codes))}\")"
   ]
  },
  {
   "cell_type": "code",
   "execution_count": 8,
   "id": "ab7f619e",
   "metadata": {},
   "outputs": [
    {
     "name": "stdout",
     "output_type": "stream",
     "text": [
      "[CSARset2] unique compounds: 120\n"
     ]
    }
   ],
   "source": [
    "CSARset2_df = pd.read_csv(\"../../input_data/PDB/BA/CSARset2_BA_data.tsv\", sep = \"\\t\")\n",
    "CSARset2_lig_codes = CSARset2_df.loc[:, \"Ligand_Codes\"].values\n",
    "print(f\"[CSARset2] unique compounds: {len(np.unique(CSARset2_lig_codes))}\")"
   ]
  },
  {
   "cell_type": "code",
   "execution_count": 9,
   "id": "20df2bd9",
   "metadata": {},
   "outputs": [
    {
     "name": "stdout",
     "output_type": "stream",
     "text": [
      "[Astex] unique compounds: 72\n"
     ]
    }
   ],
   "source": [
    "Astex_df = pd.read_csv(\"../../input_data/PDB/BA/Astex_BA_data.tsv\", sep = \"\\t\")\n",
    "Astex_lig_codes = Astex_df.loc[:, \"Ligand_Codes\"].values\n",
    "print(f\"[Astex] unique compounds: {len(np.unique(Astex_lig_codes))}\")"
   ]
  },
  {
   "cell_type": "code",
   "execution_count": 10,
   "id": "06c94da4",
   "metadata": {},
   "outputs": [
    {
     "name": "stdout",
     "output_type": "stream",
     "text": [
      "[COACH420] unique compounds: 232\n"
     ]
    }
   ],
   "source": [
    "COACH420_df = pd.read_csv(\"../../input_data/PDB/BA/COACH420_IS_data.tsv\", sep = \"\\t\")\n",
    "COACH420_lig_codes = COACH420_df.loc[:, \"Ligand_Codes\"].values\n",
    "print(f\"[COACH420] unique compounds: {len(np.unique(COACH420_lig_codes))}\")"
   ]
  },
  {
   "cell_type": "code",
   "execution_count": 11,
   "id": "0fd8f9a1",
   "metadata": {},
   "outputs": [
    {
     "name": "stdout",
     "output_type": "stream",
     "text": [
      "[HOLO4K] unique compounds: 1476\n"
     ]
    }
   ],
   "source": [
    "HOLO4K_df = pd.read_csv(\"../../input_data/PDB/BA/HOLO4K_IS_data.tsv\", sep = \"\\t\")\n",
    "HOLO4K_lig_codes = HOLO4K_df.loc[:, \"Ligand_Codes\"].values\n",
    "print(f\"[HOLO4K] unique compounds: {len(np.unique(HOLO4K_lig_codes))}\")"
   ]
  },
  {
   "cell_type": "code",
   "execution_count": 12,
   "id": "e7307493",
   "metadata": {},
   "outputs": [
    {
     "name": "stdout",
     "output_type": "stream",
     "text": [
      "[Total] unique compounds: 11995\n",
      "\n"
     ]
    }
   ],
   "source": [
    "total_lig_codes = np.unique(np.concatenate((Training_lig_codes, CASF2016_lig_codes, CASF2013_lig_codes, CSAR2014_lig_codes, CSAR2012_lig_codes, CSARset1_lig_codes, CSARset2_lig_codes, Astex_lig_codes, COACH420_lig_codes, HOLO4K_lig_codes)))\n",
    "print(f\"[Total] unique compounds: {len(total_lig_codes)}\")\n",
    "print()"
   ]
  },
  {
   "cell_type": "markdown",
   "id": "5c825a3b",
   "metadata": {},
   "source": [
    "### 2. Get molecular graph features"
   ]
  },
  {
   "cell_type": "code",
   "execution_count": 13,
   "id": "d86fb628",
   "metadata": {},
   "outputs": [],
   "source": [
    "atom_slices, edge_slices = [0], [0]\n",
    "all_atom_features, all_edge_features = list(), list()\n",
    "edge_indices, total_n_atoms, id_list = list(), list(), list()\n",
    "\n",
    "total_atoms, total_edges = 0, 0\n",
    "avg_degree = 0"
   ]
  },
  {
   "cell_type": "code",
   "execution_count": 14,
   "id": "4eb29d96",
   "metadata": {},
   "outputs": [],
   "source": [
    "path = \"../../Preprocessing_PDB/data/PDB/ligand\""
   ]
  },
  {
   "cell_type": "code",
   "execution_count": 15,
   "id": "98f927ad",
   "metadata": {
    "scrolled": true
   },
   "outputs": [
    {
     "name": "stdout",
     "output_type": "stream",
     "text": [
      "0 11995\n",
      "1000 11995\n"
     ]
    },
    {
     "name": "stderr",
     "output_type": "stream",
     "text": [
      "[22:16:35] WARNING: not removing hydrogen atom with neighbor that has non-tetrahedral stereochemistry\n"
     ]
    },
    {
     "name": "stdout",
     "output_type": "stream",
     "text": [
      "2000 11995\n",
      "3000 11995\n",
      "4000 11995\n",
      "5000 11995\n",
      "6000 11995\n",
      "7000 11995\n"
     ]
    },
    {
     "name": "stderr",
     "output_type": "stream",
     "text": [
      "[22:16:38] Warning: molecule is tagged as 3D, but all Z coords are zero\n"
     ]
    },
    {
     "name": "stdout",
     "output_type": "stream",
     "text": [
      "8000 11995\n",
      "9000 11995\n"
     ]
    },
    {
     "name": "stderr",
     "output_type": "stream",
     "text": [
      "[22:16:40] WARNING: not removing hydrogen atom with neighbor that has non-tetrahedral stereochemistry\n"
     ]
    },
    {
     "name": "stdout",
     "output_type": "stream",
     "text": [
      "10000 11995\n",
      "11000 11995\n"
     ]
    }
   ],
   "source": [
    "for mol_idx, lig_code in enumerate(total_lig_codes):\n",
    "    if mol_idx % 1000 == 0:\n",
    "        print(mol_idx, len(total_lig_codes))\n",
    "    sdf_path = os.path.join(path, f\"{lig_code}_ideal.sdf\")\n",
    "    suppl = Chem.SDMolSupplier(sdf_path, removeHs = True)\n",
    "\n",
    "    mol = next(iter(suppl))\n",
    "        \n",
    "    n_atoms = len(mol.GetAtoms()) \n",
    "\n",
    "    atom_features_list, edge_index, edge_features, n_edges = get_mol_features(mol)\n",
    "\n",
    "    if atom_features_list == 0:\n",
    "        print(\"Please remove the SDF files below and preprocess once again.\")\n",
    "        print(sdf_path)\n",
    "        break \n",
    "\n",
    "    if lig_code in [\"313\", \"M2T\"]:\n",
    "        n_atoms, atom_features_list, edge_features, edge_index, n_edges = remove_hydrogen(atom_features_list, edge_index, edge_features)\n",
    "\n",
    "    all_atom_features.append(torch.tensor(atom_features_list, dtype=torch.long))\n",
    "\n",
    "    avg_degree += (n_edges / 2) / n_atoms \n",
    "    edge_indices.append(edge_index)\n",
    "    all_edge_features.append(edge_features)\n",
    "\n",
    "    total_edges += n_edges\n",
    "    total_atoms += n_atoms\n",
    "    total_n_atoms.append(n_atoms)\n",
    "\n",
    "    edge_slices.append(total_edges)\n",
    "    atom_slices.append(total_atoms)\n",
    "\n",
    "    id_list.append(lig_code)"
   ]
  },
  {
   "cell_type": "code",
   "execution_count": 16,
   "id": "c313fde1",
   "metadata": {},
   "outputs": [],
   "source": [
    "data_dict = {'mol_ids':id_list,\n",
    "             'n_atoms':torch.tensor(total_n_atoms, dtype=torch.long),\n",
    "             'atom_slices':torch.tensor(atom_slices, dtype=torch.long),\n",
    "             'edge_slices':torch.tensor(edge_slices, dtype=torch.long),\n",
    "             'edge_indices':torch.cat(edge_indices, dim=1),\n",
    "             'atom_features':torch.cat(all_atom_features, dim=0),\n",
    "             'edge_features':torch.cat(all_edge_features, dim=0),\n",
    "             'avg_degree':avg_degree / len(id_list)}"
   ]
  },
  {
   "cell_type": "code",
   "execution_count": 17,
   "id": "0b93b827",
   "metadata": {},
   "outputs": [],
   "source": [
    "torch.save(data_dict, f\"../../input_data/PDB/BA/PDB_graph_data.pt\")"
   ]
  },
  {
   "cell_type": "code",
   "execution_count": 18,
   "id": "2901bcf1",
   "metadata": {},
   "outputs": [
    {
     "name": "stdout",
     "output_type": "stream",
     "text": [
      "Molecular graphs: 11995\n"
     ]
    }
   ],
   "source": [
    "print(f\"Molecular graphs: {len(id_list)}\")"
   ]
  },
  {
   "cell_type": "code",
   "execution_count": null,
   "id": "cda1ae0a",
   "metadata": {},
   "outputs": [],
   "source": []
  },
  {
   "cell_type": "code",
   "execution_count": null,
   "id": "4fdc2025",
   "metadata": {},
   "outputs": [],
   "source": []
  },
  {
   "cell_type": "code",
   "execution_count": null,
   "id": "c295e073",
   "metadata": {},
   "outputs": [],
   "source": []
  },
  {
   "cell_type": "code",
   "execution_count": null,
   "id": "38e9e323",
   "metadata": {},
   "outputs": [],
   "source": []
  }
 ],
 "metadata": {
  "kernelspec": {
   "display_name": "Python 3 (ipykernel)",
   "language": "python",
   "name": "python3"
  },
  "language_info": {
   "codemirror_mode": {
    "name": "ipython",
    "version": 3
   },
   "file_extension": ".py",
   "mimetype": "text/x-python",
   "name": "python",
   "nbconvert_exporter": "python",
   "pygments_lexer": "ipython3",
   "version": "3.7.16"
  }
 },
 "nbformat": 4,
 "nbformat_minor": 5
}
