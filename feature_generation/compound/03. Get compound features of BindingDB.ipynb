{
 "cells": [
  {
   "cell_type": "code",
   "execution_count": 1,
   "id": "82712aa4",
   "metadata": {},
   "outputs": [],
   "source": [
    "import torch\n",
    "import numpy as np\n",
    "import pandas as pd\n",
    "from rdkit import Chem\n",
    "from rdkit.Chem import AllChem\n",
    "from Get_Mol_features import get_mol_features, remove_hydrogen"
   ]
  },
  {
   "cell_type": "markdown",
   "id": "de249868",
   "metadata": {},
   "source": [
    "### 1. Load data"
   ]
  },
  {
   "cell_type": "code",
   "execution_count": 3,
   "id": "78a0c57b",
   "metadata": {
    "scrolled": true
   },
   "outputs": [
    {
     "name": "stdout",
     "output_type": "stream",
     "text": [
      "[IC50] unique compounds: 582841\n"
     ]
    }
   ],
   "source": [
    "IC50_df = pd.read_csv(\"../../input_data/BindingDB/IC50_data.tsv\", sep = \"\\t\")\n",
    "IC50_cid, IC50_iso_SMILES = IC50_df.loc[:, \"CID\"], IC50_df.loc[:, \"SMILES_iso\"]\n",
    "print(f\"[IC50] unique compounds: {len(np.unique(IC50_cid))}\")"
   ]
  },
  {
   "cell_type": "code",
   "execution_count": 4,
   "id": "91620004",
   "metadata": {},
   "outputs": [
    {
     "name": "stdout",
     "output_type": "stream",
     "text": [
      "[Ki] unique compounds: 183546\n"
     ]
    }
   ],
   "source": [
    "Ki_df = pd.read_csv(\"../../input_data/BindingDB/Ki_data.tsv\", sep = \"\\t\")\n",
    "Ki_cid, Ki_iso_SMILES = Ki_df.loc[:, \"CID\"], Ki_df.loc[:, \"SMILES_iso\"]\n",
    "print(f\"[Ki] unique compounds: {len(np.unique(Ki_cid))}\")"
   ]
  },
  {
   "cell_type": "code",
   "execution_count": 5,
   "id": "1ed668fc",
   "metadata": {},
   "outputs": [
    {
     "name": "stdout",
     "output_type": "stream",
     "text": [
      "[Total]: 737776\n"
     ]
    }
   ],
   "source": [
    "total_cid = np.unique(np.concatenate((Ki_cid, IC50_cid)))\n",
    "print(f\"[Total]: {len(total_cid)}\")"
   ]
  },
  {
   "cell_type": "markdown",
   "id": "bf1aaf36",
   "metadata": {},
   "source": [
    "### 2. Get molecular graph"
   ]
  },
  {
   "cell_type": "code",
   "execution_count": 6,
   "id": "a0d56411",
   "metadata": {},
   "outputs": [],
   "source": [
    "atom_slices, edge_slices = [0], [0]\n",
    "all_atom_features, all_edge_features = list(), list()\n",
    "edge_indices, total_n_atoms, id_list = list(), list(), list()\n",
    "total_atoms, total_edges = 0, 0\n",
    "avg_degree = 0"
   ]
  },
  {
   "cell_type": "code",
   "execution_count": 7,
   "id": "f7b24b2a",
   "metadata": {},
   "outputs": [],
   "source": [
    "path = \"../../preprocessing_BindingDB/data/sdf/\""
   ]
  },
  {
   "cell_type": "code",
   "execution_count": null,
   "id": "58f432ff",
   "metadata": {},
   "outputs": [],
   "source": [
    "for mol_idx, lig_code in tqdm(enumerate(total_cid)):\n",
    "    if mol_idx % 500 == 0:\n",
    "        print(mol_idx, len(total_cid))\n",
    "    sdf_path = os.path.join(path, f\"{lig_code}.sdf\")\n",
    "    suppl = Chem.SDMolSupplier(sdf_path, removeHs = True)\n",
    "\n",
    "    mol = next(iter(suppl))\n",
    "\n",
    "    n_atoms = len(mol.GetAtoms())\n",
    "\n",
    "    atom_features_list, edge_index, edge_features, n_edges = get_mol_features(mol)\n",
    "\n",
    "    all_atom_features.append(torch.tensor(atom_features_list, dtype=torch.long))\n",
    "\n",
    "    if atom_features_list == 0:\n",
    "        print(\"Please remove the SDF files below and preprocess once again.\")\n",
    "        print(sdf_path)\n",
    "        break \n",
    "\n",
    "    avg_degree += (n_edges / 2) / n_atoms \n",
    "    edge_indices.append(edge_index)\n",
    "    all_edge_features.append(edge_features)\n",
    "\n",
    "    total_edges += n_edges\n",
    "    total_atoms += n_atoms\n",
    "    total_n_atoms.append(n_atoms)\n",
    "\n",
    "    edge_slices.append(total_edges)\n",
    "    atom_slices.append(total_atoms)\n",
    "\n",
    "    id_list.append(lig_code)"
   ]
  },
  {
   "cell_type": "code",
   "execution_count": null,
   "id": "018ae4e2",
   "metadata": {},
   "outputs": [],
   "source": [
    "data_dict = {'mol_ids':id_list,\n",
    "             'n_atoms':torch.tensor(total_n_atoms, dtype=torch.long),\n",
    "             'atom_slices':torch.tensor(atom_slices, dtype=torch.long),\n",
    "             'edge_slices':torch.tensor(edge_slices, dtype=torch.long),\n",
    "             'edge_indices':torch.cat(edge_indices, dim=1),\n",
    "             'atom_features':torch.cat(all_atom_features, dim=0),\n",
    "             'edge_features':torch.cat(all_edge_features, dim=0),\n",
    "             'avg_degree':avg_degree / len(id_list)}"
   ]
  },
  {
   "cell_type": "code",
   "execution_count": null,
   "id": "3d9dd7c4",
   "metadata": {},
   "outputs": [],
   "source": [
    "torch.save(data_dict, f\"../../input_data/BindingDB/BindingDB_graph_data.pt\")"
   ]
  },
  {
   "cell_type": "code",
   "execution_count": null,
   "id": "0167bb4f",
   "metadata": {},
   "outputs": [],
   "source": [
    "print(f\"Molecular graphs: {len(data_list)}\")"
   ]
  },
  {
   "cell_type": "code",
   "execution_count": null,
   "id": "307cc3b7",
   "metadata": {},
   "outputs": [],
   "source": []
  },
  {
   "cell_type": "code",
   "execution_count": null,
   "id": "2bdc1b9a",
   "metadata": {},
   "outputs": [],
   "source": []
  },
  {
   "cell_type": "code",
   "execution_count": null,
   "id": "232412b5",
   "metadata": {},
   "outputs": [],
   "source": []
  },
  {
   "cell_type": "code",
   "execution_count": null,
   "id": "d9ac1144",
   "metadata": {},
   "outputs": [],
   "source": []
  }
 ],
 "metadata": {
  "kernelspec": {
   "display_name": "Python 3 (ipykernel)",
   "language": "python",
   "name": "python3"
  },
  "language_info": {
   "codemirror_mode": {
    "name": "ipython",
    "version": 3
   },
   "file_extension": ".py",
   "mimetype": "text/x-python",
   "name": "python",
   "nbconvert_exporter": "python",
   "pygments_lexer": "ipython3",
   "version": "3.7.16"
  }
 },
 "nbformat": 4,
 "nbformat_minor": 5
}
